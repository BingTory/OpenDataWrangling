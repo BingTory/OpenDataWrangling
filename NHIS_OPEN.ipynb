{
 "cells": [
  {
   "cell_type": "markdown",
   "metadata": {},
   "source": [
    "# 의약품처방정보\n",
    "* https://www.data.go.kr/dataset/15007117/fileData.do\n",
    "* 의약품처방정보는 2002년부터 2013년까지의 국민건강보험 가입자 중 의약품처방이력이 있는 각 연도별 수진자 100만 명에 대한 기본정보(성, 연령대, 시도코드 등)와 의약품처방전별 개별 의약품에 대한 처방내역(요양개시일자, 1회투약량, 1일투약량, 총투여일수 등)으로 구성된 개방데이터이다."
   ]
  },
  {
   "cell_type": "code",
   "execution_count": 1,
   "metadata": {},
   "outputs": [
    {
     "name": "stdout",
     "output_type": "stream",
     "text": [
      "\u001b[31mNHIS_OPEN_T60_2016_PART1.csv\u001b[m\u001b[m* \u001b[31mNHIS_OPEN_T60_2016_PART2.csv\u001b[m\u001b[m*\r\n"
     ]
    }
   ],
   "source": [
    "%ls data/NHIS_OPEN_T60_2016"
   ]
  },
  {
   "cell_type": "code",
   "execution_count": 29,
   "metadata": {},
   "outputs": [],
   "source": [
    "import matplotlib.pyplot as plt\n",
    "\n",
    "# Window 의 한글 폰트 설정\n",
    "# plt.rc('font',family='Malgun Gothic')\n",
    "# Mac 의 한글 폰트 설정\n",
    "plt.rc('font', family='AppleGothic') "
   ]
  },
  {
   "cell_type": "code",
   "execution_count": 16,
   "metadata": {},
   "outputs": [],
   "source": [
    "import pandas as pd\n",
    "import numpy as np\n",
    "import seaborn as sns\n",
    "\n",
    "%matplotlib inline"
   ]
  },
  {
   "cell_type": "code",
   "execution_count": 3,
   "metadata": {},
   "outputs": [
    {
     "data": {
      "text/plain": [
       "(20000000, 15)"
      ]
     },
     "execution_count": 3,
     "metadata": {},
     "output_type": "execute_result"
    }
   ],
   "source": [
    "nhis = pd.read_csv('data/NHIS_OPEN_T60_2016/NHIS_OPEN_T60_2016_PART1.csv', encoding='euc-kr')\n",
    "nhis.shape"
   ]
  },
  {
   "cell_type": "code",
   "execution_count": 4,
   "metadata": {},
   "outputs": [
    {
     "data": {
      "text/plain": [
       "Index(['기준년도', '가입자일련번호', '처방내역일련번호', '일련번호', '성별코드', '연령대코드(5세단위)', '시도코드',\n",
       "       '요양개시일자', '약품일반성분명코드', '1회 투약량', '1일 투약량', '총투여일수', '단가', '금액',\n",
       "       '데이터공개일자'],\n",
       "      dtype='object')"
      ]
     },
     "execution_count": 4,
     "metadata": {},
     "output_type": "execute_result"
    }
   ],
   "source": [
    "nhis.columns"
   ]
  },
  {
   "cell_type": "code",
   "execution_count": 5,
   "metadata": {},
   "outputs": [
    {
     "name": "stdout",
     "output_type": "stream",
     "text": [
      "<class 'pandas.core.frame.DataFrame'>\n",
      "RangeIndex: 20000000 entries, 0 to 19999999\n",
      "Data columns (total 15 columns):\n",
      "기준년도           int64\n",
      "가입자일련번호        int64\n",
      "처방내역일련번호       int64\n",
      "일련번호           int64\n",
      "성별코드           int64\n",
      "연령대코드(5세단위)    int64\n",
      "시도코드           int64\n",
      "요양개시일자         int64\n",
      "약품일반성분명코드      object\n",
      "1회 투약량         float64\n",
      "1일 투약량         int64\n",
      "총투여일수          int64\n",
      "단가             float64\n",
      "금액             int64\n",
      "데이터공개일자        int64\n",
      "dtypes: float64(2), int64(12), object(1)\n",
      "memory usage: 2.2+ GB\n"
     ]
    }
   ],
   "source": [
    "nhis.info()"
   ]
  },
  {
   "cell_type": "code",
   "execution_count": 6,
   "metadata": {},
   "outputs": [],
   "source": [
    "nhis['기준년도'] = nhis['기준년도'].astype(str)\n",
    "nhis['성별코드'] = nhis['성별코드'].astype(str)\n",
    "nhis['시도코드'] = nhis['시도코드'].astype(str)\n",
    "nhis['요양개시일자'] = nhis['요양개시일자'].astype(str)\n",
    "nhis['데이터공개일자'] = nhis['데이터공개일자'].astype(str)"
   ]
  },
  {
   "cell_type": "code",
   "execution_count": 7,
   "metadata": {},
   "outputs": [
    {
     "data": {
      "text/plain": [
       "기준년도              0\n",
       "가입자일련번호           0\n",
       "처방내역일련번호          0\n",
       "일련번호              0\n",
       "성별코드              0\n",
       "연령대코드(5세단위)       0\n",
       "시도코드              0\n",
       "요양개시일자            0\n",
       "약품일반성분명코드      1661\n",
       "1회 투약량            0\n",
       "1일 투약량            0\n",
       "총투여일수             0\n",
       "단가                0\n",
       "금액                0\n",
       "데이터공개일자           0\n",
       "dtype: int64"
      ]
     },
     "execution_count": 7,
     "metadata": {},
     "output_type": "execute_result"
    }
   ],
   "source": [
    "nhis.isnull().sum()"
   ]
  },
  {
   "cell_type": "code",
   "execution_count": 8,
   "metadata": {},
   "outputs": [
    {
     "data": {
      "text/html": [
       "<div>\n",
       "<style scoped>\n",
       "    .dataframe tbody tr th:only-of-type {\n",
       "        vertical-align: middle;\n",
       "    }\n",
       "\n",
       "    .dataframe tbody tr th {\n",
       "        vertical-align: top;\n",
       "    }\n",
       "\n",
       "    .dataframe thead th {\n",
       "        text-align: right;\n",
       "    }\n",
       "</style>\n",
       "<table border=\"1\" class=\"dataframe\">\n",
       "  <thead>\n",
       "    <tr style=\"text-align: right;\">\n",
       "      <th></th>\n",
       "      <th>가입자일련번호</th>\n",
       "      <th>처방내역일련번호</th>\n",
       "      <th>일련번호</th>\n",
       "      <th>1회 투약량</th>\n",
       "      <th>1일 투약량</th>\n",
       "      <th>총투여일수</th>\n",
       "      <th>단가</th>\n",
       "      <th>금액</th>\n",
       "    </tr>\n",
       "  </thead>\n",
       "  <tbody>\n",
       "    <tr>\n",
       "      <th>count</th>\n",
       "      <td>20,000,000</td>\n",
       "      <td>20,000,000</td>\n",
       "      <td>20,000,000</td>\n",
       "      <td>20,000,000</td>\n",
       "      <td>20,000,000</td>\n",
       "      <td>20,000,000</td>\n",
       "      <td>20,000,000</td>\n",
       "      <td>20,000,000</td>\n",
       "    </tr>\n",
       "    <tr>\n",
       "      <th>mean</th>\n",
       "      <td>251,892</td>\n",
       "      <td>31,346,455</td>\n",
       "      <td>3</td>\n",
       "      <td>2</td>\n",
       "      <td>2</td>\n",
       "      <td>11</td>\n",
       "      <td>397</td>\n",
       "      <td>5,651</td>\n",
       "    </tr>\n",
       "    <tr>\n",
       "      <th>std</th>\n",
       "      <td>145,518</td>\n",
       "      <td>18,109,616</td>\n",
       "      <td>2</td>\n",
       "      <td>8</td>\n",
       "      <td>1</td>\n",
       "      <td>19</td>\n",
       "      <td>2,228</td>\n",
       "      <td>83,428</td>\n",
       "    </tr>\n",
       "    <tr>\n",
       "      <th>min</th>\n",
       "      <td>1</td>\n",
       "      <td>19</td>\n",
       "      <td>1</td>\n",
       "      <td>0</td>\n",
       "      <td>0</td>\n",
       "      <td>0</td>\n",
       "      <td>0</td>\n",
       "      <td>0</td>\n",
       "    </tr>\n",
       "    <tr>\n",
       "      <th>25%</th>\n",
       "      <td>125,750</td>\n",
       "      <td>15,655,799</td>\n",
       "      <td>2</td>\n",
       "      <td>1</td>\n",
       "      <td>2</td>\n",
       "      <td>3</td>\n",
       "      <td>53</td>\n",
       "      <td>564</td>\n",
       "    </tr>\n",
       "    <tr>\n",
       "      <th>50%</th>\n",
       "      <td>252,444</td>\n",
       "      <td>31,319,294</td>\n",
       "      <td>3</td>\n",
       "      <td>1</td>\n",
       "      <td>3</td>\n",
       "      <td>3</td>\n",
       "      <td>116</td>\n",
       "      <td>1,266</td>\n",
       "    </tr>\n",
       "    <tr>\n",
       "      <th>75%</th>\n",
       "      <td>377,747</td>\n",
       "      <td>47,046,749</td>\n",
       "      <td>4</td>\n",
       "      <td>1</td>\n",
       "      <td>3</td>\n",
       "      <td>7</td>\n",
       "      <td>261</td>\n",
       "      <td>3,654</td>\n",
       "    </tr>\n",
       "    <tr>\n",
       "      <th>max</th>\n",
       "      <td>503,691</td>\n",
       "      <td>62,705,118</td>\n",
       "      <td>56</td>\n",
       "      <td>20,120</td>\n",
       "      <td>80</td>\n",
       "      <td>840</td>\n",
       "      <td>357,142</td>\n",
       "      <td>270,000,000</td>\n",
       "    </tr>\n",
       "  </tbody>\n",
       "</table>\n",
       "</div>"
      ],
      "text/plain": [
       "         가입자일련번호   처방내역일련번호       일련번호     1회 투약량     1일 투약량      총투여일수  \\\n",
       "count 20,000,000 20,000,000 20,000,000 20,000,000 20,000,000 20,000,000   \n",
       "mean     251,892 31,346,455          3          2          2         11   \n",
       "std      145,518 18,109,616          2          8          1         19   \n",
       "min            1         19          1          0          0          0   \n",
       "25%      125,750 15,655,799          2          1          2          3   \n",
       "50%      252,444 31,319,294          3          1          3          3   \n",
       "75%      377,747 47,046,749          4          1          3          7   \n",
       "max      503,691 62,705,118         56     20,120         80        840   \n",
       "\n",
       "              단가          금액  \n",
       "count 20,000,000  20,000,000  \n",
       "mean         397       5,651  \n",
       "std        2,228      83,428  \n",
       "min            0           0  \n",
       "25%           53         564  \n",
       "50%          116       1,266  \n",
       "75%          261       3,654  \n",
       "max      357,142 270,000,000  "
      ]
     },
     "execution_count": 8,
     "metadata": {},
     "output_type": "execute_result"
    }
   ],
   "source": [
    "pd.options.display.float_format = '{:,.0f}'.format\n",
    "nhis.describe()"
   ]
  },
  {
   "cell_type": "code",
   "execution_count": 9,
   "metadata": {
    "scrolled": true
   },
   "outputs": [
    {
     "data": {
      "text/html": [
       "<div>\n",
       "<style scoped>\n",
       "    .dataframe tbody tr th:only-of-type {\n",
       "        vertical-align: middle;\n",
       "    }\n",
       "\n",
       "    .dataframe tbody tr th {\n",
       "        vertical-align: top;\n",
       "    }\n",
       "\n",
       "    .dataframe thead th {\n",
       "        text-align: right;\n",
       "    }\n",
       "</style>\n",
       "<table border=\"1\" class=\"dataframe\">\n",
       "  <thead>\n",
       "    <tr style=\"text-align: right;\">\n",
       "      <th></th>\n",
       "      <th>기준년도</th>\n",
       "      <th>가입자일련번호</th>\n",
       "      <th>처방내역일련번호</th>\n",
       "      <th>일련번호</th>\n",
       "      <th>성별코드</th>\n",
       "      <th>연령대코드(5세단위)</th>\n",
       "      <th>시도코드</th>\n",
       "      <th>요양개시일자</th>\n",
       "      <th>약품일반성분명코드</th>\n",
       "      <th>1회 투약량</th>\n",
       "      <th>1일 투약량</th>\n",
       "      <th>총투여일수</th>\n",
       "      <th>단가</th>\n",
       "      <th>금액</th>\n",
       "      <th>데이터공개일자</th>\n",
       "    </tr>\n",
       "  </thead>\n",
       "  <tbody>\n",
       "    <tr>\n",
       "      <th>0</th>\n",
       "      <td>2016</td>\n",
       "      <td>1</td>\n",
       "      <td>258969</td>\n",
       "      <td>1</td>\n",
       "      <td>2</td>\n",
       "      <td>11</td>\n",
       "      <td>28</td>\n",
       "      <td>20160219</td>\n",
       "      <td>100901ATB</td>\n",
       "      <td>1</td>\n",
       "      <td>2</td>\n",
       "      <td>3</td>\n",
       "      <td>188</td>\n",
       "      <td>1128</td>\n",
       "      <td>20171218</td>\n",
       "    </tr>\n",
       "    <tr>\n",
       "      <th>1</th>\n",
       "      <td>2016</td>\n",
       "      <td>1</td>\n",
       "      <td>258969</td>\n",
       "      <td>2</td>\n",
       "      <td>2</td>\n",
       "      <td>11</td>\n",
       "      <td>28</td>\n",
       "      <td>20160219</td>\n",
       "      <td>152301ATB</td>\n",
       "      <td>1</td>\n",
       "      <td>2</td>\n",
       "      <td>3</td>\n",
       "      <td>115</td>\n",
       "      <td>690</td>\n",
       "      <td>20171218</td>\n",
       "    </tr>\n",
       "    <tr>\n",
       "      <th>2</th>\n",
       "      <td>2016</td>\n",
       "      <td>1</td>\n",
       "      <td>258969</td>\n",
       "      <td>3</td>\n",
       "      <td>2</td>\n",
       "      <td>11</td>\n",
       "      <td>28</td>\n",
       "      <td>20160219</td>\n",
       "      <td>222901ATB</td>\n",
       "      <td>1</td>\n",
       "      <td>2</td>\n",
       "      <td>3</td>\n",
       "      <td>63</td>\n",
       "      <td>378</td>\n",
       "      <td>20171218</td>\n",
       "    </tr>\n",
       "    <tr>\n",
       "      <th>3</th>\n",
       "      <td>2016</td>\n",
       "      <td>1</td>\n",
       "      <td>18744123</td>\n",
       "      <td>3</td>\n",
       "      <td>2</td>\n",
       "      <td>11</td>\n",
       "      <td>28</td>\n",
       "      <td>20161220</td>\n",
       "      <td>421001ATB</td>\n",
       "      <td>1</td>\n",
       "      <td>3</td>\n",
       "      <td>5</td>\n",
       "      <td>103</td>\n",
       "      <td>1545</td>\n",
       "      <td>20171218</td>\n",
       "    </tr>\n",
       "    <tr>\n",
       "      <th>4</th>\n",
       "      <td>2016</td>\n",
       "      <td>1</td>\n",
       "      <td>18744123</td>\n",
       "      <td>2</td>\n",
       "      <td>2</td>\n",
       "      <td>11</td>\n",
       "      <td>28</td>\n",
       "      <td>20161220</td>\n",
       "      <td>101804ACH</td>\n",
       "      <td>1</td>\n",
       "      <td>3</td>\n",
       "      <td>5</td>\n",
       "      <td>81</td>\n",
       "      <td>1215</td>\n",
       "      <td>20171218</td>\n",
       "    </tr>\n",
       "  </tbody>\n",
       "</table>\n",
       "</div>"
      ],
      "text/plain": [
       "   기준년도  가입자일련번호  처방내역일련번호  일련번호 성별코드 연령대코드(5세단위) 시도코드    요양개시일자  약품일반성분명코드  \\\n",
       "0  2016        1    258969     1    2          11   28  20160219  100901ATB   \n",
       "1  2016        1    258969     2    2          11   28  20160219  152301ATB   \n",
       "2  2016        1    258969     3    2          11   28  20160219  222901ATB   \n",
       "3  2016        1  18744123     3    2          11   28  20161220  421001ATB   \n",
       "4  2016        1  18744123     2    2          11   28  20161220  101804ACH   \n",
       "\n",
       "   1회 투약량  1일 투약량  총투여일수  단가    금액   데이터공개일자  \n",
       "0       1       2      3 188  1128  20171218  \n",
       "1       1       2      3 115   690  20171218  \n",
       "2       1       2      3  63   378  20171218  \n",
       "3       1       3      5 103  1545  20171218  \n",
       "4       1       3      5  81  1215  20171218  "
      ]
     },
     "execution_count": 9,
     "metadata": {},
     "output_type": "execute_result"
    }
   ],
   "source": [
    "nhis.head()"
   ]
  },
  {
   "cell_type": "code",
   "execution_count": 20,
   "metadata": {},
   "outputs": [
    {
     "data": {
      "text/html": [
       "<div>\n",
       "<style scoped>\n",
       "    .dataframe tbody tr th:only-of-type {\n",
       "        vertical-align: middle;\n",
       "    }\n",
       "\n",
       "    .dataframe tbody tr th {\n",
       "        vertical-align: top;\n",
       "    }\n",
       "\n",
       "    .dataframe thead th {\n",
       "        text-align: right;\n",
       "    }\n",
       "</style>\n",
       "<table border=\"1\" class=\"dataframe\">\n",
       "  <thead>\n",
       "    <tr style=\"text-align: right;\">\n",
       "      <th></th>\n",
       "      <th>기준년도</th>\n",
       "      <th>가입자일련번호</th>\n",
       "      <th>처방내역일련번호</th>\n",
       "      <th>일련번호</th>\n",
       "      <th>성별코드</th>\n",
       "      <th>연령대코드(5세단위)</th>\n",
       "      <th>시도코드</th>\n",
       "      <th>요양개시일자</th>\n",
       "      <th>약품일반성분명코드</th>\n",
       "      <th>1회 투약량</th>\n",
       "      <th>1일 투약량</th>\n",
       "      <th>총투여일수</th>\n",
       "      <th>단가</th>\n",
       "      <th>금액</th>\n",
       "      <th>데이터공개일자</th>\n",
       "    </tr>\n",
       "  </thead>\n",
       "  <tbody>\n",
       "    <tr>\n",
       "      <th>19999995</th>\n",
       "      <td>2016</td>\n",
       "      <td>503691</td>\n",
       "      <td>47807845</td>\n",
       "      <td>3</td>\n",
       "      <td>1</td>\n",
       "      <td>10</td>\n",
       "      <td>41</td>\n",
       "      <td>20160712</td>\n",
       "      <td>152501ATB</td>\n",
       "      <td>1</td>\n",
       "      <td>2</td>\n",
       "      <td>2</td>\n",
       "      <td>457</td>\n",
       "      <td>1828</td>\n",
       "      <td>20171218</td>\n",
       "    </tr>\n",
       "    <tr>\n",
       "      <th>19999996</th>\n",
       "      <td>2016</td>\n",
       "      <td>503691</td>\n",
       "      <td>47807845</td>\n",
       "      <td>1</td>\n",
       "      <td>1</td>\n",
       "      <td>10</td>\n",
       "      <td>41</td>\n",
       "      <td>20160712</td>\n",
       "      <td>222805ATB</td>\n",
       "      <td>1</td>\n",
       "      <td>3</td>\n",
       "      <td>2</td>\n",
       "      <td>112</td>\n",
       "      <td>672</td>\n",
       "      <td>20171218</td>\n",
       "    </tr>\n",
       "    <tr>\n",
       "      <th>19999997</th>\n",
       "      <td>2016</td>\n",
       "      <td>503691</td>\n",
       "      <td>493075</td>\n",
       "      <td>1</td>\n",
       "      <td>1</td>\n",
       "      <td>10</td>\n",
       "      <td>41</td>\n",
       "      <td>20161001</td>\n",
       "      <td>271800ATB</td>\n",
       "      <td>1</td>\n",
       "      <td>2</td>\n",
       "      <td>5</td>\n",
       "      <td>255</td>\n",
       "      <td>2550</td>\n",
       "      <td>20171218</td>\n",
       "    </tr>\n",
       "    <tr>\n",
       "      <th>19999998</th>\n",
       "      <td>2016</td>\n",
       "      <td>503691</td>\n",
       "      <td>493075</td>\n",
       "      <td>3</td>\n",
       "      <td>1</td>\n",
       "      <td>10</td>\n",
       "      <td>41</td>\n",
       "      <td>20161001</td>\n",
       "      <td>193302ATB</td>\n",
       "      <td>1</td>\n",
       "      <td>2</td>\n",
       "      <td>5</td>\n",
       "      <td>98</td>\n",
       "      <td>980</td>\n",
       "      <td>20171218</td>\n",
       "    </tr>\n",
       "    <tr>\n",
       "      <th>19999999</th>\n",
       "      <td>2016</td>\n",
       "      <td>503691</td>\n",
       "      <td>493075</td>\n",
       "      <td>4</td>\n",
       "      <td>1</td>\n",
       "      <td>10</td>\n",
       "      <td>41</td>\n",
       "      <td>20161001</td>\n",
       "      <td>521601ATB</td>\n",
       "      <td>1</td>\n",
       "      <td>2</td>\n",
       "      <td>5</td>\n",
       "      <td>248</td>\n",
       "      <td>2480</td>\n",
       "      <td>20171218</td>\n",
       "    </tr>\n",
       "  </tbody>\n",
       "</table>\n",
       "</div>"
      ],
      "text/plain": [
       "          기준년도  가입자일련번호  처방내역일련번호  일련번호 성별코드 연령대코드(5세단위) 시도코드    요양개시일자  \\\n",
       "19999995  2016   503691  47807845     3    1          10   41  20160712   \n",
       "19999996  2016   503691  47807845     1    1          10   41  20160712   \n",
       "19999997  2016   503691    493075     1    1          10   41  20161001   \n",
       "19999998  2016   503691    493075     3    1          10   41  20161001   \n",
       "19999999  2016   503691    493075     4    1          10   41  20161001   \n",
       "\n",
       "          약품일반성분명코드  1회 투약량  1일 투약량  총투여일수  단가    금액   데이터공개일자  \n",
       "19999995  152501ATB       1       2      2 457  1828  20171218  \n",
       "19999996  222805ATB       1       3      2 112   672  20171218  \n",
       "19999997  271800ATB       1       2      5 255  2550  20171218  \n",
       "19999998  193302ATB       1       2      5  98   980  20171218  \n",
       "19999999  521601ATB       1       2      5 248  2480  20171218  "
      ]
     },
     "execution_count": 20,
     "metadata": {},
     "output_type": "execute_result"
    }
   ],
   "source": [
    "nhis.tail()"
   ]
  },
  {
   "cell_type": "code",
   "execution_count": 10,
   "metadata": {},
   "outputs": [
    {
     "data": {
      "text/plain": [
       "2016    20000000\n",
       "Name: 기준년도, dtype: int64"
      ]
     },
     "execution_count": 10,
     "metadata": {},
     "output_type": "execute_result"
    }
   ],
   "source": [
    "#2016년 데이터만 있다.\n",
    "nhis['기준년도'].value_counts()"
   ]
  },
  {
   "cell_type": "code",
   "execution_count": 11,
   "metadata": {},
   "outputs": [
    {
     "name": "stdout",
     "output_type": "stream",
     "text": [
      "7316870\n",
      "1\n",
      "76045.62737642585\n",
      "236.0\n"
     ]
    }
   ],
   "source": [
    "total_dose_day = nhis['총투여일수'].value_counts()\n",
    "print(np.max(total_dose_day))\n",
    "print(np.min(total_dose_day))\n",
    "print(np.mean(total_dose_day))\n",
    "print(np.median(total_dose_day))"
   ]
  },
  {
   "cell_type": "code",
   "execution_count": 12,
   "metadata": {},
   "outputs": [
    {
     "data": {
      "text/plain": [
       "2    11266113\n",
       "1     8733887\n",
       "Name: 성별코드, dtype: int64"
      ]
     },
     "execution_count": 12,
     "metadata": {},
     "output_type": "execute_result"
    }
   ],
   "source": [
    "nhis['성별코드'].value_counts()"
   ]
  },
  {
   "cell_type": "code",
   "execution_count": 15,
   "metadata": {},
   "outputs": [
    {
     "data": {
      "text/plain": [
       "성별코드\n",
       "1   6,211\n",
       "2   5,217\n",
       "Name: 금액, dtype: float64"
      ]
     },
     "execution_count": 15,
     "metadata": {},
     "output_type": "execute_result"
    }
   ],
   "source": [
    "nhis.groupby('성별코드')[\"금액\"].mean()"
   ]
  },
  {
   "cell_type": "code",
   "execution_count": 19,
   "metadata": {},
   "outputs": [
    {
     "data": {
      "text/plain": [
       "기준년도\n",
       "2016   5,651\n",
       "Name: 금액, dtype: float64"
      ]
     },
     "execution_count": 19,
     "metadata": {},
     "output_type": "execute_result"
    }
   ],
   "source": [
    "nhis.groupby('기준년도')[\"금액\"].mean()"
   ]
  },
  {
   "cell_type": "code",
   "execution_count": 23,
   "metadata": {},
   "outputs": [],
   "source": [
    "nhis['연령대코드(5세단위)'] = nhis['연령대코드(5세단위)'].astype(int)"
   ]
  },
  {
   "cell_type": "code",
   "execution_count": 30,
   "metadata": {},
   "outputs": [
    {
     "data": {
      "text/plain": [
       "<matplotlib.axes._subplots.AxesSubplot at 0x1b2c3b2e8>"
      ]
     },
     "execution_count": 30,
     "metadata": {},
     "output_type": "execute_result"
    },
    {
     "data": {
      "image/png": "[encoded data removed]",
      "text/plain": [
       "<Figure size 432x288 with 1 Axes>"
      ]
     },
     "metadata": {},
     "output_type": "display_data"
    }
   ],
   "source": [
    "nhis.groupby('연령대코드(5세단위)')[\"금액\"].mean().plot()"
   ]
  },
  {
   "cell_type": "code",
   "execution_count": 31,
   "metadata": {},
   "outputs": [
    {
     "data": {
      "text/plain": [
       "count   20,000,000\n",
       "mean            11\n",
       "std             19\n",
       "min              0\n",
       "25%              3\n",
       "50%              3\n",
       "75%              7\n",
       "max            840\n",
       "Name: 총투여일수, dtype: float64"
      ]
     },
     "execution_count": 31,
     "metadata": {},
     "output_type": "execute_result"
    }
   ],
   "source": [
    "nhis[\"총투여일수\"].describe()"
   ]
  },
  {
   "cell_type": "code",
   "execution_count": 37,
   "metadata": {},
   "outputs": [
    {
     "data": {
      "text/plain": [
       "(135, 15)"
      ]
     },
     "execution_count": 37,
     "metadata": {},
     "output_type": "execute_result"
    }
   ],
   "source": [
    "# 총 투여일수가 1년 이상인 데이터\n",
    "nhis[nhis[\"총투여일수\"] > 365].shape"
   ]
  },
  {
   "cell_type": "code",
   "execution_count": 38,
   "metadata": {},
   "outputs": [
    {
     "data": {
      "text/plain": [
       "<matplotlib.axes._subplots.AxesSubplot at 0x1b31180f0>"
      ]
     },
     "execution_count": 38,
     "metadata": {},
     "output_type": "execute_result"
    },
    {
     "data": {
      "image/png": "[encoded data removed]",
      "text/plain": [
       "<Figure size 432x288 with 1 Axes>"
      ]
     },
     "metadata": {},
     "output_type": "display_data"
    }
   ],
   "source": [
    "# 데이터양이 많아 샘플 1000개에 대해서만 시각화\n",
    "nhis[[\"총투여일수\", \"금액\"]].sample(1000).plot.scatter(x=\"총투여일수\", y=\"금액\")"
   ]
  },
  {
   "cell_type": "code",
   "execution_count": 41,
   "metadata": {},
   "outputs": [
    {
     "data": {
      "text/plain": [
       "(19626311, 15)"
      ]
     },
     "execution_count": 41,
     "metadata": {},
     "output_type": "execute_result"
    }
   ],
   "source": [
    "# 총투여일수가 100일 미만이고 금액이 5만원 미만인 데이터\n",
    "nhis_day_100 = nhis[(nhis[\"총투여일수\"] < 100) & (nhis[\"금액\"] < 50000)]\n",
    "nhis_day_100.shape"
   ]
  },
  {
   "cell_type": "code",
   "execution_count": 43,
   "metadata": {},
   "outputs": [
    {
     "data": {
      "text/plain": [
       "<matplotlib.axes._subplots.AxesSubplot at 0x1b310e320>"
      ]
     },
     "execution_count": 43,
     "metadata": {},
     "output_type": "execute_result"
    },
    {
     "data": {
      "image/png": "[encoded data removed]",
      "text/plain": [
       "<Figure size 432x288 with 1 Axes>"
      ]
     },
     "metadata": {},
     "output_type": "display_data"
    }
   ],
   "source": [
    "# 총투여일수 100일 미안의 scatterplot을 그린다. \n",
    "# 데이터가 많아 임의로 10000개를 샘플링해서 그림\n",
    "nhis_day_100[[\"총투여일수\", \"금액\"]].sample(10000).plot.scatter(x=\"총투여일수\", y=\"금액\")"
   ]
  },
  {
   "cell_type": "code",
   "execution_count": null,
   "metadata": {},
   "outputs": [],
   "source": []
  }
 ],
 "metadata": {
  "kernelspec": {
   "display_name": "Python 3",
   "language": "python",
   "name": "python3"
  },
  "language_info": {
   "codemirror_mode": {
    "name": "ipython",
    "version": 3
   },
   "file_extension": ".py",
   "mimetype": "text/x-python",
   "name": "python",
   "nbconvert_exporter": "python",
   "pygments_lexer": "ipython3",
   "version": "3.6.1"
  },
  "varInspector": {
   "cols": {
    "lenName": 16,
    "lenType": 16,
    "lenVar": 40
   },
   "kernels_config": {
    "python": {
     "delete_cmd_postfix": "",
     "delete_cmd_prefix": "del ",
     "library": "var_list.py",
     "varRefreshCmd": "print(var_dic_list())"
    },
    "r": {
     "delete_cmd_postfix": ") ",
     "delete_cmd_prefix": "rm(",
     "library": "var_list.r",
     "varRefreshCmd": "cat(var_dic_list()) "
    }
   },
   "types_to_exclude": [
    "module",
    "function",
    "builtin_function_or_method",
    "instance",
    "_Feature"
   ],
   "window_display": false
  }
 },
 "nbformat": 4,
 "nbformat_minor": 2
}
