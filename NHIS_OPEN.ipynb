{
 "cells": [
  {
   "cell_type": "markdown",
   "metadata": {},
   "source": [
    "# 의약품처방정보\n",
    "* https://www.data.go.kr/dataset/15007117/fileData.do\n",
    "* 의약품처방정보는 2002년부터 2013년까지의 국민건강보험 가입자 중 의약품처방이력이 있는 각 연도별 수진자 100만 명에 대한 기본정보(성, 연령대, 시도코드 등)와 의약품처방전별 개별 의약품에 대한 처방내역(요양개시일자, 1회투약량, 1일투약량, 총투여일수 등)으로 구성된 개방데이터이다."
   ]
  },
  {
   "cell_type": "code",
   "execution_count": 1,
   "metadata": {},
   "outputs": [
    {
     "name": "stdout",
     "output_type": "stream",
     "text": [
      "\u001b[1m\u001b[31mNHIS_OPEN_T60_2016_PART1.csv\u001b[m\u001b[m* \u001b[1m\u001b[31mNHIS_OPEN_T60_2016_PART2.csv\u001b[m\u001b[m*\n"
     ]
    }
   ],
   "source": [
    "%ls data/NHIS_OPEN_T60_2016"
   ]
  },
  {
   "cell_type": "code",
   "execution_count": 2,
   "metadata": {},
   "outputs": [],
   "source": [
    "import pandas as pd"
   ]
  },
  {
   "cell_type": "code",
   "execution_count": 3,
   "metadata": {},
   "outputs": [
    {
     "data": {
      "text/plain": [
       "(20000000, 15)"
      ]
     },
     "execution_count": 3,
     "metadata": {},
     "output_type": "execute_result"
    }
   ],
   "source": [
    "nhis = pd.read_csv('data/NHIS_OPEN_T60_2016/NHIS_OPEN_T60_2016_PART1.csv', encoding='euc-kr')\n",
    "nhis.shape"
   ]
  },
  {
   "cell_type": "code",
   "execution_count": 4,
   "metadata": {},
   "outputs": [
    {
     "data": {
      "text/plain": [
       "Index(['기준년도', '가입자일련번호', '처방내역일련번호', '일련번호', '성별코드', '연령대코드(5세단위)', '시도코드',\n",
       "       '요양개시일자', '약품일반성분명코드', '1회 투약량', '1일 투약량', '총투여일수', '단가', '금액',\n",
       "       '데이터공개일자'],\n",
       "      dtype='object')"
      ]
     },
     "execution_count": 4,
     "metadata": {},
     "output_type": "execute_result"
    }
   ],
   "source": [
    "nhis.columns"
   ]
  },
  {
   "cell_type": "code",
   "execution_count": 5,
   "metadata": {},
   "outputs": [
    {
     "name": "stdout",
     "output_type": "stream",
     "text": [
      "<class 'pandas.core.frame.DataFrame'>\n",
      "RangeIndex: 20000000 entries, 0 to 19999999\n",
      "Data columns (total 15 columns):\n",
      "기준년도           int64\n",
      "가입자일련번호        int64\n",
      "처방내역일련번호       int64\n",
      "일련번호           int64\n",
      "성별코드           int64\n",
      "연령대코드(5세단위)    int64\n",
      "시도코드           int64\n",
      "요양개시일자         int64\n",
      "약품일반성분명코드      object\n",
      "1회 투약량         float64\n",
      "1일 투약량         int64\n",
      "총투여일수          int64\n",
      "단가             float64\n",
      "금액             int64\n",
      "데이터공개일자        int64\n",
      "dtypes: float64(2), int64(12), object(1)\n",
      "memory usage: 2.2+ GB\n"
     ]
    }
   ],
   "source": [
    "nhis.info()"
   ]
  },
  {
   "cell_type": "code",
   "execution_count": 6,
   "metadata": {},
   "outputs": [
    {
     "data": {
      "text/plain": [
       "기준년도              0\n",
       "가입자일련번호           0\n",
       "처방내역일련번호          0\n",
       "일련번호              0\n",
       "성별코드              0\n",
       "연령대코드(5세단위)       0\n",
       "시도코드              0\n",
       "요양개시일자            0\n",
       "약품일반성분명코드      1661\n",
       "1회 투약량            0\n",
       "1일 투약량            0\n",
       "총투여일수             0\n",
       "단가                0\n",
       "금액                0\n",
       "데이터공개일자           0\n",
       "dtype: int64"
      ]
     },
     "execution_count": 6,
     "metadata": {},
     "output_type": "execute_result"
    }
   ],
   "source": [
    "nhis.isnull().sum()"
   ]
  },
  {
   "cell_type": "code",
   "execution_count": 7,
   "metadata": {},
   "outputs": [
    {
     "data": {
      "text/html": [
       "<div>\n",
       "<style scoped>\n",
       "    .dataframe tbody tr th:only-of-type {\n",
       "        vertical-align: middle;\n",
       "    }\n",
       "\n",
       "    .dataframe tbody tr th {\n",
       "        vertical-align: top;\n",
       "    }\n",
       "\n",
       "    .dataframe thead th {\n",
       "        text-align: right;\n",
       "    }\n",
       "</style>\n",
       "<table border=\"1\" class=\"dataframe\">\n",
       "  <thead>\n",
       "    <tr style=\"text-align: right;\">\n",
       "      <th></th>\n",
       "      <th>기준년도</th>\n",
       "      <th>가입자일련번호</th>\n",
       "      <th>처방내역일련번호</th>\n",
       "      <th>일련번호</th>\n",
       "      <th>성별코드</th>\n",
       "      <th>연령대코드(5세단위)</th>\n",
       "      <th>시도코드</th>\n",
       "      <th>요양개시일자</th>\n",
       "      <th>1회 투약량</th>\n",
       "      <th>1일 투약량</th>\n",
       "      <th>총투여일수</th>\n",
       "      <th>단가</th>\n",
       "      <th>금액</th>\n",
       "      <th>데이터공개일자</th>\n",
       "    </tr>\n",
       "  </thead>\n",
       "  <tbody>\n",
       "    <tr>\n",
       "      <th>count</th>\n",
       "      <td>20,000,000</td>\n",
       "      <td>20,000,000</td>\n",
       "      <td>20,000,000</td>\n",
       "      <td>20,000,000</td>\n",
       "      <td>20,000,000</td>\n",
       "      <td>20,000,000</td>\n",
       "      <td>20,000,000</td>\n",
       "      <td>20,000,000</td>\n",
       "      <td>20,000,000</td>\n",
       "      <td>20,000,000</td>\n",
       "      <td>20,000,000</td>\n",
       "      <td>20,000,000</td>\n",
       "      <td>20,000,000</td>\n",
       "      <td>20,000,000</td>\n",
       "    </tr>\n",
       "    <tr>\n",
       "      <th>mean</th>\n",
       "      <td>2,016</td>\n",
       "      <td>251,892</td>\n",
       "      <td>31,346,455</td>\n",
       "      <td>3</td>\n",
       "      <td>2</td>\n",
       "      <td>9</td>\n",
       "      <td>34</td>\n",
       "      <td>20,160,673</td>\n",
       "      <td>2</td>\n",
       "      <td>2</td>\n",
       "      <td>11</td>\n",
       "      <td>397</td>\n",
       "      <td>5,651</td>\n",
       "      <td>20,171,218</td>\n",
       "    </tr>\n",
       "    <tr>\n",
       "      <th>std</th>\n",
       "      <td>0</td>\n",
       "      <td>145,518</td>\n",
       "      <td>18,109,616</td>\n",
       "      <td>2</td>\n",
       "      <td>0</td>\n",
       "      <td>5</td>\n",
       "      <td>13</td>\n",
       "      <td>359</td>\n",
       "      <td>8</td>\n",
       "      <td>1</td>\n",
       "      <td>19</td>\n",
       "      <td>2,228</td>\n",
       "      <td>83,428</td>\n",
       "      <td>0</td>\n",
       "    </tr>\n",
       "    <tr>\n",
       "      <th>min</th>\n",
       "      <td>2,016</td>\n",
       "      <td>1</td>\n",
       "      <td>19</td>\n",
       "      <td>1</td>\n",
       "      <td>1</td>\n",
       "      <td>1</td>\n",
       "      <td>11</td>\n",
       "      <td>20,160,101</td>\n",
       "      <td>0</td>\n",
       "      <td>0</td>\n",
       "      <td>0</td>\n",
       "      <td>0</td>\n",
       "      <td>0</td>\n",
       "      <td>20,171,218</td>\n",
       "    </tr>\n",
       "    <tr>\n",
       "      <th>25%</th>\n",
       "      <td>2,016</td>\n",
       "      <td>125,750</td>\n",
       "      <td>15,655,799</td>\n",
       "      <td>2</td>\n",
       "      <td>1</td>\n",
       "      <td>4</td>\n",
       "      <td>27</td>\n",
       "      <td>20,160,328</td>\n",
       "      <td>1</td>\n",
       "      <td>2</td>\n",
       "      <td>3</td>\n",
       "      <td>53</td>\n",
       "      <td>564</td>\n",
       "      <td>20,171,218</td>\n",
       "    </tr>\n",
       "    <tr>\n",
       "      <th>50%</th>\n",
       "      <td>2,016</td>\n",
       "      <td>252,444</td>\n",
       "      <td>31,319,294</td>\n",
       "      <td>3</td>\n",
       "      <td>2</td>\n",
       "      <td>10</td>\n",
       "      <td>41</td>\n",
       "      <td>20,160,629</td>\n",
       "      <td>1</td>\n",
       "      <td>3</td>\n",
       "      <td>3</td>\n",
       "      <td>116</td>\n",
       "      <td>1,266</td>\n",
       "      <td>20,171,218</td>\n",
       "    </tr>\n",
       "    <tr>\n",
       "      <th>75%</th>\n",
       "      <td>2,016</td>\n",
       "      <td>377,747</td>\n",
       "      <td>47,046,749</td>\n",
       "      <td>4</td>\n",
       "      <td>2</td>\n",
       "      <td>14</td>\n",
       "      <td>44</td>\n",
       "      <td>20,161,012</td>\n",
       "      <td>1</td>\n",
       "      <td>3</td>\n",
       "      <td>7</td>\n",
       "      <td>261</td>\n",
       "      <td>3,654</td>\n",
       "      <td>20,171,218</td>\n",
       "    </tr>\n",
       "    <tr>\n",
       "      <th>max</th>\n",
       "      <td>2,016</td>\n",
       "      <td>503,691</td>\n",
       "      <td>62,705,118</td>\n",
       "      <td>56</td>\n",
       "      <td>2</td>\n",
       "      <td>18</td>\n",
       "      <td>49</td>\n",
       "      <td>20,161,231</td>\n",
       "      <td>20,120</td>\n",
       "      <td>80</td>\n",
       "      <td>840</td>\n",
       "      <td>357,142</td>\n",
       "      <td>270,000,000</td>\n",
       "      <td>20,171,218</td>\n",
       "    </tr>\n",
       "  </tbody>\n",
       "</table>\n",
       "</div>"
      ],
      "text/plain": [
       "            기준년도    가입자일련번호   처방내역일련번호       일련번호       성별코드  연령대코드(5세단위)  \\\n",
       "count 20,000,000 20,000,000 20,000,000 20,000,000 20,000,000   20,000,000   \n",
       "mean       2,016    251,892 31,346,455          3          2            9   \n",
       "std            0    145,518 18,109,616          2          0            5   \n",
       "min        2,016          1         19          1          1            1   \n",
       "25%        2,016    125,750 15,655,799          2          1            4   \n",
       "50%        2,016    252,444 31,319,294          3          2           10   \n",
       "75%        2,016    377,747 47,046,749          4          2           14   \n",
       "max        2,016    503,691 62,705,118         56          2           18   \n",
       "\n",
       "            시도코드     요양개시일자     1회 투약량     1일 투약량      총투여일수         단가  \\\n",
       "count 20,000,000 20,000,000 20,000,000 20,000,000 20,000,000 20,000,000   \n",
       "mean          34 20,160,673          2          2         11        397   \n",
       "std           13        359          8          1         19      2,228   \n",
       "min           11 20,160,101          0          0          0          0   \n",
       "25%           27 20,160,328          1          2          3         53   \n",
       "50%           41 20,160,629          1          3          3        116   \n",
       "75%           44 20,161,012          1          3          7        261   \n",
       "max           49 20,161,231     20,120         80        840    357,142   \n",
       "\n",
       "               금액    데이터공개일자  \n",
       "count  20,000,000 20,000,000  \n",
       "mean        5,651 20,171,218  \n",
       "std        83,428          0  \n",
       "min             0 20,171,218  \n",
       "25%           564 20,171,218  \n",
       "50%         1,266 20,171,218  \n",
       "75%         3,654 20,171,218  \n",
       "max   270,000,000 20,171,218  "
      ]
     },
     "execution_count": 7,
     "metadata": {},
     "output_type": "execute_result"
    }
   ],
   "source": [
    "pd.options.display.float_format = '{:,.0f}'.format\n",
    "nhis.describe()"
   ]
  },
  {
   "cell_type": "code",
   "execution_count": null,
   "metadata": {},
   "outputs": [],
   "source": []
  }
 ],
 "metadata": {
  "kernelspec": {
   "display_name": "Python 3",
   "language": "python",
   "name": "python3"
  },
  "language_info": {
   "codemirror_mode": {
    "name": "ipython",
    "version": 3
   },
   "file_extension": ".py",
   "mimetype": "text/x-python",
   "name": "python",
   "nbconvert_exporter": "python",
   "pygments_lexer": "ipython3",
   "version": "3.6.1"
  }
 },
 "nbformat": 4,
 "nbformat_minor": 2
}
