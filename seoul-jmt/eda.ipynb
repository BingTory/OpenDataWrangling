{
 "cells": [
  {
   "cell_type": "markdown",
   "metadata": {},
   "source": [
    "# 서울시 업무추진비(2016~2018)"
   ]
  },
  {
   "cell_type": "code",
   "execution_count": 1,
   "metadata": {},
   "outputs": [
    {
     "name": "stdout",
     "output_type": "stream",
     "text": [
      "['NanumBarunGothic']\n"
     ]
    }
   ],
   "source": [
    "import pandas as pd\n",
    "import seaborn as sns\n",
    "import matplotlib.pyplot as plt\n",
    "\n",
    "\n",
    "%matplotlib inline\n",
    "\n",
    "# 폰트설정\n",
    "plt.rcParams['font.family'] = 'NanumBarunGothic'\n",
    "print (plt.rcParams['font.family'] )"
   ]
  },
  {
   "cell_type": "code",
   "execution_count": 2,
   "metadata": {},
   "outputs": [
    {
     "data": {
      "text/plain": [
       "(159600, 20)"
      ]
     },
     "execution_count": 2,
     "metadata": {},
     "output_type": "execute_result"
    }
   ],
   "source": [
    "df = pd.read_csv('data/seoul_city_hall_expense.csv')\n",
    "df.shape"
   ]
  },
  {
   "cell_type": "code",
   "execution_count": 3,
   "metadata": {},
   "outputs": [
    {
     "data": {
      "text/html": [
       "<div>\n",
       "<style scoped>\n",
       "    .dataframe tbody tr th:only-of-type {\n",
       "        vertical-align: middle;\n",
       "    }\n",
       "\n",
       "    .dataframe tbody tr th {\n",
       "        vertical-align: top;\n",
       "    }\n",
       "\n",
       "    .dataframe thead th {\n",
       "        text-align: right;\n",
       "    }\n",
       "</style>\n",
       "<table border=\"1\" class=\"dataframe\">\n",
       "  <thead>\n",
       "    <tr style=\"text-align: right;\">\n",
       "      <th></th>\n",
       "      <th>Unnamed: 0</th>\n",
       "      <th>Unnamed: 1</th>\n",
       "      <th>nid</th>\n",
       "      <th>title</th>\n",
       "      <th>url</th>\n",
       "      <th>dept_nm_lvl_1</th>\n",
       "      <th>dept_nm_lvl_2</th>\n",
       "      <th>dept_nm_lvl_3</th>\n",
       "      <th>dept_nm_lvl_4</th>\n",
       "      <th>dept_nm_lvl_5</th>\n",
       "      <th>exec_yr</th>\n",
       "      <th>exec_month</th>\n",
       "      <th>expense_budget</th>\n",
       "      <th>expense_execution</th>\n",
       "      <th>category</th>\n",
       "      <th>exec_dt</th>\n",
       "      <th>exec_loc</th>\n",
       "      <th>target_nm</th>\n",
       "      <th>payment_method</th>\n",
       "      <th>exec_amount</th>\n",
       "    </tr>\n",
       "  </thead>\n",
       "  <tbody>\n",
       "    <tr>\n",
       "      <th>0</th>\n",
       "      <td>7832320</td>\n",
       "      <td>2016년 1월 서울특별시장 업무추진비 집행내역 공표</td>\n",
       "      <td>http://opengov.seoul.go.kr/public/7832320</td>\n",
       "      <td>서울시본청</td>\n",
       "      <td>서울특별시장</td>\n",
       "      <td>NaN</td>\n",
       "      <td>NaN</td>\n",
       "      <td>NaN</td>\n",
       "      <td>2016</td>\n",
       "      <td>1</td>\n",
       "      <td>380200000.0</td>\n",
       "      <td>13551000.0</td>\n",
       "      <td>시정 관련 간담회 등</td>\n",
       "      <td>행정국 총무과</td>\n",
       "      <td>2016-01-30 12:27</td>\n",
       "      <td>매일한우타운식당(광시면 예당로길)</td>\n",
       "      <td>시정 청년정책 관련 업무협의 간담회</td>\n",
       "      <td>시장 등 12명</td>\n",
       "      <td>카드</td>\n",
       "      <td>250000</td>\n",
       "    </tr>\n",
       "    <tr>\n",
       "      <th>1</th>\n",
       "      <td>7832320</td>\n",
       "      <td>2016년 1월 서울특별시장 업무추진비 집행내역 공표</td>\n",
       "      <td>http://opengov.seoul.go.kr/public/7832320</td>\n",
       "      <td>서울시본청</td>\n",
       "      <td>서울특별시장</td>\n",
       "      <td>NaN</td>\n",
       "      <td>NaN</td>\n",
       "      <td>NaN</td>\n",
       "      <td>2016</td>\n",
       "      <td>1</td>\n",
       "      <td>380200000.0</td>\n",
       "      <td>13551000.0</td>\n",
       "      <td>시정 관련 간담회 등</td>\n",
       "      <td>행정국 총무과</td>\n",
       "      <td>2016-01-30 08:28</td>\n",
       "      <td>청암회관(예산군 덕산면)</td>\n",
       "      <td>시정 충남, 전북 현장 방문 관련 업무협의</td>\n",
       "      <td>시장 등 6명</td>\n",
       "      <td>카드</td>\n",
       "      <td>72000</td>\n",
       "    </tr>\n",
       "    <tr>\n",
       "      <th>2</th>\n",
       "      <td>7832320</td>\n",
       "      <td>2016년 1월 서울특별시장 업무추진비 집행내역 공표</td>\n",
       "      <td>http://opengov.seoul.go.kr/public/7832320</td>\n",
       "      <td>서울시본청</td>\n",
       "      <td>서울특별시장</td>\n",
       "      <td>NaN</td>\n",
       "      <td>NaN</td>\n",
       "      <td>NaN</td>\n",
       "      <td>2016</td>\n",
       "      <td>1</td>\n",
       "      <td>380200000.0</td>\n",
       "      <td>13551000.0</td>\n",
       "      <td>시정 관련 간담회 등</td>\n",
       "      <td>행정국 총무과</td>\n",
       "      <td>2016-01-29 20:06</td>\n",
       "      <td>태원(서구 문정로)</td>\n",
       "      <td>시정 지방자치단체 협력 관련 업무협의</td>\n",
       "      <td>시장 등 3명</td>\n",
       "      <td>카드</td>\n",
       "      <td>107500</td>\n",
       "    </tr>\n",
       "    <tr>\n",
       "      <th>3</th>\n",
       "      <td>7832320</td>\n",
       "      <td>2016년 1월 서울특별시장 업무추진비 집행내역 공표</td>\n",
       "      <td>http://opengov.seoul.go.kr/public/7832320</td>\n",
       "      <td>서울시본청</td>\n",
       "      <td>서울특별시장</td>\n",
       "      <td>NaN</td>\n",
       "      <td>NaN</td>\n",
       "      <td>NaN</td>\n",
       "      <td>2016</td>\n",
       "      <td>1</td>\n",
       "      <td>380200000.0</td>\n",
       "      <td>13551000.0</td>\n",
       "      <td>시정 관련 간담회 등</td>\n",
       "      <td>행정국 총무과</td>\n",
       "      <td>2016-01-29 12:33</td>\n",
       "      <td>고릴라(세종 절재로)</td>\n",
       "      <td>시정 교류 및 협력 관련 업무협의</td>\n",
       "      <td>시장 등 6명</td>\n",
       "      <td>카드</td>\n",
       "      <td>190000</td>\n",
       "    </tr>\n",
       "    <tr>\n",
       "      <th>4</th>\n",
       "      <td>7832320</td>\n",
       "      <td>2016년 1월 서울특별시장 업무추진비 집행내역 공표</td>\n",
       "      <td>http://opengov.seoul.go.kr/public/7832320</td>\n",
       "      <td>서울시본청</td>\n",
       "      <td>서울특별시장</td>\n",
       "      <td>NaN</td>\n",
       "      <td>NaN</td>\n",
       "      <td>NaN</td>\n",
       "      <td>2016</td>\n",
       "      <td>1</td>\n",
       "      <td>380200000.0</td>\n",
       "      <td>13551000.0</td>\n",
       "      <td>시정 관련 간담회 등</td>\n",
       "      <td>행정국 총무과</td>\n",
       "      <td>2016-01-28 00:00</td>\n",
       "      <td>서울시청매점</td>\n",
       "      <td>방문민원 등 접대용품 구입</td>\n",
       "      <td>NaN</td>\n",
       "      <td>카드</td>\n",
       "      <td>485000</td>\n",
       "    </tr>\n",
       "  </tbody>\n",
       "</table>\n",
       "</div>"
      ],
      "text/plain": [
       "   Unnamed: 0                     Unnamed: 1  \\\n",
       "0     7832320  2016년 1월 서울특별시장 업무추진비 집행내역 공표   \n",
       "1     7832320  2016년 1월 서울특별시장 업무추진비 집행내역 공표   \n",
       "2     7832320  2016년 1월 서울특별시장 업무추진비 집행내역 공표   \n",
       "3     7832320  2016년 1월 서울특별시장 업무추진비 집행내역 공표   \n",
       "4     7832320  2016년 1월 서울특별시장 업무추진비 집행내역 공표   \n",
       "\n",
       "                                         nid  title     url dept_nm_lvl_1  \\\n",
       "0  http://opengov.seoul.go.kr/public/7832320  서울시본청  서울특별시장           NaN   \n",
       "1  http://opengov.seoul.go.kr/public/7832320  서울시본청  서울특별시장           NaN   \n",
       "2  http://opengov.seoul.go.kr/public/7832320  서울시본청  서울특별시장           NaN   \n",
       "3  http://opengov.seoul.go.kr/public/7832320  서울시본청  서울특별시장           NaN   \n",
       "4  http://opengov.seoul.go.kr/public/7832320  서울시본청  서울특별시장           NaN   \n",
       "\n",
       "  dept_nm_lvl_2 dept_nm_lvl_3  dept_nm_lvl_4  dept_nm_lvl_5      exec_yr  \\\n",
       "0           NaN           NaN           2016              1  380200000.0   \n",
       "1           NaN           NaN           2016              1  380200000.0   \n",
       "2           NaN           NaN           2016              1  380200000.0   \n",
       "3           NaN           NaN           2016              1  380200000.0   \n",
       "4           NaN           NaN           2016              1  380200000.0   \n",
       "\n",
       "   exec_month expense_budget expense_execution          category  \\\n",
       "0  13551000.0    시정 관련 간담회 등           행정국 총무과  2016-01-30 12:27   \n",
       "1  13551000.0    시정 관련 간담회 등           행정국 총무과  2016-01-30 08:28   \n",
       "2  13551000.0    시정 관련 간담회 등           행정국 총무과  2016-01-29 20:06   \n",
       "3  13551000.0    시정 관련 간담회 등           행정국 총무과  2016-01-29 12:33   \n",
       "4  13551000.0    시정 관련 간담회 등           행정국 총무과  2016-01-28 00:00   \n",
       "\n",
       "              exec_dt                 exec_loc target_nm payment_method  \\\n",
       "0  매일한우타운식당(광시면 예당로길)      시정 청년정책 관련 업무협의 간담회  시장 등 12명             카드   \n",
       "1       청암회관(예산군 덕산면)  시정 충남, 전북 현장 방문 관련 업무협의   시장 등 6명             카드   \n",
       "2          태원(서구 문정로)     시정 지방자치단체 협력 관련 업무협의   시장 등 3명             카드   \n",
       "3         고릴라(세종 절재로)       시정 교류 및 협력 관련 업무협의   시장 등 6명             카드   \n",
       "4              서울시청매점           방문민원 등 접대용품 구입       NaN             카드   \n",
       "\n",
       "   exec_amount  \n",
       "0       250000  \n",
       "1        72000  \n",
       "2       107500  \n",
       "3       190000  \n",
       "4       485000  "
      ]
     },
     "execution_count": 3,
     "metadata": {},
     "output_type": "execute_result"
    }
   ],
   "source": [
    "df.head()"
   ]
  },
  {
   "cell_type": "code",
   "execution_count": 4,
   "metadata": {},
   "outputs": [
    {
     "data": {
      "text/plain": [
       "20"
      ]
     },
     "execution_count": 4,
     "metadata": {},
     "output_type": "execute_result"
    }
   ],
   "source": [
    "# 컬럼 이름에 누락이 있다. 앞에 2개가 빈 이름으로 들어가 있는데 누락된 컬럼을 채워준다.\n",
    "len(df.columns)"
   ]
  },
  {
   "cell_type": "code",
   "execution_count": 5,
   "metadata": {},
   "outputs": [
    {
     "data": {
      "text/plain": [
       "Index(['Unnamed: 0', 'Unnamed: 1', 'nid', 'title', 'url', 'dept_nm_lvl_1',\n",
       "       'dept_nm_lvl_2', 'dept_nm_lvl_3', 'dept_nm_lvl_4', 'dept_nm_lvl_5',\n",
       "       'exec_yr', 'exec_month', 'expense_budget', 'expense_execution',\n",
       "       'category', 'exec_dt', 'exec_loc', 'target_nm', 'payment_method',\n",
       "       'exec_amount'],\n",
       "      dtype='object')"
      ]
     },
     "execution_count": 5,
     "metadata": {},
     "output_type": "execute_result"
    }
   ],
   "source": [
    "df.columns"
   ]
  },
  {
   "cell_type": "markdown",
   "metadata": {},
   "source": [
    "* 사이트에 있는 이름과 동일한 이름으로 변경해 준다.\n",
    "* 연번\t구분\t부서명\t집행일시\t집행장소\t집행목적\t대상인원\t결제방법\t집행금액"
   ]
  },
  {
   "cell_type": "code",
   "execution_count": 6,
   "metadata": {},
   "outputs": [],
   "source": [
    "df.columns = ['nid', 'title', 'url', 'dept_nm_lvl_1',\n",
    "       'dept_nm_lvl_2', 'dept_nm_lvl_3', 'dept_nm_lvl_4', 'dept_nm_lvl_5',\n",
    "       '집행연', '집행월', 'expense_budget', 'expense_execution',\n",
    "       '집행목적', '부서명', '집행일시', 'exec_loc', 'desc', '대상인원', '결제방법',\n",
    "       '집행금액']"
   ]
  },
  {
   "cell_type": "code",
   "execution_count": 7,
   "metadata": {},
   "outputs": [
    {
     "data": {
      "text/html": [
       "<div>\n",
       "<style scoped>\n",
       "    .dataframe tbody tr th:only-of-type {\n",
       "        vertical-align: middle;\n",
       "    }\n",
       "\n",
       "    .dataframe tbody tr th {\n",
       "        vertical-align: top;\n",
       "    }\n",
       "\n",
       "    .dataframe thead th {\n",
       "        text-align: right;\n",
       "    }\n",
       "</style>\n",
       "<table border=\"1\" class=\"dataframe\">\n",
       "  <thead>\n",
       "    <tr style=\"text-align: right;\">\n",
       "      <th></th>\n",
       "      <th>nid</th>\n",
       "      <th>title</th>\n",
       "      <th>url</th>\n",
       "      <th>dept_nm_lvl_1</th>\n",
       "      <th>dept_nm_lvl_2</th>\n",
       "      <th>dept_nm_lvl_3</th>\n",
       "      <th>dept_nm_lvl_4</th>\n",
       "      <th>dept_nm_lvl_5</th>\n",
       "      <th>집행연</th>\n",
       "      <th>집행월</th>\n",
       "      <th>expense_budget</th>\n",
       "      <th>expense_execution</th>\n",
       "      <th>집행목적</th>\n",
       "      <th>부서명</th>\n",
       "      <th>집행일시</th>\n",
       "      <th>exec_loc</th>\n",
       "      <th>desc</th>\n",
       "      <th>대상인원</th>\n",
       "      <th>결제방법</th>\n",
       "      <th>집행금액</th>\n",
       "    </tr>\n",
       "  </thead>\n",
       "  <tbody>\n",
       "    <tr>\n",
       "      <th>0</th>\n",
       "      <td>7832320</td>\n",
       "      <td>2016년 1월 서울특별시장 업무추진비 집행내역 공표</td>\n",
       "      <td>http://opengov.seoul.go.kr/public/7832320</td>\n",
       "      <td>서울시본청</td>\n",
       "      <td>서울특별시장</td>\n",
       "      <td>NaN</td>\n",
       "      <td>NaN</td>\n",
       "      <td>NaN</td>\n",
       "      <td>2016</td>\n",
       "      <td>1</td>\n",
       "      <td>380200000.0</td>\n",
       "      <td>13551000.0</td>\n",
       "      <td>시정 관련 간담회 등</td>\n",
       "      <td>행정국 총무과</td>\n",
       "      <td>2016-01-30 12:27</td>\n",
       "      <td>매일한우타운식당(광시면 예당로길)</td>\n",
       "      <td>시정 청년정책 관련 업무협의 간담회</td>\n",
       "      <td>시장 등 12명</td>\n",
       "      <td>카드</td>\n",
       "      <td>250000</td>\n",
       "    </tr>\n",
       "    <tr>\n",
       "      <th>1</th>\n",
       "      <td>7832320</td>\n",
       "      <td>2016년 1월 서울특별시장 업무추진비 집행내역 공표</td>\n",
       "      <td>http://opengov.seoul.go.kr/public/7832320</td>\n",
       "      <td>서울시본청</td>\n",
       "      <td>서울특별시장</td>\n",
       "      <td>NaN</td>\n",
       "      <td>NaN</td>\n",
       "      <td>NaN</td>\n",
       "      <td>2016</td>\n",
       "      <td>1</td>\n",
       "      <td>380200000.0</td>\n",
       "      <td>13551000.0</td>\n",
       "      <td>시정 관련 간담회 등</td>\n",
       "      <td>행정국 총무과</td>\n",
       "      <td>2016-01-30 08:28</td>\n",
       "      <td>청암회관(예산군 덕산면)</td>\n",
       "      <td>시정 충남, 전북 현장 방문 관련 업무협의</td>\n",
       "      <td>시장 등 6명</td>\n",
       "      <td>카드</td>\n",
       "      <td>72000</td>\n",
       "    </tr>\n",
       "    <tr>\n",
       "      <th>2</th>\n",
       "      <td>7832320</td>\n",
       "      <td>2016년 1월 서울특별시장 업무추진비 집행내역 공표</td>\n",
       "      <td>http://opengov.seoul.go.kr/public/7832320</td>\n",
       "      <td>서울시본청</td>\n",
       "      <td>서울특별시장</td>\n",
       "      <td>NaN</td>\n",
       "      <td>NaN</td>\n",
       "      <td>NaN</td>\n",
       "      <td>2016</td>\n",
       "      <td>1</td>\n",
       "      <td>380200000.0</td>\n",
       "      <td>13551000.0</td>\n",
       "      <td>시정 관련 간담회 등</td>\n",
       "      <td>행정국 총무과</td>\n",
       "      <td>2016-01-29 20:06</td>\n",
       "      <td>태원(서구 문정로)</td>\n",
       "      <td>시정 지방자치단체 협력 관련 업무협의</td>\n",
       "      <td>시장 등 3명</td>\n",
       "      <td>카드</td>\n",
       "      <td>107500</td>\n",
       "    </tr>\n",
       "    <tr>\n",
       "      <th>3</th>\n",
       "      <td>7832320</td>\n",
       "      <td>2016년 1월 서울특별시장 업무추진비 집행내역 공표</td>\n",
       "      <td>http://opengov.seoul.go.kr/public/7832320</td>\n",
       "      <td>서울시본청</td>\n",
       "      <td>서울특별시장</td>\n",
       "      <td>NaN</td>\n",
       "      <td>NaN</td>\n",
       "      <td>NaN</td>\n",
       "      <td>2016</td>\n",
       "      <td>1</td>\n",
       "      <td>380200000.0</td>\n",
       "      <td>13551000.0</td>\n",
       "      <td>시정 관련 간담회 등</td>\n",
       "      <td>행정국 총무과</td>\n",
       "      <td>2016-01-29 12:33</td>\n",
       "      <td>고릴라(세종 절재로)</td>\n",
       "      <td>시정 교류 및 협력 관련 업무협의</td>\n",
       "      <td>시장 등 6명</td>\n",
       "      <td>카드</td>\n",
       "      <td>190000</td>\n",
       "    </tr>\n",
       "    <tr>\n",
       "      <th>4</th>\n",
       "      <td>7832320</td>\n",
       "      <td>2016년 1월 서울특별시장 업무추진비 집행내역 공표</td>\n",
       "      <td>http://opengov.seoul.go.kr/public/7832320</td>\n",
       "      <td>서울시본청</td>\n",
       "      <td>서울특별시장</td>\n",
       "      <td>NaN</td>\n",
       "      <td>NaN</td>\n",
       "      <td>NaN</td>\n",
       "      <td>2016</td>\n",
       "      <td>1</td>\n",
       "      <td>380200000.0</td>\n",
       "      <td>13551000.0</td>\n",
       "      <td>시정 관련 간담회 등</td>\n",
       "      <td>행정국 총무과</td>\n",
       "      <td>2016-01-28 00:00</td>\n",
       "      <td>서울시청매점</td>\n",
       "      <td>방문민원 등 접대용품 구입</td>\n",
       "      <td>NaN</td>\n",
       "      <td>카드</td>\n",
       "      <td>485000</td>\n",
       "    </tr>\n",
       "  </tbody>\n",
       "</table>\n",
       "</div>"
      ],
      "text/plain": [
       "       nid                          title  \\\n",
       "0  7832320  2016년 1월 서울특별시장 업무추진비 집행내역 공표   \n",
       "1  7832320  2016년 1월 서울특별시장 업무추진비 집행내역 공표   \n",
       "2  7832320  2016년 1월 서울특별시장 업무추진비 집행내역 공표   \n",
       "3  7832320  2016년 1월 서울특별시장 업무추진비 집행내역 공표   \n",
       "4  7832320  2016년 1월 서울특별시장 업무추진비 집행내역 공표   \n",
       "\n",
       "                                         url dept_nm_lvl_1 dept_nm_lvl_2  \\\n",
       "0  http://opengov.seoul.go.kr/public/7832320         서울시본청        서울특별시장   \n",
       "1  http://opengov.seoul.go.kr/public/7832320         서울시본청        서울특별시장   \n",
       "2  http://opengov.seoul.go.kr/public/7832320         서울시본청        서울특별시장   \n",
       "3  http://opengov.seoul.go.kr/public/7832320         서울시본청        서울특별시장   \n",
       "4  http://opengov.seoul.go.kr/public/7832320         서울시본청        서울특별시장   \n",
       "\n",
       "  dept_nm_lvl_3 dept_nm_lvl_4 dept_nm_lvl_5   집행연  집행월  expense_budget  \\\n",
       "0           NaN           NaN           NaN  2016    1     380200000.0   \n",
       "1           NaN           NaN           NaN  2016    1     380200000.0   \n",
       "2           NaN           NaN           NaN  2016    1     380200000.0   \n",
       "3           NaN           NaN           NaN  2016    1     380200000.0   \n",
       "4           NaN           NaN           NaN  2016    1     380200000.0   \n",
       "\n",
       "   expense_execution         집행목적      부서명              집행일시  \\\n",
       "0         13551000.0  시정 관련 간담회 등  행정국 총무과  2016-01-30 12:27   \n",
       "1         13551000.0  시정 관련 간담회 등  행정국 총무과  2016-01-30 08:28   \n",
       "2         13551000.0  시정 관련 간담회 등  행정국 총무과  2016-01-29 20:06   \n",
       "3         13551000.0  시정 관련 간담회 등  행정국 총무과  2016-01-29 12:33   \n",
       "4         13551000.0  시정 관련 간담회 등  행정국 총무과  2016-01-28 00:00   \n",
       "\n",
       "             exec_loc                     desc      대상인원 결제방법    집행금액  \n",
       "0  매일한우타운식당(광시면 예당로길)      시정 청년정책 관련 업무협의 간담회  시장 등 12명   카드  250000  \n",
       "1       청암회관(예산군 덕산면)  시정 충남, 전북 현장 방문 관련 업무협의   시장 등 6명   카드   72000  \n",
       "2          태원(서구 문정로)     시정 지방자치단체 협력 관련 업무협의   시장 등 3명   카드  107500  \n",
       "3         고릴라(세종 절재로)       시정 교류 및 협력 관련 업무협의   시장 등 6명   카드  190000  \n",
       "4              서울시청매점           방문민원 등 접대용품 구입       NaN   카드  485000  "
      ]
     },
     "execution_count": 7,
     "metadata": {},
     "output_type": "execute_result"
    }
   ],
   "source": [
    "df.head()"
   ]
  },
  {
   "cell_type": "code",
   "execution_count": 8,
   "metadata": {},
   "outputs": [
    {
     "data": {
      "image/png": "[encoded data removed]",
      "text/plain": [
       "<matplotlib.figure.Figure at 0x11bbd15f8>"
      ]
     },
     "metadata": {},
     "output_type": "display_data"
    }
   ],
   "source": [
    "import missingno as msno\n",
    "\n",
    "msno.matrix(df)"
   ]
  },
  {
   "cell_type": "code",
   "execution_count": 9,
   "metadata": {},
   "outputs": [
    {
     "data": {
      "text/plain": [
       "서울시본청          98699\n",
       "사업소            36826\n",
       "소방재난본부(소방서)    16631\n",
       "의회사무처           7444\n",
       "Name: dept_nm_lvl_1, dtype: int64"
      ]
     },
     "execution_count": 9,
     "metadata": {},
     "output_type": "execute_result"
    }
   ],
   "source": [
    "df[\"dept_nm_lvl_1\"].value_counts()"
   ]
  },
  {
   "cell_type": "code",
   "execution_count": 10,
   "metadata": {},
   "outputs": [
    {
     "data": {
      "text/plain": [
       "<matplotlib.axes._subplots.AxesSubplot at 0x115014c50>"
      ]
     },
     "execution_count": 10,
     "metadata": {},
     "output_type": "execute_result"
    },
    {
     "data": {
      "image/png": "[encoded data removed]",
      "text/plain": [
       "<matplotlib.figure.Figure at 0x11bbd1b38>"
      ]
     },
     "metadata": {},
     "output_type": "display_data"
    }
   ],
   "source": [
    "sns.countplot(data=df, x=\"dept_nm_lvl_1\")"
   ]
  },
  {
   "cell_type": "code",
   "execution_count": 11,
   "metadata": {},
   "outputs": [
    {
     "data": {
      "text/plain": [
       "<matplotlib.axes._subplots.AxesSubplot at 0x114f72940>"
      ]
     },
     "execution_count": 11,
     "metadata": {},
     "output_type": "execute_result"
    },
    {
     "data": {
      "image/png": "[encoded data removed]",
      "text/plain": [
       "<matplotlib.figure.Figure at 0x114b78400>"
      ]
     },
     "metadata": {},
     "output_type": "display_data"
    }
   ],
   "source": [
    "sns.countplot(data=df, x=\"집행연\")"
   ]
  },
  {
   "cell_type": "code",
   "execution_count": 12,
   "metadata": {},
   "outputs": [],
   "source": [
    "df[\"집행연월\"] =  df[\"집행연\"].astype(str) + \"-\" + df[\"집행월\"].astype(str)"
   ]
  },
  {
   "cell_type": "code",
   "execution_count": 13,
   "metadata": {},
   "outputs": [
    {
     "data": {
      "text/plain": [
       "<matplotlib.axes._subplots.AxesSubplot at 0x114dda748>"
      ]
     },
     "execution_count": 13,
     "metadata": {},
     "output_type": "execute_result"
    },
    {
     "data": {
      "image/png": "[encoded data removed]",
      "text/plain": [
       "<matplotlib.figure.Figure at 0x11a0bde80>"
      ]
     },
     "metadata": {},
     "output_type": "display_data"
    }
   ],
   "source": [
    "plt.figure(figsize=(24,4))\n",
    "sns.countplot(data=df, x=\"집행연월\")"
   ]
  },
  {
   "cell_type": "code",
   "execution_count": null,
   "metadata": {},
   "outputs": [],
   "source": []
  }
 ],
 "metadata": {
  "kernelspec": {
   "display_name": "Python 3",
   "language": "python",
   "name": "python3"
  },
  "language_info": {
   "codemirror_mode": {
    "name": "ipython",
    "version": 3
   },
   "file_extension": ".py",
   "mimetype": "text/x-python",
   "name": "python",
   "nbconvert_exporter": "python",
   "pygments_lexer": "ipython3",
   "version": "3.6.1"
  }
 },
 "nbformat": 4,
 "nbformat_minor": 2
}
