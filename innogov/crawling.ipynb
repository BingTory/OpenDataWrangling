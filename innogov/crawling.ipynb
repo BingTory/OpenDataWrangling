{
 "cells": [
  {
   "cell_type": "markdown",
   "metadata": {},
   "source": [
    "# 정부혁신1번가 - 정부혁신 홈페이지\n",
    "* 정부혁신 제안(목록) > 정부혁신국민포럼 \n",
    "\n",
    "```\n",
    "ㆍ내가 낸 정부혁신 제안이 추천 100표 이상 얻으면, 자동으로 2단계 토론으로 진행됩니다.\n",
    "ㆍ정책제안이 100표 이상 추천을 받지 못한 경우에도 정부혁신국민포럼 운영위원단 논의를 통해 중요하고 시급한 현안으로 결정된 경우 다음 단계인 토론으로 \n",
    "   진행될 수 있습니다.\n",
    "ㆍ제안기간은 90일입니다.\n",
    "ㆍ욕설 및 비속어를 사용한 제안은 관리자에 의해 삭제 될 수 있습니다.\n",
    "ㆍ유해하며 폭력적이고 선정적인 내용을 담은 제안은 관리자에 의해 삭제 될 수 있습니다.\n",
    "ㆍ한번 작성된 제안은 삭제가 불가능합니다.\n",
    "ㆍ허위 사실이나 타인의 명예를 훼손하는 내용이 포함된 제안은 관리자에 의해 '숨김'처리 또는 삭제될 수 있습니다.\n",
    "```\n",
    "\n",
    "https://www.innogov.go.kr/ucms/ogp/sug/list.do?menuNo=300011"
   ]
  },
  {
   "cell_type": "code",
   "execution_count": null,
   "metadata": {},
   "outputs": [],
   "source": [
    "# 필요한 도구를 불러온다.\n",
    "# 파이썬에서 사용할 수 있는 엑셀과 유사한 데이터분석 도구\n",
    "import pandas as pd\n",
    "# 매우 작은 브라우저로 웹사이트의 내용과 정보를 불러올 수 있다.\n",
    "import requests\n",
    "# request로 가져온 웹사이트의 html 태그를 파싱하는데 사용한다.\n",
    "from bs4 import BeautifulSoup as bs\n",
    "# 랜덤숫자를 생성한다.\n",
    "import random\n",
    "import time\n",
    "# 대량 데이터 처리시 진행 상황을 표시한다.\n",
    "from tqdm import tqdm, trange\n",
    "# 정규표현식\n",
    "import re"
   ]
  },
  {
   "cell_type": "code",
   "execution_count": null,
   "metadata": {},
   "outputs": [],
   "source": [
    "def get_suggestion_list(month, pnum):\n",
    "    base_url = f\"https://www.innogov.go.kr/ucms/ogp/sug/list.do?pnum={pnum}&menuNo=300011&sugMonthTp={month}&orderKey=registDtDesc\"\n",
    "    response = requests.get( base_url )\n",
    "    if response.status_code == 200:\n",
    "        html = bs(response.text, 'html.parser')\n",
    "        tags = html.select('#content > div.suggestion_list > ul')[0].find_all('a')\n",
    "        print(pnum)\n",
    "        if not tags :\n",
    "            return(suggestion_list)\n",
    "        else :\n",
    "            for tag in tags:\n",
    "                suggestion_list.append(tag['href'])\n",
    "        pnum += 1\n",
    "        get_suggestion_list(month, pnum)"
   ]
  },
  {
   "cell_type": "code",
   "execution_count": null,
   "metadata": {},
   "outputs": [],
   "source": [
    "suggestion_list = []\n",
    "month = \"201901\"\n",
    "pnum = 1\n",
    "get_suggestion_list(month, pnum)"
   ]
  },
  {
   "cell_type": "code",
   "execution_count": null,
   "metadata": {},
   "outputs": [],
   "source": [
    "suggestion_list"
   ]
  },
  {
   "cell_type": "code",
   "execution_count": null,
   "metadata": {},
   "outputs": [],
   "source": [
    "def get_suggestion_content(url):\n",
    "    base_url = f\"https://www.innogov.go.kr/ucms/ogp/sug/{url}\"\n",
    "    response = requests.get( base_url )\n",
    "    if response.status_code == 200:\n",
    "        html = bs(response.text, 'html.parser')\n",
    "        tags = html.select('#content > div.vveiw_box1 > div.vveiw_cont > div > pre')[0].get_text(strip=True)\n",
    "        {content : }\n",
    "        print(tags)"
   ]
  },
  {
   "cell_type": "code",
   "execution_count": null,
   "metadata": {},
   "outputs": [],
   "source": [
    "for i, suggestion in enumerate(suggestion_list):\n",
    "    print(suggestion)\n",
    "    get_suggestion_content(suggestion)"
   ]
  },
  {
   "cell_type": "code",
   "execution_count": null,
   "metadata": {},
   "outputs": [],
   "source": []
  }
 ],
 "metadata": {
  "kernelspec": {
   "display_name": "Python 3",
   "language": "python",
   "name": "python3"
  },
  "language_info": {
   "codemirror_mode": {
    "name": "ipython",
    "version": 3
   },
   "file_extension": ".py",
   "mimetype": "text/x-python",
   "name": "python",
   "nbconvert_exporter": "python",
   "pygments_lexer": "ipython3",
   "version": "3.6.1"
  }
 },
 "nbformat": 4,
 "nbformat_minor": 2
}
