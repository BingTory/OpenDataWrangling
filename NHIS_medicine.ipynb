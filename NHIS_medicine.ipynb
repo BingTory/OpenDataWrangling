{
 "cells": [
  {
   "cell_type": "markdown",
   "metadata": {},
   "source": [
    "# 의약품처방정보\n",
    "* https://www.data.go.kr/dataset/15007117/fileData.do\n",
    "* 의약품처방정보는 2002년부터 2013년까지의 국민건강보험 가입자 중 의약품처방이력이 있는 각 연도별 수진자 100만 명에 대한 기본정보(성, 연령대, 시도코드 등)와 의약품처방전별 개별 의약품에 대한 처방내역(요양개시일자, 1회투약량, 1일투약량, 총투여일수 등)으로 구성된 개방데이터이다."
   ]
  },
  {
   "cell_type": "code",
   "execution_count": null,
   "metadata": {},
   "outputs": [],
   "source": [
    "%ls -al data/NHIS_OPEN_T60_2016"
   ]
  },
  {
   "cell_type": "markdown",
   "metadata": {},
   "source": [
    "## 라이브러리 로드"
   ]
  },
  {
   "cell_type": "code",
   "execution_count": 2,
   "metadata": {},
   "outputs": [],
   "source": [
    "import pandas as pd\n",
    "import numpy as np\n",
    "import seaborn as sns\n",
    "\n",
    "%matplotlib inline"
   ]
  },
  {
   "cell_type": "code",
   "execution_count": 3,
   "metadata": {},
   "outputs": [],
   "source": [
    "import matplotlib.pyplot as plt\n",
    "from IPython.display import set_matplotlib_formats\n",
    "\n",
    "# Window 의 한글 폰트 설정\n",
    "# plt.rc('font',family='Malgun Gothic')\n",
    "# Mac 의 한글 폰트 설정\n",
    "plt.rc('font', family='AppleGothic') \n",
    "plt.rc('axes', unicode_minus=False)\n",
    "\n",
    "# 레티나 설정을 해주면 글씨가 좀 더 선명하게 보입니다.\n",
    "set_matplotlib_formats('retina')"
   ]
  },
  {
   "cell_type": "code",
   "execution_count": 4,
   "metadata": {},
   "outputs": [
    {
     "data": {
      "text/plain": [
       "(20000000, 15)"
      ]
     },
     "execution_count": 4,
     "metadata": {},
     "output_type": "execute_result"
    }
   ],
   "source": [
    "nhis = pd.read_csv('data/NHIS_OPEN_T60_2016/NHIS_OPEN_T60_2016_PART1.csv', \n",
    "                   encoding='euc-kr')\n",
    "nhis.shape"
   ]
  },
  {
   "cell_type": "code",
   "execution_count": 5,
   "metadata": {},
   "outputs": [
    {
     "data": {
      "text/html": [
       "<div>\n",
       "<style scoped>\n",
       "    .dataframe tbody tr th:only-of-type {\n",
       "        vertical-align: middle;\n",
       "    }\n",
       "\n",
       "    .dataframe tbody tr th {\n",
       "        vertical-align: top;\n",
       "    }\n",
       "\n",
       "    .dataframe thead th {\n",
       "        text-align: right;\n",
       "    }\n",
       "</style>\n",
       "<table border=\"1\" class=\"dataframe\">\n",
       "  <thead>\n",
       "    <tr style=\"text-align: right;\">\n",
       "      <th></th>\n",
       "      <th>기준년도</th>\n",
       "      <th>가입자일련번호</th>\n",
       "      <th>처방내역일련번호</th>\n",
       "      <th>일련번호</th>\n",
       "      <th>성별코드</th>\n",
       "      <th>연령대코드(5세단위)</th>\n",
       "      <th>시도코드</th>\n",
       "      <th>요양개시일자</th>\n",
       "      <th>약품일반성분명코드</th>\n",
       "      <th>1회 투약량</th>\n",
       "      <th>1일 투약량</th>\n",
       "      <th>총투여일수</th>\n",
       "      <th>단가</th>\n",
       "      <th>금액</th>\n",
       "      <th>데이터공개일자</th>\n",
       "    </tr>\n",
       "  </thead>\n",
       "  <tbody>\n",
       "    <tr>\n",
       "      <th>0</th>\n",
       "      <td>2016</td>\n",
       "      <td>1</td>\n",
       "      <td>258969</td>\n",
       "      <td>1</td>\n",
       "      <td>2</td>\n",
       "      <td>11</td>\n",
       "      <td>28</td>\n",
       "      <td>20160219</td>\n",
       "      <td>100901ATB</td>\n",
       "      <td>1.0</td>\n",
       "      <td>2</td>\n",
       "      <td>3</td>\n",
       "      <td>188.0</td>\n",
       "      <td>1128</td>\n",
       "      <td>20171218</td>\n",
       "    </tr>\n",
       "    <tr>\n",
       "      <th>1</th>\n",
       "      <td>2016</td>\n",
       "      <td>1</td>\n",
       "      <td>258969</td>\n",
       "      <td>2</td>\n",
       "      <td>2</td>\n",
       "      <td>11</td>\n",
       "      <td>28</td>\n",
       "      <td>20160219</td>\n",
       "      <td>152301ATB</td>\n",
       "      <td>1.0</td>\n",
       "      <td>2</td>\n",
       "      <td>3</td>\n",
       "      <td>115.0</td>\n",
       "      <td>690</td>\n",
       "      <td>20171218</td>\n",
       "    </tr>\n",
       "    <tr>\n",
       "      <th>2</th>\n",
       "      <td>2016</td>\n",
       "      <td>1</td>\n",
       "      <td>258969</td>\n",
       "      <td>3</td>\n",
       "      <td>2</td>\n",
       "      <td>11</td>\n",
       "      <td>28</td>\n",
       "      <td>20160219</td>\n",
       "      <td>222901ATB</td>\n",
       "      <td>1.0</td>\n",
       "      <td>2</td>\n",
       "      <td>3</td>\n",
       "      <td>63.0</td>\n",
       "      <td>378</td>\n",
       "      <td>20171218</td>\n",
       "    </tr>\n",
       "  </tbody>\n",
       "</table>\n",
       "</div>"
      ],
      "text/plain": [
       "   기준년도  가입자일련번호  처방내역일련번호  일련번호  성별코드  연령대코드(5세단위)  시도코드    요양개시일자  \\\n",
       "0  2016        1    258969     1     2           11    28  20160219   \n",
       "1  2016        1    258969     2     2           11    28  20160219   \n",
       "2  2016        1    258969     3     2           11    28  20160219   \n",
       "\n",
       "   약품일반성분명코드  1회 투약량  1일 투약량  총투여일수     단가    금액   데이터공개일자  \n",
       "0  100901ATB     1.0       2      3  188.0  1128  20171218  \n",
       "1  152301ATB     1.0       2      3  115.0   690  20171218  \n",
       "2  222901ATB     1.0       2      3   63.0   378  20171218  "
      ]
     },
     "execution_count": 5,
     "metadata": {},
     "output_type": "execute_result"
    }
   ],
   "source": [
    "nhis.head(3)"
   ]
  },
  {
   "cell_type": "code",
   "execution_count": 6,
   "metadata": {},
   "outputs": [
    {
     "data": {
      "text/plain": [
       "4983648"
      ]
     },
     "execution_count": 6,
     "metadata": {},
     "output_type": "execute_result"
    }
   ],
   "source": [
    "# 중복을 제거한 처방 갯수를 알아본다.\n",
    "nhis[\"처방내역일련번호\"].nunique()"
   ]
  },
  {
   "cell_type": "code",
   "execution_count": 7,
   "metadata": {},
   "outputs": [
    {
     "data": {
      "text/plain": [
       "503691"
      ]
     },
     "execution_count": 7,
     "metadata": {},
     "output_type": "execute_result"
    }
   ],
   "source": [
    "# 중복을 제거한 처방 갯수를 알아본다.\n",
    "nhis[\"가입자일련번호\"].nunique()"
   ]
  },
  {
   "cell_type": "code",
   "execution_count": 8,
   "metadata": {},
   "outputs": [
    {
     "data": {
      "text/plain": [
       "Index(['기준년도', '가입자일련번호', '처방내역일련번호', '일련번호', '성별코드', '연령대코드(5세단위)', '시도코드',\n",
       "       '요양개시일자', '약품일반성분명코드', '1회 투약량', '1일 투약량', '총투여일수', '단가', '금액',\n",
       "       '데이터공개일자'],\n",
       "      dtype='object')"
      ]
     },
     "execution_count": 8,
     "metadata": {},
     "output_type": "execute_result"
    }
   ],
   "source": [
    "nhis.columns"
   ]
  },
  {
   "cell_type": "code",
   "execution_count": 9,
   "metadata": {},
   "outputs": [
    {
     "name": "stdout",
     "output_type": "stream",
     "text": [
      "<class 'pandas.core.frame.DataFrame'>\n",
      "RangeIndex: 20000000 entries, 0 to 19999999\n",
      "Data columns (total 15 columns):\n",
      "기준년도           int64\n",
      "가입자일련번호        int64\n",
      "처방내역일련번호       int64\n",
      "일련번호           int64\n",
      "성별코드           int64\n",
      "연령대코드(5세단위)    int64\n",
      "시도코드           int64\n",
      "요양개시일자         int64\n",
      "약품일반성분명코드      object\n",
      "1회 투약량         float64\n",
      "1일 투약량         int64\n",
      "총투여일수          int64\n",
      "단가             float64\n",
      "금액             int64\n",
      "데이터공개일자        int64\n",
      "dtypes: float64(2), int64(12), object(1)\n",
      "memory usage: 2.2+ GB\n"
     ]
    }
   ],
   "source": [
    "nhis.info()"
   ]
  },
  {
   "cell_type": "code",
   "execution_count": 10,
   "metadata": {},
   "outputs": [
    {
     "data": {
      "text/plain": [
       "기준년도              0\n",
       "가입자일련번호           0\n",
       "처방내역일련번호          0\n",
       "일련번호              0\n",
       "성별코드              0\n",
       "연령대코드(5세단위)       0\n",
       "시도코드              0\n",
       "요양개시일자            0\n",
       "약품일반성분명코드      1661\n",
       "1회 투약량            0\n",
       "1일 투약량            0\n",
       "총투여일수             0\n",
       "단가                0\n",
       "금액                0\n",
       "데이터공개일자           0\n",
       "dtype: int64"
      ]
     },
     "execution_count": 10,
     "metadata": {},
     "output_type": "execute_result"
    }
   ],
   "source": [
    "# 결측치 보기 \n",
    "nhis.isnull().sum()"
   ]
  },
  {
   "cell_type": "code",
   "execution_count": 11,
   "metadata": {},
   "outputs": [],
   "source": [
    "nhis = nhis.drop([\"기준년도\", \"데이터공개일자\"], axis=1)"
   ]
  },
  {
   "cell_type": "code",
   "execution_count": 12,
   "metadata": {},
   "outputs": [],
   "source": [
    "nhis[\"요양개시일자\"] = pd.to_datetime(nhis[\"요양개시일자\"], format='%Y%m%d')"
   ]
  },
  {
   "cell_type": "code",
   "execution_count": 13,
   "metadata": {},
   "outputs": [
    {
     "name": "stdout",
     "output_type": "stream",
     "text": [
      "<class 'pandas.core.frame.DataFrame'>\n",
      "RangeIndex: 20000000 entries, 0 to 19999999\n",
      "Data columns (total 13 columns):\n",
      "가입자일련번호        int64\n",
      "처방내역일련번호       int64\n",
      "일련번호           int64\n",
      "성별코드           int64\n",
      "연령대코드(5세단위)    int64\n",
      "시도코드           int64\n",
      "요양개시일자         datetime64[ns]\n",
      "약품일반성분명코드      object\n",
      "1회 투약량         float64\n",
      "1일 투약량         int64\n",
      "총투여일수          int64\n",
      "단가             float64\n",
      "금액             int64\n",
      "dtypes: datetime64[ns](1), float64(2), int64(9), object(1)\n",
      "memory usage: 1.9+ GB\n"
     ]
    }
   ],
   "source": [
    "nhis.info()"
   ]
  },
  {
   "cell_type": "code",
   "execution_count": 14,
   "metadata": {},
   "outputs": [
    {
     "data": {
      "text/html": [
       "<div>\n",
       "<style scoped>\n",
       "    .dataframe tbody tr th:only-of-type {\n",
       "        vertical-align: middle;\n",
       "    }\n",
       "\n",
       "    .dataframe tbody tr th {\n",
       "        vertical-align: top;\n",
       "    }\n",
       "\n",
       "    .dataframe thead th {\n",
       "        text-align: right;\n",
       "    }\n",
       "</style>\n",
       "<table border=\"1\" class=\"dataframe\">\n",
       "  <thead>\n",
       "    <tr style=\"text-align: right;\">\n",
       "      <th></th>\n",
       "      <th>1회 투약량</th>\n",
       "      <th>1일 투약량</th>\n",
       "      <th>총투여일수</th>\n",
       "      <th>단가</th>\n",
       "      <th>금액</th>\n",
       "    </tr>\n",
       "  </thead>\n",
       "  <tbody>\n",
       "    <tr>\n",
       "      <th>count</th>\n",
       "      <td>20,000,000</td>\n",
       "      <td>20,000,000</td>\n",
       "      <td>20,000,000</td>\n",
       "      <td>20,000,000</td>\n",
       "      <td>20,000,000</td>\n",
       "    </tr>\n",
       "    <tr>\n",
       "      <th>mean</th>\n",
       "      <td>2</td>\n",
       "      <td>2</td>\n",
       "      <td>11</td>\n",
       "      <td>397</td>\n",
       "      <td>5,651</td>\n",
       "    </tr>\n",
       "    <tr>\n",
       "      <th>std</th>\n",
       "      <td>8</td>\n",
       "      <td>1</td>\n",
       "      <td>19</td>\n",
       "      <td>2,228</td>\n",
       "      <td>83,428</td>\n",
       "    </tr>\n",
       "    <tr>\n",
       "      <th>min</th>\n",
       "      <td>0</td>\n",
       "      <td>0</td>\n",
       "      <td>0</td>\n",
       "      <td>0</td>\n",
       "      <td>0</td>\n",
       "    </tr>\n",
       "    <tr>\n",
       "      <th>25%</th>\n",
       "      <td>1</td>\n",
       "      <td>2</td>\n",
       "      <td>3</td>\n",
       "      <td>53</td>\n",
       "      <td>564</td>\n",
       "    </tr>\n",
       "    <tr>\n",
       "      <th>50%</th>\n",
       "      <td>1</td>\n",
       "      <td>3</td>\n",
       "      <td>3</td>\n",
       "      <td>116</td>\n",
       "      <td>1,266</td>\n",
       "    </tr>\n",
       "    <tr>\n",
       "      <th>75%</th>\n",
       "      <td>1</td>\n",
       "      <td>3</td>\n",
       "      <td>7</td>\n",
       "      <td>261</td>\n",
       "      <td>3,654</td>\n",
       "    </tr>\n",
       "    <tr>\n",
       "      <th>max</th>\n",
       "      <td>20,120</td>\n",
       "      <td>80</td>\n",
       "      <td>840</td>\n",
       "      <td>357,142</td>\n",
       "      <td>270,000,000</td>\n",
       "    </tr>\n",
       "  </tbody>\n",
       "</table>\n",
       "</div>"
      ],
      "text/plain": [
       "          1회 투약량     1일 투약량      총투여일수         단가          금액\n",
       "count 20,000,000 20,000,000 20,000,000 20,000,000  20,000,000\n",
       "mean           2          2         11        397       5,651\n",
       "std            8          1         19      2,228      83,428\n",
       "min            0          0          0          0           0\n",
       "25%            1          2          3         53         564\n",
       "50%            1          3          3        116       1,266\n",
       "75%            1          3          7        261       3,654\n",
       "max       20,120         80        840    357,142 270,000,000"
      ]
     },
     "execution_count": 14,
     "metadata": {},
     "output_type": "execute_result"
    }
   ],
   "source": [
    "pd.options.display.float_format = '{:,.0f}'.format\n",
    "nhis[[\"1회 투약량\", \"1일 투약량\", \"총투여일수\", \"단가\", \"금액\"]].describe()"
   ]
  },
  {
   "cell_type": "code",
   "execution_count": 15,
   "metadata": {
    "scrolled": true
   },
   "outputs": [
    {
     "data": {
      "text/html": [
       "<div>\n",
       "<style scoped>\n",
       "    .dataframe tbody tr th:only-of-type {\n",
       "        vertical-align: middle;\n",
       "    }\n",
       "\n",
       "    .dataframe tbody tr th {\n",
       "        vertical-align: top;\n",
       "    }\n",
       "\n",
       "    .dataframe thead th {\n",
       "        text-align: right;\n",
       "    }\n",
       "</style>\n",
       "<table border=\"1\" class=\"dataframe\">\n",
       "  <thead>\n",
       "    <tr style=\"text-align: right;\">\n",
       "      <th></th>\n",
       "      <th>가입자일련번호</th>\n",
       "      <th>처방내역일련번호</th>\n",
       "      <th>일련번호</th>\n",
       "      <th>성별코드</th>\n",
       "      <th>연령대코드(5세단위)</th>\n",
       "      <th>시도코드</th>\n",
       "      <th>요양개시일자</th>\n",
       "      <th>약품일반성분명코드</th>\n",
       "      <th>1회 투약량</th>\n",
       "      <th>1일 투약량</th>\n",
       "      <th>총투여일수</th>\n",
       "      <th>단가</th>\n",
       "      <th>금액</th>\n",
       "    </tr>\n",
       "  </thead>\n",
       "  <tbody>\n",
       "    <tr>\n",
       "      <th>0</th>\n",
       "      <td>1</td>\n",
       "      <td>258969</td>\n",
       "      <td>1</td>\n",
       "      <td>2</td>\n",
       "      <td>11</td>\n",
       "      <td>28</td>\n",
       "      <td>2016-02-19</td>\n",
       "      <td>100901ATB</td>\n",
       "      <td>1</td>\n",
       "      <td>2</td>\n",
       "      <td>3</td>\n",
       "      <td>188</td>\n",
       "      <td>1128</td>\n",
       "    </tr>\n",
       "    <tr>\n",
       "      <th>1</th>\n",
       "      <td>1</td>\n",
       "      <td>258969</td>\n",
       "      <td>2</td>\n",
       "      <td>2</td>\n",
       "      <td>11</td>\n",
       "      <td>28</td>\n",
       "      <td>2016-02-19</td>\n",
       "      <td>152301ATB</td>\n",
       "      <td>1</td>\n",
       "      <td>2</td>\n",
       "      <td>3</td>\n",
       "      <td>115</td>\n",
       "      <td>690</td>\n",
       "    </tr>\n",
       "    <tr>\n",
       "      <th>2</th>\n",
       "      <td>1</td>\n",
       "      <td>258969</td>\n",
       "      <td>3</td>\n",
       "      <td>2</td>\n",
       "      <td>11</td>\n",
       "      <td>28</td>\n",
       "      <td>2016-02-19</td>\n",
       "      <td>222901ATB</td>\n",
       "      <td>1</td>\n",
       "      <td>2</td>\n",
       "      <td>3</td>\n",
       "      <td>63</td>\n",
       "      <td>378</td>\n",
       "    </tr>\n",
       "    <tr>\n",
       "      <th>3</th>\n",
       "      <td>1</td>\n",
       "      <td>18744123</td>\n",
       "      <td>3</td>\n",
       "      <td>2</td>\n",
       "      <td>11</td>\n",
       "      <td>28</td>\n",
       "      <td>2016-12-20</td>\n",
       "      <td>421001ATB</td>\n",
       "      <td>1</td>\n",
       "      <td>3</td>\n",
       "      <td>5</td>\n",
       "      <td>103</td>\n",
       "      <td>1545</td>\n",
       "    </tr>\n",
       "    <tr>\n",
       "      <th>4</th>\n",
       "      <td>1</td>\n",
       "      <td>18744123</td>\n",
       "      <td>2</td>\n",
       "      <td>2</td>\n",
       "      <td>11</td>\n",
       "      <td>28</td>\n",
       "      <td>2016-12-20</td>\n",
       "      <td>101804ACH</td>\n",
       "      <td>1</td>\n",
       "      <td>3</td>\n",
       "      <td>5</td>\n",
       "      <td>81</td>\n",
       "      <td>1215</td>\n",
       "    </tr>\n",
       "  </tbody>\n",
       "</table>\n",
       "</div>"
      ],
      "text/plain": [
       "   가입자일련번호  처방내역일련번호  일련번호  성별코드  연령대코드(5세단위)  시도코드     요양개시일자  약품일반성분명코드  \\\n",
       "0        1    258969     1     2           11    28 2016-02-19  100901ATB   \n",
       "1        1    258969     2     2           11    28 2016-02-19  152301ATB   \n",
       "2        1    258969     3     2           11    28 2016-02-19  222901ATB   \n",
       "3        1  18744123     3     2           11    28 2016-12-20  421001ATB   \n",
       "4        1  18744123     2     2           11    28 2016-12-20  101804ACH   \n",
       "\n",
       "   1회 투약량  1일 투약량  총투여일수  단가    금액  \n",
       "0       1       2      3 188  1128  \n",
       "1       1       2      3 115   690  \n",
       "2       1       2      3  63   378  \n",
       "3       1       3      5 103  1545  \n",
       "4       1       3      5  81  1215  "
      ]
     },
     "execution_count": 15,
     "metadata": {},
     "output_type": "execute_result"
    }
   ],
   "source": [
    "nhis.head()"
   ]
  },
  {
   "cell_type": "code",
   "execution_count": 16,
   "metadata": {},
   "outputs": [
    {
     "data": {
      "text/html": [
       "<div>\n",
       "<style scoped>\n",
       "    .dataframe tbody tr th:only-of-type {\n",
       "        vertical-align: middle;\n",
       "    }\n",
       "\n",
       "    .dataframe tbody tr th {\n",
       "        vertical-align: top;\n",
       "    }\n",
       "\n",
       "    .dataframe thead th {\n",
       "        text-align: right;\n",
       "    }\n",
       "</style>\n",
       "<table border=\"1\" class=\"dataframe\">\n",
       "  <thead>\n",
       "    <tr style=\"text-align: right;\">\n",
       "      <th></th>\n",
       "      <th>가입자일련번호</th>\n",
       "      <th>처방내역일련번호</th>\n",
       "      <th>일련번호</th>\n",
       "      <th>성별코드</th>\n",
       "      <th>연령대코드(5세단위)</th>\n",
       "      <th>시도코드</th>\n",
       "      <th>요양개시일자</th>\n",
       "      <th>약품일반성분명코드</th>\n",
       "      <th>1회 투약량</th>\n",
       "      <th>1일 투약량</th>\n",
       "      <th>총투여일수</th>\n",
       "      <th>단가</th>\n",
       "      <th>금액</th>\n",
       "    </tr>\n",
       "  </thead>\n",
       "  <tbody>\n",
       "    <tr>\n",
       "      <th>19999995</th>\n",
       "      <td>503691</td>\n",
       "      <td>47807845</td>\n",
       "      <td>3</td>\n",
       "      <td>1</td>\n",
       "      <td>10</td>\n",
       "      <td>41</td>\n",
       "      <td>2016-07-12</td>\n",
       "      <td>152501ATB</td>\n",
       "      <td>1</td>\n",
       "      <td>2</td>\n",
       "      <td>2</td>\n",
       "      <td>457</td>\n",
       "      <td>1828</td>\n",
       "    </tr>\n",
       "    <tr>\n",
       "      <th>19999996</th>\n",
       "      <td>503691</td>\n",
       "      <td>47807845</td>\n",
       "      <td>1</td>\n",
       "      <td>1</td>\n",
       "      <td>10</td>\n",
       "      <td>41</td>\n",
       "      <td>2016-07-12</td>\n",
       "      <td>222805ATB</td>\n",
       "      <td>1</td>\n",
       "      <td>3</td>\n",
       "      <td>2</td>\n",
       "      <td>112</td>\n",
       "      <td>672</td>\n",
       "    </tr>\n",
       "    <tr>\n",
       "      <th>19999997</th>\n",
       "      <td>503691</td>\n",
       "      <td>493075</td>\n",
       "      <td>1</td>\n",
       "      <td>1</td>\n",
       "      <td>10</td>\n",
       "      <td>41</td>\n",
       "      <td>2016-10-01</td>\n",
       "      <td>271800ATB</td>\n",
       "      <td>1</td>\n",
       "      <td>2</td>\n",
       "      <td>5</td>\n",
       "      <td>255</td>\n",
       "      <td>2550</td>\n",
       "    </tr>\n",
       "    <tr>\n",
       "      <th>19999998</th>\n",
       "      <td>503691</td>\n",
       "      <td>493075</td>\n",
       "      <td>3</td>\n",
       "      <td>1</td>\n",
       "      <td>10</td>\n",
       "      <td>41</td>\n",
       "      <td>2016-10-01</td>\n",
       "      <td>193302ATB</td>\n",
       "      <td>1</td>\n",
       "      <td>2</td>\n",
       "      <td>5</td>\n",
       "      <td>98</td>\n",
       "      <td>980</td>\n",
       "    </tr>\n",
       "    <tr>\n",
       "      <th>19999999</th>\n",
       "      <td>503691</td>\n",
       "      <td>493075</td>\n",
       "      <td>4</td>\n",
       "      <td>1</td>\n",
       "      <td>10</td>\n",
       "      <td>41</td>\n",
       "      <td>2016-10-01</td>\n",
       "      <td>521601ATB</td>\n",
       "      <td>1</td>\n",
       "      <td>2</td>\n",
       "      <td>5</td>\n",
       "      <td>248</td>\n",
       "      <td>2480</td>\n",
       "    </tr>\n",
       "  </tbody>\n",
       "</table>\n",
       "</div>"
      ],
      "text/plain": [
       "          가입자일련번호  처방내역일련번호  일련번호  성별코드  연령대코드(5세단위)  시도코드     요양개시일자  \\\n",
       "19999995   503691  47807845     3     1           10    41 2016-07-12   \n",
       "19999996   503691  47807845     1     1           10    41 2016-07-12   \n",
       "19999997   503691    493075     1     1           10    41 2016-10-01   \n",
       "19999998   503691    493075     3     1           10    41 2016-10-01   \n",
       "19999999   503691    493075     4     1           10    41 2016-10-01   \n",
       "\n",
       "          약품일반성분명코드  1회 투약량  1일 투약량  총투여일수  단가    금액  \n",
       "19999995  152501ATB       1       2      2 457  1828  \n",
       "19999996  222805ATB       1       3      2 112   672  \n",
       "19999997  271800ATB       1       2      5 255  2550  \n",
       "19999998  193302ATB       1       2      5  98   980  \n",
       "19999999  521601ATB       1       2      5 248  2480  "
      ]
     },
     "execution_count": 16,
     "metadata": {},
     "output_type": "execute_result"
    }
   ],
   "source": [
    "nhis.tail()"
   ]
  },
  {
   "cell_type": "code",
   "execution_count": 17,
   "metadata": {},
   "outputs": [
    {
     "name": "stdout",
     "output_type": "stream",
     "text": [
      "7316870\n",
      "1\n",
      "76045.62737642585\n",
      "236.0\n"
     ]
    }
   ],
   "source": [
    "total_dose_day = nhis['총투여일수'].value_counts()\n",
    "print(np.max(total_dose_day))\n",
    "print(np.min(total_dose_day))\n",
    "print(np.mean(total_dose_day))\n",
    "print(np.median(total_dose_day))"
   ]
  },
  {
   "cell_type": "code",
   "execution_count": 18,
   "metadata": {},
   "outputs": [
    {
     "data": {
      "text/plain": [
       "2    11266113\n",
       "1     8733887\n",
       "Name: 성별코드, dtype: int64"
      ]
     },
     "execution_count": 18,
     "metadata": {},
     "output_type": "execute_result"
    }
   ],
   "source": [
    "nhis['성별코드'].value_counts()"
   ]
  },
  {
   "cell_type": "code",
   "execution_count": 19,
   "metadata": {},
   "outputs": [
    {
     "data": {
      "text/plain": [
       "성별코드\n",
       "1   6,211\n",
       "2   5,217\n",
       "Name: 금액, dtype: float64"
      ]
     },
     "execution_count": 19,
     "metadata": {},
     "output_type": "execute_result"
    }
   ],
   "source": [
    "nhis.groupby('성별코드')[\"금액\"].mean()"
   ]
  },
  {
   "cell_type": "code",
   "execution_count": 20,
   "metadata": {},
   "outputs": [
    {
     "data": {
      "text/plain": [
       "시도코드\n",
       "11   6,001\n",
       "26   5,961\n",
       "27   5,413\n",
       "28   5,615\n",
       "29   5,313\n",
       "30   5,208\n",
       "31   4,577\n",
       "36   4,365\n",
       "41   5,254\n",
       "42   6,767\n",
       "43   5,272\n",
       "44   5,809\n",
       "45   5,975\n",
       "46   6,254\n",
       "47   5,957\n",
       "48   5,588\n",
       "49   5,821\n",
       "Name: 금액, dtype: float64"
      ]
     },
     "execution_count": 20,
     "metadata": {},
     "output_type": "execute_result"
    }
   ],
   "source": [
    "nhis.groupby('시도코드')[\"금액\"].mean()"
   ]
  },
  {
   "cell_type": "code",
   "execution_count": 21,
   "metadata": {},
   "outputs": [],
   "source": [
    "nhis['연령대코드(5세단위)'] = nhis['연령대코드(5세단위)'].astype(int)"
   ]
  },
  {
   "cell_type": "code",
   "execution_count": 22,
   "metadata": {},
   "outputs": [
    {
     "data": {
      "text/plain": [
       "<matplotlib.axes._subplots.AxesSubplot at 0x1a0b2b898>"
      ]
     },
     "execution_count": 22,
     "metadata": {},
     "output_type": "execute_result"
    },
    {
     "data": {
      "image/png": "[encoded data removed]",
      "text/plain": [
       "<Figure size 432x288 with 1 Axes>"
      ]
     },
     "metadata": {
      "image/png": {
       "height": 265,
       "width": 390
      }
     },
     "output_type": "display_data"
    }
   ],
   "source": [
    "nhis.groupby('연령대코드(5세단위)')[\"금액\"].mean().plot.bar()"
   ]
  },
  {
   "cell_type": "code",
   "execution_count": 23,
   "metadata": {},
   "outputs": [
    {
     "data": {
      "text/plain": [
       "count   20,000,000\n",
       "mean            11\n",
       "std             19\n",
       "min              0\n",
       "25%              3\n",
       "50%              3\n",
       "75%              7\n",
       "max            840\n",
       "Name: 총투여일수, dtype: float64"
      ]
     },
     "execution_count": 23,
     "metadata": {},
     "output_type": "execute_result"
    }
   ],
   "source": [
    "nhis[\"총투여일수\"].describe()"
   ]
  },
  {
   "cell_type": "code",
   "execution_count": 24,
   "metadata": {},
   "outputs": [
    {
     "data": {
      "text/plain": [
       "(135, 13)"
      ]
     },
     "execution_count": 24,
     "metadata": {},
     "output_type": "execute_result"
    }
   ],
   "source": [
    "# 총 투여일수가 1년 이상인 데이터\n",
    "nhis[nhis[\"총투여일수\"] > 365].shape"
   ]
  },
  {
   "cell_type": "code",
   "execution_count": 25,
   "metadata": {},
   "outputs": [
    {
     "data": {
      "text/plain": [
       "<matplotlib.axes._subplots.AxesSubplot at 0x170fe32e8>"
      ]
     },
     "execution_count": 25,
     "metadata": {},
     "output_type": "execute_result"
    },
    {
     "data": {
      "image/png": "[encoded data removed]",
      "text/plain": [
       "<Figure size 432x288 with 1 Axes>"
      ]
     },
     "metadata": {
      "image/png": {
       "height": 262,
       "width": 410
      }
     },
     "output_type": "display_data"
    }
   ],
   "source": [
    "# 데이터양이 많아 샘플 1000개에 대해서만 시각화\n",
    "nhis[[\"총투여일수\", \"금액\"]].sample(1000).plot.scatter(x=\"총투여일수\", y=\"금액\")"
   ]
  },
  {
   "cell_type": "code",
   "execution_count": 26,
   "metadata": {},
   "outputs": [
    {
     "data": {
      "text/plain": [
       "(19626311, 13)"
      ]
     },
     "execution_count": 26,
     "metadata": {},
     "output_type": "execute_result"
    }
   ],
   "source": [
    "# 총투여일수가 100일 미만이고 금액이 5만원 미만인 데이터\n",
    "nhis_day_100 = nhis[(nhis[\"총투여일수\"] < 100) & (nhis[\"금액\"] < 50000)]\n",
    "nhis_day_100.shape"
   ]
  },
  {
   "cell_type": "code",
   "execution_count": 27,
   "metadata": {},
   "outputs": [
    {
     "data": {
      "text/plain": [
       "<matplotlib.axes._subplots.AxesSubplot at 0x170f72208>"
      ]
     },
     "execution_count": 27,
     "metadata": {},
     "output_type": "execute_result"
    },
    {
     "data": {
      "image/png": "[encoded data removed]",
      "text/plain": [
       "<Figure size 432x288 with 1 Axes>"
      ]
     },
     "metadata": {
      "image/png": {
       "height": 261,
       "width": 403
      }
     },
     "output_type": "display_data"
    }
   ],
   "source": [
    "# 총투여일수 100일 미안의 scatterplot을 그린다. \n",
    "# 데이터가 많아 임의로 10000개를 샘플링해서 그림\n",
    "nhis_day_100[[\"총투여일수\", \"금액\"]].sample(10000).plot.scatter(x=\"총투여일수\", y=\"금액\")"
   ]
  },
  {
   "cell_type": "code",
   "execution_count": 28,
   "metadata": {},
   "outputs": [
    {
     "data": {
      "text/plain": [
       "(405, 13)"
      ]
     },
     "execution_count": 28,
     "metadata": {},
     "output_type": "execute_result"
    }
   ],
   "source": [
    "# 1회 투약량이 300인 데이터\n",
    "nhis[nhis[\"1회 투약량\"] > 300].shape"
   ]
  },
  {
   "cell_type": "code",
   "execution_count": 29,
   "metadata": {},
   "outputs": [
    {
     "data": {
      "text/plain": [
       "(19981855, 13)"
      ]
     },
     "execution_count": 29,
     "metadata": {},
     "output_type": "execute_result"
    }
   ],
   "source": [
    "# 1회투약량이 100개 이하인 데이터만 가져오기\n",
    "nhis_100 = nhis[nhis[\"1회 투약량\"] < 100]\n",
    "nhis_100.shape"
   ]
  },
  {
   "cell_type": "code",
   "execution_count": 30,
   "metadata": {},
   "outputs": [
    {
     "data": {
      "text/plain": [
       "<matplotlib.axes._subplots.AxesSubplot at 0x1259dc400>"
      ]
     },
     "execution_count": 30,
     "metadata": {},
     "output_type": "execute_result"
    },
    {
     "data": {
      "image/png": "[encoded data removed]",
      "text/plain": [
       "<Figure size 432x288 with 1 Axes>"
      ]
     },
     "metadata": {
      "image/png": {
       "height": 261,
       "width": 383
      }
     },
     "output_type": "display_data"
    }
   ],
   "source": [
    "nhis_100[[\"1회 투약량\", \"1일 투약량\"]].sample(10000).plot.scatter(x=\"1일 투약량\", y=\"1회 투약량\")"
   ]
  },
  {
   "cell_type": "code",
   "execution_count": 31,
   "metadata": {},
   "outputs": [
    {
     "data": {
      "text/html": [
       "<div>\n",
       "<style scoped>\n",
       "    .dataframe tbody tr th:only-of-type {\n",
       "        vertical-align: middle;\n",
       "    }\n",
       "\n",
       "    .dataframe tbody tr th {\n",
       "        vertical-align: top;\n",
       "    }\n",
       "\n",
       "    .dataframe thead th {\n",
       "        text-align: right;\n",
       "    }\n",
       "</style>\n",
       "<table border=\"1\" class=\"dataframe\">\n",
       "  <thead>\n",
       "    <tr style=\"text-align: right;\">\n",
       "      <th></th>\n",
       "      <th>가입자일련번호</th>\n",
       "      <th>처방내역일련번호</th>\n",
       "      <th>일련번호</th>\n",
       "      <th>성별코드</th>\n",
       "      <th>연령대코드(5세단위)</th>\n",
       "      <th>시도코드</th>\n",
       "      <th>요양개시일자</th>\n",
       "      <th>약품일반성분명코드</th>\n",
       "      <th>1회 투약량</th>\n",
       "      <th>1일 투약량</th>\n",
       "      <th>총투여일수</th>\n",
       "      <th>단가</th>\n",
       "      <th>금액</th>\n",
       "    </tr>\n",
       "  </thead>\n",
       "  <tbody>\n",
       "    <tr>\n",
       "      <th>4584688</th>\n",
       "      <td>115252</td>\n",
       "      <td>12650296</td>\n",
       "      <td>4</td>\n",
       "      <td>2</td>\n",
       "      <td>13</td>\n",
       "      <td>28</td>\n",
       "      <td>2016-05-26</td>\n",
       "      <td>222201ATE</td>\n",
       "      <td>1</td>\n",
       "      <td>2</td>\n",
       "      <td>21</td>\n",
       "      <td>531</td>\n",
       "      <td>22302</td>\n",
       "    </tr>\n",
       "  </tbody>\n",
       "</table>\n",
       "</div>"
      ],
      "text/plain": [
       "         가입자일련번호  처방내역일련번호  일련번호  성별코드  연령대코드(5세단위)  시도코드     요양개시일자  \\\n",
       "4584688   115252  12650296     4     2           13    28 2016-05-26   \n",
       "\n",
       "         약품일반성분명코드  1회 투약량  1일 투약량  총투여일수  단가     금액  \n",
       "4584688  222201ATE       1       2     21 531  22302  "
      ]
     },
     "execution_count": 31,
     "metadata": {},
     "output_type": "execute_result"
    }
   ],
   "source": [
    "nhis.sample()"
   ]
  },
  {
   "cell_type": "code",
   "execution_count": 39,
   "metadata": {},
   "outputs": [],
   "source": [
    "nhis_per_count = nhis.groupby(\n",
    "    [\"가입자일련번호\", \"처방내역일련번호\", \"요양개시일자\", \"연령대코드(5세단위)\"])[\"일련번호\"].count().reset_index()"
   ]
  },
  {
   "cell_type": "code",
   "execution_count": 40,
   "metadata": {},
   "outputs": [],
   "source": [
    "nhis_per_count.columns = [\"가입자일련번호\", \"처방내역일련번호\", \"요양개시일자\", \"연령대코드(5세단위)\", \"약품코드수\"]"
   ]
  },
  {
   "cell_type": "code",
   "execution_count": null,
   "metadata": {},
   "outputs": [],
   "source": [
    "nhis_per_count.shape"
   ]
  },
  {
   "cell_type": "code",
   "execution_count": null,
   "metadata": {},
   "outputs": [],
   "source": []
  }
 ],
 "metadata": {
  "kernelspec": {
   "display_name": "Python 3",
   "language": "python",
   "name": "python3"
  },
  "language_info": {
   "codemirror_mode": {
    "name": "ipython",
    "version": 3
   },
   "file_extension": ".py",
   "mimetype": "text/x-python",
   "name": "python",
   "nbconvert_exporter": "python",
   "pygments_lexer": "ipython3",
   "version": "3.6.1"
  },
  "varInspector": {
   "cols": {
    "lenName": 16,
    "lenType": 16,
    "lenVar": 40
   },
   "kernels_config": {
    "python": {
     "delete_cmd_postfix": "",
     "delete_cmd_prefix": "del ",
     "library": "var_list.py",
     "varRefreshCmd": "print(var_dic_list())"
    },
    "r": {
     "delete_cmd_postfix": ") ",
     "delete_cmd_prefix": "rm(",
     "library": "var_list.r",
     "varRefreshCmd": "cat(var_dic_list()) "
    }
   },
   "types_to_exclude": [
    "module",
    "function",
    "builtin_function_or_method",
    "instance",
    "_Feature"
   ],
   "window_display": false
  }
 },
 "nbformat": 4,
 "nbformat_minor": 2
}
