{
 "cells": [
  {
   "cell_type": "code",
   "execution_count": 1,
   "metadata": {},
   "outputs": [],
   "source": [
    "import pandas as pd"
   ]
  },
  {
   "cell_type": "code",
   "execution_count": 2,
   "metadata": {},
   "outputs": [
    {
     "name": "stdout",
     "output_type": "stream",
     "text": [
      "서울_공공자전거_따릉이_이용현황자료_20161026.xlsx\n",
      "서울특별시 공공자전거 대여이력 정보_2015년.csv\n",
      "서울특별시 공공자전거 대여이력 정보_2016년_1.csv\n",
      "서울특별시 공공자전거 대여이력 정보_2016년_2.csv\n",
      "서울특별시 공공자전거 대여이력 정보_2016년_3.csv\n",
      "서울특별시 공공자전거 대여이력 정보_2017년_1.csv\n",
      "서울특별시 공공자전거 대여이력 정보_2017년_2분기_1.csv\n",
      "서울특별시 공공자전거 대여이력 정보_2017년_2분기_2.csv\n",
      "서울특별시 공공자전거 대여이력 정보_2017년_3분기_1.csv\n",
      "서울특별시 공공자전거 대여이력 정보_2017년_3분기_2.csv\n",
      "서울특별시 공공자전거 대여이력 정보_2017년_4분기_1.csv\n",
      "서울특별시 공공자전거 대여이력 정보_2017년_4분기_2.csv\n",
      "서울특별시 공공자전거 대여이력 정보_2018년_1분기1.csv\n",
      "서울특별시 공공자전거 대여이력 정보_2018년_2분기_1.csv\n",
      "서울특별시 공공자전거 대여이력 정보_2018년_2분기_2.csv\n",
      "서울특별시 공공자전거 대여이력 정보_2018년_2분기_3.csv\n",
      "서울특별시 공공자전거 대여이력 정보_2018년_2분기_4.csv\n"
     ]
    }
   ],
   "source": [
    "%ls data/seoul_bike/"
   ]
  },
  {
   "cell_type": "code",
   "execution_count": 3,
   "metadata": {},
   "outputs": [],
   "source": [
    "folder_path = \"data/seoul_bike/\""
   ]
  },
  {
   "cell_type": "code",
   "execution_count": 4,
   "metadata": {},
   "outputs": [
    {
     "data": {
      "text/plain": [
       "['서울특별시 공공자전거 대여이력 정보_2018년_1분기1.csv',\n",
       " '서울특별시 공공자전거 대여이력 정보_2018년_2분기_1.csv',\n",
       " '서울특별시 공공자전거 대여이력 정보_2018년_2분기_3.csv',\n",
       " '서울특별시 공공자전거 대여이력 정보_2018년_2분기_2.csv',\n",
       " '서울특별시 공공자전거 대여이력 정보_2018년_2분기_4.csv']"
      ]
     },
     "execution_count": 4,
     "metadata": {},
     "output_type": "execute_result"
    }
   ],
   "source": [
    "import os\n",
    "\n",
    "file_lists = []\n",
    "for root, dirs, files in os.walk(folder_path):  \n",
    "    for filename in files:\n",
    "        if filename.startswith('서울특별시 공공자전거 대여이력 정보_2018년') :\n",
    "            file_lists.append(filename)\n",
    "            \n",
    "file_lists           "
   ]
  },
  {
   "cell_type": "code",
   "execution_count": 5,
   "metadata": {},
   "outputs": [
    {
     "data": {
      "text/plain": [
       "(784734, 11)"
      ]
     },
     "execution_count": 5,
     "metadata": {},
     "output_type": "execute_result"
    }
   ],
   "source": [
    "df1_1 = pd.read_csv(folder_path+'서울특별시 공공자전거 대여이력 정보_2018년_1분기1.csv', encoding='cp949')\n",
    "df1_1.shape"
   ]
  },
  {
   "cell_type": "code",
   "execution_count": 6,
   "metadata": {},
   "outputs": [
    {
     "data": {
      "text/html": [
       "<div>\n",
       "<style scoped>\n",
       "    .dataframe tbody tr th:only-of-type {\n",
       "        vertical-align: middle;\n",
       "    }\n",
       "\n",
       "    .dataframe tbody tr th {\n",
       "        vertical-align: top;\n",
       "    }\n",
       "\n",
       "    .dataframe thead th {\n",
       "        text-align: right;\n",
       "    }\n",
       "</style>\n",
       "<table border=\"1\" class=\"dataframe\">\n",
       "  <thead>\n",
       "    <tr style=\"text-align: right;\">\n",
       "      <th></th>\n",
       "      <th>'자전거번호'</th>\n",
       "      <th>'대여일시'</th>\n",
       "      <th>'대여대여소번호'</th>\n",
       "      <th>'대여대여소명'</th>\n",
       "      <th>'대여거치대'</th>\n",
       "      <th>'반납일시'</th>\n",
       "      <th>'반납대여소번호'</th>\n",
       "      <th>'반납대여소명'</th>\n",
       "      <th>'반납거치대'</th>\n",
       "      <th>'이용시간(분)'</th>\n",
       "      <th>'이용거리(M)'</th>\n",
       "    </tr>\n",
       "  </thead>\n",
       "  <tbody>\n",
       "    <tr>\n",
       "      <th>0</th>\n",
       "      <td>'SPB-02041'</td>\n",
       "      <td>'2018-01-01 00:00:10'</td>\n",
       "      <td>'227'</td>\n",
       "      <td>' 양평2나들목 보행통로 입구'</td>\n",
       "      <td>9</td>\n",
       "      <td>'2018-01-01 00:04:03'</td>\n",
       "      <td>'227'</td>\n",
       "      <td>' 양평2나들목 보행통로 입구'</td>\n",
       "      <td>9</td>\n",
       "      <td>3</td>\n",
       "      <td>50</td>\n",
       "    </tr>\n",
       "    <tr>\n",
       "      <th>1</th>\n",
       "      <td>'SPB-03796'</td>\n",
       "      <td>'2018-01-01 00:00:42'</td>\n",
       "      <td>'2219'</td>\n",
       "      <td>' 고속터미널역 8-1번, 8-2번 출구 사이'</td>\n",
       "      <td>15</td>\n",
       "      <td>'2018-01-01 00:25:41'</td>\n",
       "      <td>'3511'</td>\n",
       "      <td>' 응봉역 1번출구'</td>\n",
       "      <td>9</td>\n",
       "      <td>24</td>\n",
       "      <td>7670</td>\n",
       "    </tr>\n",
       "    <tr>\n",
       "      <th>2</th>\n",
       "      <td>'SPB-02402'</td>\n",
       "      <td>'2018-01-01 00:00:58'</td>\n",
       "      <td>'567'</td>\n",
       "      <td>' 성수역 2번출구 앞'</td>\n",
       "      <td>13</td>\n",
       "      <td>'2018-01-01 00:09:33'</td>\n",
       "      <td>'3506'</td>\n",
       "      <td>' 영동대교 북단'</td>\n",
       "      <td>2</td>\n",
       "      <td>8</td>\n",
       "      <td>1390</td>\n",
       "    </tr>\n",
       "    <tr>\n",
       "      <th>3</th>\n",
       "      <td>'SPB-01564'</td>\n",
       "      <td>'2018-01-01 00:01:02'</td>\n",
       "      <td>'568'</td>\n",
       "      <td>' 청계8가사거리 부근'</td>\n",
       "      <td>5</td>\n",
       "      <td>'2018-01-01 00:10:13'</td>\n",
       "      <td>'521'</td>\n",
       "      <td>' 왕십리역 11번 출구 앞'</td>\n",
       "      <td>9</td>\n",
       "      <td>8</td>\n",
       "      <td>1820</td>\n",
       "    </tr>\n",
       "    <tr>\n",
       "      <th>4</th>\n",
       "      <td>'SPB-05713'</td>\n",
       "      <td>'2018-01-01 00:01:03'</td>\n",
       "      <td>'361'</td>\n",
       "      <td>' 동묘앞역 1번출구 뒤'</td>\n",
       "      <td>4</td>\n",
       "      <td>'2018-01-01 00:06:18'</td>\n",
       "      <td>'383'</td>\n",
       "      <td>' 신당역 12번 출구 뒤'</td>\n",
       "      <td>8</td>\n",
       "      <td>4</td>\n",
       "      <td>850</td>\n",
       "    </tr>\n",
       "  </tbody>\n",
       "</table>\n",
       "</div>"
      ],
      "text/plain": [
       "       '자전거번호'                 '대여일시' '대여대여소번호'                    '대여대여소명'  \\\n",
       "0  'SPB-02041'  '2018-01-01 00:00:10'     '227'           ' 양평2나들목 보행통로 입구'   \n",
       "1  'SPB-03796'  '2018-01-01 00:00:42'    '2219'  ' 고속터미널역 8-1번, 8-2번 출구 사이'   \n",
       "2  'SPB-02402'  '2018-01-01 00:00:58'     '567'               ' 성수역 2번출구 앞'   \n",
       "3  'SPB-01564'  '2018-01-01 00:01:02'     '568'               ' 청계8가사거리 부근'   \n",
       "4  'SPB-05713'  '2018-01-01 00:01:03'     '361'              ' 동묘앞역 1번출구 뒤'   \n",
       "\n",
       "   '대여거치대'                 '반납일시' '반납대여소번호'           '반납대여소명'  '반납거치대'  \\\n",
       "0        9  '2018-01-01 00:04:03'     '227'  ' 양평2나들목 보행통로 입구'        9   \n",
       "1       15  '2018-01-01 00:25:41'    '3511'        ' 응봉역 1번출구'        9   \n",
       "2       13  '2018-01-01 00:09:33'    '3506'         ' 영동대교 북단'        2   \n",
       "3        5  '2018-01-01 00:10:13'     '521'   ' 왕십리역 11번 출구 앞'        9   \n",
       "4        4  '2018-01-01 00:06:18'     '383'    ' 신당역 12번 출구 뒤'        8   \n",
       "\n",
       "   '이용시간(분)'  '이용거리(M)'  \n",
       "0          3         50  \n",
       "1         24       7670  \n",
       "2          8       1390  \n",
       "3          8       1820  \n",
       "4          4        850  "
      ]
     },
     "execution_count": 6,
     "metadata": {},
     "output_type": "execute_result"
    }
   ],
   "source": [
    "df1_1.head()"
   ]
  },
  {
   "cell_type": "code",
   "execution_count": 7,
   "metadata": {},
   "outputs": [
    {
     "data": {
      "text/plain": [
       "(677878, 11)"
      ]
     },
     "execution_count": 7,
     "metadata": {},
     "output_type": "execute_result"
    }
   ],
   "source": [
    "df2_1 = pd.read_csv(folder_path+'서울특별시 공공자전거 대여이력 정보_2018년_2분기_1.csv', encoding='cp949')\n",
    "df2_1.shape"
   ]
  },
  {
   "cell_type": "code",
   "execution_count": 8,
   "metadata": {},
   "outputs": [
    {
     "data": {
      "text/plain": [
       "(951446, 11)"
      ]
     },
     "execution_count": 8,
     "metadata": {},
     "output_type": "execute_result"
    }
   ],
   "source": [
    "df2_2 = pd.read_csv(folder_path+'서울특별시 공공자전거 대여이력 정보_2018년_2분기_2.csv', encoding='cp949')\n",
    "df2_2.shape"
   ]
  },
  {
   "cell_type": "code",
   "execution_count": 9,
   "metadata": {},
   "outputs": [
    {
     "data": {
      "text/plain": [
       "(566859, 11)"
      ]
     },
     "execution_count": 9,
     "metadata": {},
     "output_type": "execute_result"
    }
   ],
   "source": [
    "df2_3 = pd.read_csv(folder_path+'서울특별시 공공자전거 대여이력 정보_2018년_2분기_3.csv', encoding='cp949')\n",
    "df2_3.shape"
   ]
  },
  {
   "cell_type": "code",
   "execution_count": 10,
   "metadata": {},
   "outputs": [
    {
     "data": {
      "text/plain": [
       "(586304, 11)"
      ]
     },
     "execution_count": 10,
     "metadata": {},
     "output_type": "execute_result"
    }
   ],
   "source": [
    "df2_4 = pd.read_csv(folder_path+'서울특별시 공공자전거 대여이력 정보_2018년_2분기_4.csv', encoding='cp949')\n",
    "df2_4.shape"
   ]
  },
  {
   "cell_type": "code",
   "execution_count": 11,
   "metadata": {},
   "outputs": [
    {
     "data": {
      "text/plain": [
       "(3567221, 11)"
      ]
     },
     "execution_count": 11,
     "metadata": {},
     "output_type": "execute_result"
    }
   ],
   "source": [
    "df = pd.concat([df1_1, df2_1, df2_2, df2_3, df2_4])\n",
    "df.shape"
   ]
  },
  {
   "cell_type": "code",
   "execution_count": 13,
   "metadata": {},
   "outputs": [],
   "source": [
    "# 불필요하게 '가 들어가 있다. 스트링 타입으로 되어있는 데이터에서 '을 제거하자.\n",
    "df.iloc[:, :4] = df.iloc[:, :4].apply(lambda x: x.str.strip(\"'\"))\n",
    "df.iloc[:, 5:8] = df.iloc[:, 5:8].apply(lambda x: x.str.strip(\"'\"))"
   ]
  },
  {
   "cell_type": "code",
   "execution_count": null,
   "metadata": {},
   "outputs": [],
   "source": [
    "df.to_csv('seoul-bike-2018.csv')"
   ]
  }
 ],
 "metadata": {
  "kernelspec": {
   "display_name": "Python 3",
   "language": "python",
   "name": "python3"
  },
  "language_info": {
   "codemirror_mode": {
    "name": "ipython",
    "version": 3
   },
   "file_extension": ".py",
   "mimetype": "text/x-python",
   "name": "python",
   "nbconvert_exporter": "python",
   "pygments_lexer": "ipython3",
   "version": "3.6.1"
  }
 },
 "nbformat": 4,
 "nbformat_minor": 2
}
