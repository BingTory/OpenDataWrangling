{
 "cells": [
  {
   "cell_type": "code",
   "execution_count": 1,
   "metadata": {},
   "outputs": [],
   "source": [
    "import pandas as pd"
   ]
  },
  {
   "cell_type": "code",
   "execution_count": 2,
   "metadata": {},
   "outputs": [
    {
     "name": "stdout",
     "output_type": "stream",
     "text": [
      "서울_공공자전거_따릉이_이용현황자료_20161026.xlsx\n",
      "서울특별시 공공자전거 대여이력 정보_2015년.csv\n",
      "서울특별시 공공자전거 대여이력 정보_2016년_1.csv\n",
      "서울특별시 공공자전거 대여이력 정보_2016년_2.csv\n",
      "서울특별시 공공자전거 대여이력 정보_2016년_3.csv\n",
      "서울특별시 공공자전거 대여이력 정보_2017년_1.csv\n",
      "서울특별시 공공자전거 대여이력 정보_2017년_2분기_1.csv\n",
      "서울특별시 공공자전거 대여이력 정보_2017년_2분기_2.csv\n",
      "서울특별시 공공자전거 대여이력 정보_2017년_3분기_1.csv\n",
      "서울특별시 공공자전거 대여이력 정보_2017년_3분기_2.csv\n",
      "서울특별시 공공자전거 대여이력 정보_2017년_4분기_1.csv\n",
      "서울특별시 공공자전거 대여이력 정보_2017년_4분기_2.csv\n",
      "서울특별시 공공자전거 대여이력 정보_2018년_1분기1.csv\n",
      "서울특별시 공공자전거 대여이력 정보_2018년_2분기_1.csv\n",
      "서울특별시 공공자전거 대여이력 정보_2018년_2분기_2.csv\n",
      "서울특별시 공공자전거 대여이력 정보_2018년_2분기_3.csv\n",
      "서울특별시 공공자전거 대여이력 정보_2018년_2분기_4.csv\n"
     ]
    }
   ],
   "source": [
    "%ls data/seoul_bike/"
   ]
  },
  {
   "cell_type": "code",
   "execution_count": 3,
   "metadata": {},
   "outputs": [
    {
     "data": {
      "text/plain": [
       "['서울특별시 공공자전거 대여이력 정보_2018년_1분기1.csv',\n",
       " '서울특별시 공공자전거 대여이력 정보_2017년_2분기_2.csv',\n",
       " '서울특별시 공공자전거 대여이력 정보_2018년_2분기_1.csv',\n",
       " '서울특별시 공공자전거 대여이력 정보_2017년_2분기_1.csv',\n",
       " '서울특별시 공공자전거 대여이력 정보_2018년_2분기_3.csv',\n",
       " '서울특별시 공공자전거 대여이력 정보_2018년_2분기_2.csv',\n",
       " '서울특별시 공공자전거 대여이력 정보_2018년_2분기_4.csv',\n",
       " '서울특별시 공공자전거 대여이력 정보_2015년.csv',\n",
       " '서울특별시 공공자전거 대여이력 정보_2017년_3분기_2.csv',\n",
       " '서울특별시 공공자전거 대여이력 정보_2017년_3분기_1.csv',\n",
       " '서울특별시 공공자전거 대여이력 정보_2017년_4분기_1.csv',\n",
       " '서울특별시 공공자전거 대여이력 정보_2017년_4분기_2.csv',\n",
       " '서울특별시 공공자전거 대여이력 정보_2016년_2.csv',\n",
       " '서울특별시 공공자전거 대여이력 정보_2016년_3.csv',\n",
       " '서울특별시 공공자전거 대여이력 정보_2016년_1.csv',\n",
       " '서울특별시 공공자전거 대여이력 정보_2017년_1.csv']"
      ]
     },
     "execution_count": 3,
     "metadata": {},
     "output_type": "execute_result"
    }
   ],
   "source": [
    "import os\n",
    "\n",
    "file_lists = []\n",
    "for root, dirs, files in os.walk(\"data/seoul_bike/\"):  \n",
    "    for filename in files:\n",
    "        if filename.startswith('서울특별시') :\n",
    "            file_lists.append(filename)\n",
    "            \n",
    "file_lists           "
   ]
  },
  {
   "cell_type": "code",
   "execution_count": 4,
   "metadata": {},
   "outputs": [
    {
     "data": {
      "text/plain": [
       "(677878, 11)"
      ]
     },
     "execution_count": 4,
     "metadata": {},
     "output_type": "execute_result"
    }
   ],
   "source": [
    "df2_1 = pd.read_csv('data/seoul_bike/서울특별시 공공자전거 대여이력 정보_2018년_2분기_1.csv', encoding='cp949')\n",
    "df2_1.shape"
   ]
  },
  {
   "cell_type": "code",
   "execution_count": 5,
   "metadata": {},
   "outputs": [
    {
     "data": {
      "text/html": [
       "<div>\n",
       "<style scoped>\n",
       "    .dataframe tbody tr th:only-of-type {\n",
       "        vertical-align: middle;\n",
       "    }\n",
       "\n",
       "    .dataframe tbody tr th {\n",
       "        vertical-align: top;\n",
       "    }\n",
       "\n",
       "    .dataframe thead th {\n",
       "        text-align: right;\n",
       "    }\n",
       "</style>\n",
       "<table border=\"1\" class=\"dataframe\">\n",
       "  <thead>\n",
       "    <tr style=\"text-align: right;\">\n",
       "      <th></th>\n",
       "      <th>'자전거번호'</th>\n",
       "      <th>'대여일시'</th>\n",
       "      <th>'대여대여소번호'</th>\n",
       "      <th>'대여대여소명'</th>\n",
       "      <th>'대여거치대'</th>\n",
       "      <th>'반납일시'</th>\n",
       "      <th>'반납대여소번호'</th>\n",
       "      <th>'반납대여소명'</th>\n",
       "      <th>'반납거치대'</th>\n",
       "      <th>'이용시간(분)'</th>\n",
       "      <th>'이용거리(M)'</th>\n",
       "    </tr>\n",
       "  </thead>\n",
       "  <tbody>\n",
       "    <tr>\n",
       "      <th>0</th>\n",
       "      <td>'SPB-15882'</td>\n",
       "      <td>'2018-04-01 00:00:01'</td>\n",
       "      <td>'266'</td>\n",
       "      <td>' 영등포청과시장 사거리'</td>\n",
       "      <td>9</td>\n",
       "      <td>'2018-04-01 00:07:39'</td>\n",
       "      <td>'245'</td>\n",
       "      <td>' 삼성생명 당산사옥 앞'</td>\n",
       "      <td>1</td>\n",
       "      <td>7</td>\n",
       "      <td>1390</td>\n",
       "    </tr>\n",
       "    <tr>\n",
       "      <th>1</th>\n",
       "      <td>'SPB-06226'</td>\n",
       "      <td>'2018-04-01 00:00:16'</td>\n",
       "      <td>'1946'</td>\n",
       "      <td>' 구로역 광장'</td>\n",
       "      <td>1</td>\n",
       "      <td>'2018-04-01 00:44:38'</td>\n",
       "      <td>'1820'</td>\n",
       "      <td>' 신한은행 시흥대로금융센터지점'</td>\n",
       "      <td>1</td>\n",
       "      <td>44</td>\n",
       "      <td>9170</td>\n",
       "    </tr>\n",
       "    <tr>\n",
       "      <th>2</th>\n",
       "      <td>'SPB-03366'</td>\n",
       "      <td>'2018-04-01 00:00:17'</td>\n",
       "      <td>'1449'</td>\n",
       "      <td>' 상봉역 1번출구'</td>\n",
       "      <td>14</td>\n",
       "      <td>'2018-04-01 00:42:56'</td>\n",
       "      <td>'1433'</td>\n",
       "      <td>' 중화역 2번출구'</td>\n",
       "      <td>6</td>\n",
       "      <td>42</td>\n",
       "      <td>4700</td>\n",
       "    </tr>\n",
       "    <tr>\n",
       "      <th>3</th>\n",
       "      <td>'SPB-12878'</td>\n",
       "      <td>'2018-04-01 00:00:20'</td>\n",
       "      <td>'2034'</td>\n",
       "      <td>' 사당역 7번출구쪽'</td>\n",
       "      <td>18</td>\n",
       "      <td>'2018-04-01 00:34:22'</td>\n",
       "      <td>'2032'</td>\n",
       "      <td>' 이수역 11번출구쪽'</td>\n",
       "      <td>5</td>\n",
       "      <td>32</td>\n",
       "      <td>5430</td>\n",
       "    </tr>\n",
       "    <tr>\n",
       "      <th>4</th>\n",
       "      <td>'SPB-14075'</td>\n",
       "      <td>'2018-04-01 00:00:23'</td>\n",
       "      <td>'141'</td>\n",
       "      <td>' 연대 대운동장 옆'</td>\n",
       "      <td>15</td>\n",
       "      <td>'2018-04-01 00:10:59'</td>\n",
       "      <td>'172'</td>\n",
       "      <td>' 서대문소방서'</td>\n",
       "      <td>1</td>\n",
       "      <td>10</td>\n",
       "      <td>1960</td>\n",
       "    </tr>\n",
       "  </tbody>\n",
       "</table>\n",
       "</div>"
      ],
      "text/plain": [
       "       '자전거번호'                 '대여일시' '대여대여소번호'        '대여대여소명'  '대여거치대'  \\\n",
       "0  'SPB-15882'  '2018-04-01 00:00:01'     '266'  ' 영등포청과시장 사거리'        9   \n",
       "1  'SPB-06226'  '2018-04-01 00:00:16'    '1946'       ' 구로역 광장'        1   \n",
       "2  'SPB-03366'  '2018-04-01 00:00:17'    '1449'     ' 상봉역 1번출구'       14   \n",
       "3  'SPB-12878'  '2018-04-01 00:00:20'    '2034'    ' 사당역 7번출구쪽'       18   \n",
       "4  'SPB-14075'  '2018-04-01 00:00:23'     '141'    ' 연대 대운동장 옆'       15   \n",
       "\n",
       "                  '반납일시' '반납대여소번호'            '반납대여소명'  '반납거치대'  '이용시간(분)'  \\\n",
       "0  '2018-04-01 00:07:39'     '245'      ' 삼성생명 당산사옥 앞'        1          7   \n",
       "1  '2018-04-01 00:44:38'    '1820'  ' 신한은행 시흥대로금융센터지점'        1         44   \n",
       "2  '2018-04-01 00:42:56'    '1433'         ' 중화역 2번출구'        6         42   \n",
       "3  '2018-04-01 00:34:22'    '2032'       ' 이수역 11번출구쪽'        5         32   \n",
       "4  '2018-04-01 00:10:59'     '172'           ' 서대문소방서'        1         10   \n",
       "\n",
       "   '이용거리(M)'  \n",
       "0       1390  \n",
       "1       9170  \n",
       "2       4700  \n",
       "3       5430  \n",
       "4       1960  "
      ]
     },
     "execution_count": 5,
     "metadata": {},
     "output_type": "execute_result"
    }
   ],
   "source": [
    "df2_1.head()"
   ]
  },
  {
   "cell_type": "code",
   "execution_count": null,
   "metadata": {},
   "outputs": [],
   "source": []
  }
 ],
 "metadata": {
  "kernelspec": {
   "display_name": "Python 3",
   "language": "python",
   "name": "python3"
  },
  "language_info": {
   "codemirror_mode": {
    "name": "ipython",
    "version": 3
   },
   "file_extension": ".py",
   "mimetype": "text/x-python",
   "name": "python",
   "nbconvert_exporter": "python",
   "pygments_lexer": "ipython3",
   "version": "3.6.1"
  }
 },
 "nbformat": 4,
 "nbformat_minor": 2
}
