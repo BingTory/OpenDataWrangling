{
 "cells": [
  {
   "cell_type": "markdown",
   "metadata": {},
   "source": [
    "## 데이터 출처 :\n",
    "* 서울특별시 공공자전거 대여이력 정보\n",
    "http://data.seoul.go.kr/dataList/datasetView.do?infId=OA-15182&srvType=F&serviceKind=1&currentPageNo=1\n",
    "\n",
    "* `(이달의주요공개정보)_서울_공공자전거(따릉이)_이용현황 자료(161021).xlsx (1.24MB)`\n",
    "https://opengov.seoul.go.kr/anspruch/10045476\n",
    "\n",
    "\n",
    "## 관련자료 \n",
    "* [(석간) 서울시 따릉이 회원 62만 돌파 출 퇴근시간 38% 집중](http://spp.seoul.go.kr/main/news/news_report.jsp#view/253821)\n",
    "* [공공자전거 따릉이 인기 따라 '따세권' 형성…소외지역도 :: 공감언론 뉴시스통신사 ::](http://www.newsis.com/view/?id=NISX20180706_0000356247&cID=10201&pID=10200)"
   ]
  },
  {
   "cell_type": "code",
   "execution_count": 1,
   "metadata": {},
   "outputs": [],
   "source": [
    "import pandas as pd\n",
    "import csv"
   ]
  },
  {
   "cell_type": "code",
   "execution_count": 2,
   "metadata": {},
   "outputs": [
    {
     "name": "stdout",
     "output_type": "stream",
     "text": [
      "서울_공공자전거_따릉이_이용현황자료_20161026.xlsx\n",
      "서울특별시 공공자전거 대여이력 정보_2015년.csv\n",
      "서울특별시 공공자전거 대여이력 정보_2016년_1.csv\n",
      "서울특별시 공공자전거 대여이력 정보_2016년_2.csv\n",
      "서울특별시 공공자전거 대여이력 정보_2016년_3.csv\n",
      "서울특별시 공공자전거 대여이력 정보_2017년_1.csv\n",
      "서울특별시 공공자전거 대여이력 정보_2017년_2분기_1.csv\n",
      "서울특별시 공공자전거 대여이력 정보_2017년_2분기_2.csv\n",
      "서울특별시 공공자전거 대여이력 정보_2017년_3분기_1.csv\n",
      "서울특별시 공공자전거 대여이력 정보_2017년_3분기_2.csv\n",
      "서울특별시 공공자전거 대여이력 정보_2017년_4분기_1.csv\n",
      "서울특별시 공공자전거 대여이력 정보_2017년_4분기_2.csv\n",
      "서울특별시 공공자전거 대여이력 정보_2018년_1분기1.csv\n",
      "서울특별시 공공자전거 대여이력 정보_2018년_2분기_1.csv\n",
      "서울특별시 공공자전거 대여이력 정보_2018년_2분기_2.csv\n",
      "서울특별시 공공자전거 대여이력 정보_2018년_2분기_3.csv\n",
      "서울특별시 공공자전거 대여이력 정보_2018년_2분기_4.csv\n"
     ]
    }
   ],
   "source": [
    "%ls data/seoul_bike/"
   ]
  },
  {
   "cell_type": "code",
   "execution_count": 3,
   "metadata": {},
   "outputs": [
    {
     "data": {
      "text/plain": [
       "(784734, 11)"
      ]
     },
     "execution_count": 3,
     "metadata": {},
     "output_type": "execute_result"
    }
   ],
   "source": [
    "df = pd.read_csv('data/seoul_bike/서울특별시 공공자전거 대여이력 정보_2018년_1분기1.csv', encoding='euc-kr')\n",
    "df.shape"
   ]
  },
  {
   "cell_type": "code",
   "execution_count": 4,
   "metadata": {},
   "outputs": [
    {
     "data": {
      "text/html": [
       "<div>\n",
       "<style scoped>\n",
       "    .dataframe tbody tr th:only-of-type {\n",
       "        vertical-align: middle;\n",
       "    }\n",
       "\n",
       "    .dataframe tbody tr th {\n",
       "        vertical-align: top;\n",
       "    }\n",
       "\n",
       "    .dataframe thead th {\n",
       "        text-align: right;\n",
       "    }\n",
       "</style>\n",
       "<table border=\"1\" class=\"dataframe\">\n",
       "  <thead>\n",
       "    <tr style=\"text-align: right;\">\n",
       "      <th></th>\n",
       "      <th>'자전거번호'</th>\n",
       "      <th>'대여일시'</th>\n",
       "      <th>'대여대여소번호'</th>\n",
       "      <th>'대여대여소명'</th>\n",
       "      <th>'대여거치대'</th>\n",
       "      <th>'반납일시'</th>\n",
       "      <th>'반납대여소번호'</th>\n",
       "      <th>'반납대여소명'</th>\n",
       "      <th>'반납거치대'</th>\n",
       "      <th>'이용시간(분)'</th>\n",
       "      <th>'이용거리(M)'</th>\n",
       "    </tr>\n",
       "  </thead>\n",
       "  <tbody>\n",
       "    <tr>\n",
       "      <th>0</th>\n",
       "      <td>'SPB-02041'</td>\n",
       "      <td>'2018-01-01 00:00:10'</td>\n",
       "      <td>'227'</td>\n",
       "      <td>' 양평2나들목 보행통로 입구'</td>\n",
       "      <td>9</td>\n",
       "      <td>'2018-01-01 00:04:03'</td>\n",
       "      <td>'227'</td>\n",
       "      <td>' 양평2나들목 보행통로 입구'</td>\n",
       "      <td>9</td>\n",
       "      <td>3</td>\n",
       "      <td>50</td>\n",
       "    </tr>\n",
       "    <tr>\n",
       "      <th>1</th>\n",
       "      <td>'SPB-03796'</td>\n",
       "      <td>'2018-01-01 00:00:42'</td>\n",
       "      <td>'2219'</td>\n",
       "      <td>' 고속터미널역 8-1번, 8-2번 출구 사이'</td>\n",
       "      <td>15</td>\n",
       "      <td>'2018-01-01 00:25:41'</td>\n",
       "      <td>'3511'</td>\n",
       "      <td>' 응봉역 1번출구'</td>\n",
       "      <td>9</td>\n",
       "      <td>24</td>\n",
       "      <td>7670</td>\n",
       "    </tr>\n",
       "    <tr>\n",
       "      <th>2</th>\n",
       "      <td>'SPB-02402'</td>\n",
       "      <td>'2018-01-01 00:00:58'</td>\n",
       "      <td>'567'</td>\n",
       "      <td>' 성수역 2번출구 앞'</td>\n",
       "      <td>13</td>\n",
       "      <td>'2018-01-01 00:09:33'</td>\n",
       "      <td>'3506'</td>\n",
       "      <td>' 영동대교 북단'</td>\n",
       "      <td>2</td>\n",
       "      <td>8</td>\n",
       "      <td>1390</td>\n",
       "    </tr>\n",
       "    <tr>\n",
       "      <th>3</th>\n",
       "      <td>'SPB-01564'</td>\n",
       "      <td>'2018-01-01 00:01:02'</td>\n",
       "      <td>'568'</td>\n",
       "      <td>' 청계8가사거리 부근'</td>\n",
       "      <td>5</td>\n",
       "      <td>'2018-01-01 00:10:13'</td>\n",
       "      <td>'521'</td>\n",
       "      <td>' 왕십리역 11번 출구 앞'</td>\n",
       "      <td>9</td>\n",
       "      <td>8</td>\n",
       "      <td>1820</td>\n",
       "    </tr>\n",
       "    <tr>\n",
       "      <th>4</th>\n",
       "      <td>'SPB-05713'</td>\n",
       "      <td>'2018-01-01 00:01:03'</td>\n",
       "      <td>'361'</td>\n",
       "      <td>' 동묘앞역 1번출구 뒤'</td>\n",
       "      <td>4</td>\n",
       "      <td>'2018-01-01 00:06:18'</td>\n",
       "      <td>'383'</td>\n",
       "      <td>' 신당역 12번 출구 뒤'</td>\n",
       "      <td>8</td>\n",
       "      <td>4</td>\n",
       "      <td>850</td>\n",
       "    </tr>\n",
       "  </tbody>\n",
       "</table>\n",
       "</div>"
      ],
      "text/plain": [
       "       '자전거번호'                 '대여일시' '대여대여소번호'                    '대여대여소명'  \\\n",
       "0  'SPB-02041'  '2018-01-01 00:00:10'     '227'           ' 양평2나들목 보행통로 입구'   \n",
       "1  'SPB-03796'  '2018-01-01 00:00:42'    '2219'  ' 고속터미널역 8-1번, 8-2번 출구 사이'   \n",
       "2  'SPB-02402'  '2018-01-01 00:00:58'     '567'               ' 성수역 2번출구 앞'   \n",
       "3  'SPB-01564'  '2018-01-01 00:01:02'     '568'               ' 청계8가사거리 부근'   \n",
       "4  'SPB-05713'  '2018-01-01 00:01:03'     '361'              ' 동묘앞역 1번출구 뒤'   \n",
       "\n",
       "   '대여거치대'                 '반납일시' '반납대여소번호'           '반납대여소명'  '반납거치대'  \\\n",
       "0        9  '2018-01-01 00:04:03'     '227'  ' 양평2나들목 보행통로 입구'        9   \n",
       "1       15  '2018-01-01 00:25:41'    '3511'        ' 응봉역 1번출구'        9   \n",
       "2       13  '2018-01-01 00:09:33'    '3506'         ' 영동대교 북단'        2   \n",
       "3        5  '2018-01-01 00:10:13'     '521'   ' 왕십리역 11번 출구 앞'        9   \n",
       "4        4  '2018-01-01 00:06:18'     '383'    ' 신당역 12번 출구 뒤'        8   \n",
       "\n",
       "   '이용시간(분)'  '이용거리(M)'  \n",
       "0          3         50  \n",
       "1         24       7670  \n",
       "2          8       1390  \n",
       "3          8       1820  \n",
       "4          4        850  "
      ]
     },
     "execution_count": 4,
     "metadata": {},
     "output_type": "execute_result"
    }
   ],
   "source": [
    "df.head()"
   ]
  },
  {
   "cell_type": "code",
   "execution_count": 5,
   "metadata": {},
   "outputs": [
    {
     "name": "stdout",
     "output_type": "stream",
     "text": [
      "<class 'pandas.core.frame.DataFrame'>\n",
      "RangeIndex: 784734 entries, 0 to 784733\n",
      "Data columns (total 11 columns):\n",
      "'자전거번호'      784734 non-null object\n",
      "'대여일시'       784734 non-null object\n",
      "'대여대여소번호'    784734 non-null object\n",
      "'대여대여소명'     784734 non-null object\n",
      "'대여거치대'      784734 non-null int64\n",
      "'반납일시'       784734 non-null object\n",
      "'반납대여소번호'    784734 non-null object\n",
      "'반납대여소명'     784734 non-null object\n",
      "'반납거치대'      784734 non-null int64\n",
      "'이용시간(분)'    784734 non-null int64\n",
      "'이용거리(M)'    784734 non-null int64\n",
      "dtypes: int64(4), object(7)\n",
      "memory usage: 65.9+ MB\n"
     ]
    }
   ],
   "source": [
    "df.info()"
   ]
  },
  {
   "cell_type": "code",
   "execution_count": 6,
   "metadata": {},
   "outputs": [],
   "source": [
    "df.columns = df.columns.str.strip(\"'\")"
   ]
  },
  {
   "cell_type": "code",
   "execution_count": 7,
   "metadata": {},
   "outputs": [
    {
     "data": {
      "text/plain": [
       "dtype('O')"
      ]
     },
     "execution_count": 7,
     "metadata": {},
     "output_type": "execute_result"
    }
   ],
   "source": [
    "df['반납일시'].dtypes"
   ]
  },
  {
   "cell_type": "code",
   "execution_count": 8,
   "metadata": {},
   "outputs": [],
   "source": [
    "# 불필요하게 '가 들어가 있다. 스트링 타입으로 되어있는 데이터에서 '을 제거하자.\n",
    "df.iloc[:, :4] = df.iloc[:, :4].apply(lambda x: x.str.strip(\"'\"))\n",
    "df.iloc[:, 5:8] = df.iloc[:, 5:8].apply(lambda x: x.str.strip(\"'\"))"
   ]
  },
  {
   "cell_type": "code",
   "execution_count": 9,
   "metadata": {},
   "outputs": [
    {
     "data": {
      "text/html": [
       "<div>\n",
       "<style scoped>\n",
       "    .dataframe tbody tr th:only-of-type {\n",
       "        vertical-align: middle;\n",
       "    }\n",
       "\n",
       "    .dataframe tbody tr th {\n",
       "        vertical-align: top;\n",
       "    }\n",
       "\n",
       "    .dataframe thead th {\n",
       "        text-align: right;\n",
       "    }\n",
       "</style>\n",
       "<table border=\"1\" class=\"dataframe\">\n",
       "  <thead>\n",
       "    <tr style=\"text-align: right;\">\n",
       "      <th></th>\n",
       "      <th>자전거번호</th>\n",
       "      <th>대여일시</th>\n",
       "      <th>대여대여소번호</th>\n",
       "      <th>대여대여소명</th>\n",
       "      <th>대여거치대</th>\n",
       "      <th>반납일시</th>\n",
       "      <th>반납대여소번호</th>\n",
       "      <th>반납대여소명</th>\n",
       "      <th>반납거치대</th>\n",
       "      <th>이용시간(분)</th>\n",
       "      <th>이용거리(M)</th>\n",
       "    </tr>\n",
       "  </thead>\n",
       "  <tbody>\n",
       "    <tr>\n",
       "      <th>0</th>\n",
       "      <td>SPB-02041</td>\n",
       "      <td>2018-01-01 00:00:10</td>\n",
       "      <td>227</td>\n",
       "      <td>양평2나들목 보행통로 입구</td>\n",
       "      <td>9</td>\n",
       "      <td>2018-01-01 00:04:03</td>\n",
       "      <td>227</td>\n",
       "      <td>양평2나들목 보행통로 입구</td>\n",
       "      <td>9</td>\n",
       "      <td>3</td>\n",
       "      <td>50</td>\n",
       "    </tr>\n",
       "    <tr>\n",
       "      <th>1</th>\n",
       "      <td>SPB-03796</td>\n",
       "      <td>2018-01-01 00:00:42</td>\n",
       "      <td>2219</td>\n",
       "      <td>고속터미널역 8-1번, 8-2번 출구 사이</td>\n",
       "      <td>15</td>\n",
       "      <td>2018-01-01 00:25:41</td>\n",
       "      <td>3511</td>\n",
       "      <td>응봉역 1번출구</td>\n",
       "      <td>9</td>\n",
       "      <td>24</td>\n",
       "      <td>7670</td>\n",
       "    </tr>\n",
       "    <tr>\n",
       "      <th>2</th>\n",
       "      <td>SPB-02402</td>\n",
       "      <td>2018-01-01 00:00:58</td>\n",
       "      <td>567</td>\n",
       "      <td>성수역 2번출구 앞</td>\n",
       "      <td>13</td>\n",
       "      <td>2018-01-01 00:09:33</td>\n",
       "      <td>3506</td>\n",
       "      <td>영동대교 북단</td>\n",
       "      <td>2</td>\n",
       "      <td>8</td>\n",
       "      <td>1390</td>\n",
       "    </tr>\n",
       "    <tr>\n",
       "      <th>3</th>\n",
       "      <td>SPB-01564</td>\n",
       "      <td>2018-01-01 00:01:02</td>\n",
       "      <td>568</td>\n",
       "      <td>청계8가사거리 부근</td>\n",
       "      <td>5</td>\n",
       "      <td>2018-01-01 00:10:13</td>\n",
       "      <td>521</td>\n",
       "      <td>왕십리역 11번 출구 앞</td>\n",
       "      <td>9</td>\n",
       "      <td>8</td>\n",
       "      <td>1820</td>\n",
       "    </tr>\n",
       "    <tr>\n",
       "      <th>4</th>\n",
       "      <td>SPB-05713</td>\n",
       "      <td>2018-01-01 00:01:03</td>\n",
       "      <td>361</td>\n",
       "      <td>동묘앞역 1번출구 뒤</td>\n",
       "      <td>4</td>\n",
       "      <td>2018-01-01 00:06:18</td>\n",
       "      <td>383</td>\n",
       "      <td>신당역 12번 출구 뒤</td>\n",
       "      <td>8</td>\n",
       "      <td>4</td>\n",
       "      <td>850</td>\n",
       "    </tr>\n",
       "  </tbody>\n",
       "</table>\n",
       "</div>"
      ],
      "text/plain": [
       "       자전거번호                 대여일시 대여대여소번호                    대여대여소명  대여거치대  \\\n",
       "0  SPB-02041  2018-01-01 00:00:10     227            양평2나들목 보행통로 입구      9   \n",
       "1  SPB-03796  2018-01-01 00:00:42    2219   고속터미널역 8-1번, 8-2번 출구 사이     15   \n",
       "2  SPB-02402  2018-01-01 00:00:58     567                성수역 2번출구 앞     13   \n",
       "3  SPB-01564  2018-01-01 00:01:02     568                청계8가사거리 부근      5   \n",
       "4  SPB-05713  2018-01-01 00:01:03     361               동묘앞역 1번출구 뒤      4   \n",
       "\n",
       "                  반납일시 반납대여소번호           반납대여소명  반납거치대  이용시간(분)  이용거리(M)  \n",
       "0  2018-01-01 00:04:03     227   양평2나들목 보행통로 입구      9        3       50  \n",
       "1  2018-01-01 00:25:41    3511         응봉역 1번출구      9       24     7670  \n",
       "2  2018-01-01 00:09:33    3506          영동대교 북단      2        8     1390  \n",
       "3  2018-01-01 00:10:13     521    왕십리역 11번 출구 앞      9        8     1820  \n",
       "4  2018-01-01 00:06:18     383     신당역 12번 출구 뒤      8        4      850  "
      ]
     },
     "execution_count": 9,
     "metadata": {},
     "output_type": "execute_result"
    }
   ],
   "source": [
    "df.head()"
   ]
  },
  {
   "cell_type": "code",
   "execution_count": 10,
   "metadata": {},
   "outputs": [
    {
     "data": {
      "text/html": [
       "<div>\n",
       "<style scoped>\n",
       "    .dataframe tbody tr th:only-of-type {\n",
       "        vertical-align: middle;\n",
       "    }\n",
       "\n",
       "    .dataframe tbody tr th {\n",
       "        vertical-align: top;\n",
       "    }\n",
       "\n",
       "    .dataframe thead th {\n",
       "        text-align: right;\n",
       "    }\n",
       "</style>\n",
       "<table border=\"1\" class=\"dataframe\">\n",
       "  <thead>\n",
       "    <tr style=\"text-align: right;\">\n",
       "      <th></th>\n",
       "      <th>자전거번호</th>\n",
       "      <th>대여일시</th>\n",
       "      <th>대여대여소번호</th>\n",
       "      <th>대여대여소명</th>\n",
       "      <th>대여거치대</th>\n",
       "      <th>반납일시</th>\n",
       "      <th>반납대여소번호</th>\n",
       "      <th>반납대여소명</th>\n",
       "      <th>반납거치대</th>\n",
       "      <th>이용시간(분)</th>\n",
       "      <th>이용거리(M)</th>\n",
       "    </tr>\n",
       "  </thead>\n",
       "  <tbody>\n",
       "    <tr>\n",
       "      <th>784729</th>\n",
       "      <td>SPB-00326</td>\n",
       "      <td>2018-03-31 23:59:46</td>\n",
       "      <td>2034</td>\n",
       "      <td>사당역 7번출구쪽</td>\n",
       "      <td>4</td>\n",
       "      <td>2018-04-01 00:26:50</td>\n",
       "      <td>2136</td>\n",
       "      <td>신림역 8번출구</td>\n",
       "      <td>7</td>\n",
       "      <td>26</td>\n",
       "      <td>5010</td>\n",
       "    </tr>\n",
       "    <tr>\n",
       "      <th>784730</th>\n",
       "      <td>SPB-07675</td>\n",
       "      <td>2018-03-31 23:59:52</td>\n",
       "      <td>266</td>\n",
       "      <td>영등포청과시장 사거리</td>\n",
       "      <td>10</td>\n",
       "      <td>2018-04-01 00:07:30</td>\n",
       "      <td>245</td>\n",
       "      <td>삼성생명 당산사옥 앞</td>\n",
       "      <td>10</td>\n",
       "      <td>7</td>\n",
       "      <td>950</td>\n",
       "    </tr>\n",
       "    <tr>\n",
       "      <th>784731</th>\n",
       "      <td>SPB-10926</td>\n",
       "      <td>2018-03-31 23:59:54</td>\n",
       "      <td>926</td>\n",
       "      <td>불광역 8번출구</td>\n",
       "      <td>2</td>\n",
       "      <td>2018-04-01 00:40:21</td>\n",
       "      <td>926</td>\n",
       "      <td>불광역 8번출구</td>\n",
       "      <td>6</td>\n",
       "      <td>39</td>\n",
       "      <td>3130</td>\n",
       "    </tr>\n",
       "    <tr>\n",
       "      <th>784732</th>\n",
       "      <td>SPB-15970</td>\n",
       "      <td>2018-03-31 23:59:56</td>\n",
       "      <td>503</td>\n",
       "      <td>더샵스타시티 C동 앞</td>\n",
       "      <td>15</td>\n",
       "      <td>2018-04-01 00:04:38</td>\n",
       "      <td>504</td>\n",
       "      <td>신자초교입구교차로</td>\n",
       "      <td>1</td>\n",
       "      <td>4</td>\n",
       "      <td>590</td>\n",
       "    </tr>\n",
       "    <tr>\n",
       "      <th>784733</th>\n",
       "      <td>SPB-04887</td>\n",
       "      <td>2018-03-31 23:59:58</td>\n",
       "      <td>1026</td>\n",
       "      <td>대명초교 입구 교차로</td>\n",
       "      <td>4</td>\n",
       "      <td>2018-04-01 01:45:18</td>\n",
       "      <td>1017</td>\n",
       "      <td>맥도날드(길동)</td>\n",
       "      <td>11</td>\n",
       "      <td>104</td>\n",
       "      <td>16830</td>\n",
       "    </tr>\n",
       "  </tbody>\n",
       "</table>\n",
       "</div>"
      ],
      "text/plain": [
       "            자전거번호                 대여일시 대여대여소번호        대여대여소명  대여거치대  \\\n",
       "784729  SPB-00326  2018-03-31 23:59:46    2034     사당역 7번출구쪽      4   \n",
       "784730  SPB-07675  2018-03-31 23:59:52     266   영등포청과시장 사거리     10   \n",
       "784731  SPB-10926  2018-03-31 23:59:54     926      불광역 8번출구      2   \n",
       "784732  SPB-15970  2018-03-31 23:59:56     503   더샵스타시티 C동 앞     15   \n",
       "784733  SPB-04887  2018-03-31 23:59:58    1026   대명초교 입구 교차로      4   \n",
       "\n",
       "                       반납일시 반납대여소번호        반납대여소명  반납거치대  이용시간(분)  이용거리(M)  \n",
       "784729  2018-04-01 00:26:50    2136      신림역 8번출구      7       26     5010  \n",
       "784730  2018-04-01 00:07:30     245   삼성생명 당산사옥 앞     10        7      950  \n",
       "784731  2018-04-01 00:40:21     926      불광역 8번출구      6       39     3130  \n",
       "784732  2018-04-01 00:04:38     504     신자초교입구교차로      1        4      590  \n",
       "784733  2018-04-01 01:45:18    1017      맥도날드(길동)     11      104    16830  "
      ]
     },
     "execution_count": 10,
     "metadata": {},
     "output_type": "execute_result"
    }
   ],
   "source": [
    "df.tail()"
   ]
  },
  {
   "cell_type": "code",
   "execution_count": 11,
   "metadata": {},
   "outputs": [
    {
     "name": "stdout",
     "output_type": "stream",
     "text": [
      "<class 'pandas.core.frame.DataFrame'>\n",
      "RangeIndex: 784734 entries, 0 to 784733\n",
      "Data columns (total 11 columns):\n",
      "자전거번호      784734 non-null object\n",
      "대여일시       784734 non-null object\n",
      "대여대여소번호    784734 non-null object\n",
      "대여대여소명     784734 non-null object\n",
      "대여거치대      784734 non-null int64\n",
      "반납일시       784734 non-null object\n",
      "반납대여소번호    784734 non-null object\n",
      "반납대여소명     784734 non-null object\n",
      "반납거치대      784734 non-null int64\n",
      "이용시간(분)    784734 non-null int64\n",
      "이용거리(M)    784734 non-null int64\n",
      "dtypes: int64(4), object(7)\n",
      "memory usage: 65.9+ MB\n"
     ]
    }
   ],
   "source": [
    "df.info()"
   ]
  },
  {
   "cell_type": "code",
   "execution_count": 12,
   "metadata": {},
   "outputs": [
    {
     "data": {
      "text/plain": [
       "자전거번호      0\n",
       "대여일시       0\n",
       "대여대여소번호    0\n",
       "대여대여소명     0\n",
       "대여거치대      0\n",
       "반납일시       0\n",
       "반납대여소번호    0\n",
       "반납대여소명     0\n",
       "반납거치대      0\n",
       "이용시간(분)    0\n",
       "이용거리(M)    0\n",
       "dtype: int64"
      ]
     },
     "execution_count": 12,
     "metadata": {},
     "output_type": "execute_result"
    }
   ],
   "source": [
    "df.isnull().sum()"
   ]
  },
  {
   "cell_type": "code",
   "execution_count": 13,
   "metadata": {},
   "outputs": [
    {
     "data": {
      "text/plain": [
       "207         6219\n",
       "113         5127\n",
       "502         4386\n",
       "1210        3762\n",
       "358         3201\n",
       "540         2910\n",
       "1308        2806\n",
       "2102        2775\n",
       "259         2644\n",
       "415         2640\n",
       "2219        2610\n",
       "152         2564\n",
       "421         2536\n",
       "500         2503\n",
       "311         2471\n",
       "183         2425\n",
       "567         2406\n",
       "409         2402\n",
       "1906        2390\n",
       "501         2338\n",
       "114         2313\n",
       "419         2310\n",
       "106         2298\n",
       "907         2298\n",
       "316         2266\n",
       "210         2254\n",
       "302         2241\n",
       "222         2222\n",
       "107         2180\n",
       "703         2129\n",
       "            ... \n",
       "1967          40\n",
       "1663          38\n",
       "741           37\n",
       "1850          37\n",
       "2303          36\n",
       "1666          34\n",
       "2282          33\n",
       "1652          33\n",
       "952           32\n",
       "1723          31\n",
       "1974          29\n",
       "1669          29\n",
       "1677          25\n",
       "937           24\n",
       "277           24\n",
       "2289          22\n",
       "1968          22\n",
       "2164          20\n",
       "1846          18\n",
       "1984          16\n",
       "1450          16\n",
       "607           13\n",
       "1664           9\n",
       "1727           6\n",
       "1847           6\n",
       "상암센터 정비실       6\n",
       "1671           5\n",
       "위트콤            3\n",
       "1040           3\n",
       "1839           2\n",
       "Name: 대여대여소번호, Length: 1107, dtype: int64"
      ]
     },
     "execution_count": 13,
     "metadata": {},
     "output_type": "execute_result"
    }
   ],
   "source": [
    "df['대여대여소번호'].value_counts()"
   ]
  },
  {
   "cell_type": "markdown",
   "metadata": {},
   "source": [
    "* 대여 대여소번호에 상암센터 정비실과 위트콤 같은 숫자가 아닌 곳들이 있음"
   ]
  },
  {
   "cell_type": "code",
   "execution_count": null,
   "metadata": {},
   "outputs": [],
   "source": []
  }
 ],
 "metadata": {
  "kernelspec": {
   "display_name": "Python 3",
   "language": "python",
   "name": "python3"
  },
  "language_info": {
   "codemirror_mode": {
    "name": "ipython",
    "version": 3
   },
   "file_extension": ".py",
   "mimetype": "text/x-python",
   "name": "python",
   "nbconvert_exporter": "python",
   "pygments_lexer": "ipython3",
   "version": "3.6.1"
  }
 },
 "nbformat": 4,
 "nbformat_minor": 2
}
