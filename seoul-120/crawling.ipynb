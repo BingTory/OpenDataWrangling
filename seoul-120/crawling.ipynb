{
 "cells": [
  {
   "cell_type": "code",
   "execution_count": 1,
   "metadata": {},
   "outputs": [],
   "source": [
    "import pandas as pd\n",
    "import requests\n",
    "from bs4 import BeautifulSoup as bs\n",
    "import random\n",
    "import time\n",
    "from tqdm import tqdm, trange"
   ]
  },
  {
   "cell_type": "code",
   "execution_count": 2,
   "metadata": {},
   "outputs": [],
   "source": [
    "base_url = \"https://opengov.seoul.go.kr/civilappeal?\"\n",
    "page_source = requests.get( base_url )\n",
    "soup = bs(page_source.text, 'html.parser')"
   ]
  },
  {
   "cell_type": "code",
   "execution_count": 3,
   "metadata": {},
   "outputs": [
    {
     "data": {
      "text/plain": [
       "<h4><a href=\"#civilapeal-2897888\">[ 복지 ] 여성복지상담소 어디에 있나요?</a></h4>"
      ]
     },
     "execution_count": 3,
     "metadata": {},
     "output_type": "execute_result"
    }
   ],
   "source": [
    "div_row = soup.select(\"div#accordion\")[0]\n",
    "div_row.find(\"h4\")"
   ]
  },
  {
   "cell_type": "code",
   "execution_count": 4,
   "metadata": {},
   "outputs": [
    {
     "data": {
      "text/plain": [
       "[<h4><a href=\"#civilapeal-2897888\">[ 복지 ] 여성복지상담소 어디에 있나요?</a></h4>,\n",
       " <h4><a href=\"#civilapeal-2897889\">[ 복지 ] 여성복지상담소는 모든 상담이 무료인가요?</a></h4>,\n",
       " <h4><a href=\"#civilapeal-2895764\">[ 행정ㆍ기타 ] 진정민원 제출시 증빙서류를 받을수 있나요?</a></h4>,\n",
       " <h4><a href=\"#civilapeal-2898246\">[ 재정ㆍ세금 ] 은평구에는 어떤종류의 하천이 있습니까 예를 들면 국가하천,지방하천 등</a></h4>,\n",
       " <h4><a href=\"#civilapeal-2897030\">[ 행정ㆍ기타 ] [정보통신] 통신관련 민원처리기관과 통신사업자 민원처리 안내번호</a></h4>,\n",
       " <h4><a href=\"#civilapeal-2896772\">[ 경제 ] 성동구치소 이전 ?</a></h4>,\n",
       " <h4><a href=\"#civilapeal-13865831\">[ 문화ㆍ관광 ] [한강사업본부] 서울함 공원 (구.한강 함상공원)</a></h4>,\n",
       " <h4><a href=\"#civilapeal-2894946\">[ 행정ㆍ기타 ] 국유지 매각기준을 보고 싶은데 어디서 볼수 있는지요?</a></h4>,\n",
       " <h4><a href=\"#civilapeal-2897733\">[ 안전 ] 재해경보의 종류는?</a></h4>,\n",
       " <h4><a href=\"#civilapeal-2896853\">[ 행정ㆍ기타 ] 시비 재배정사업 중 조경분야 서울시(계약심사과) 심사요청 대상은?</a></h4>,\n",
       " <h4><a href=\"#civilapeal-2895491\">[ 경제 ] 창문에 썬팅을 하려고하는데 괜찮은가요?</a></h4>,\n",
       " <h4><a href=\"#civilapeal-2896850\">[ 행정ㆍ기타 ] 계약심사 대상금액이란?</a></h4>,\n",
       " <h4><a href=\"#civilapeal-2896860\">[ 행정ㆍ기타 ] 건축공사분야 실적공사비 적용 대상 범위는?</a></h4>,\n",
       " <h4><a href=\"#civilapeal-2896846\">[ 행정ㆍ기타 ] 공사분야 계약심사 요청 대상 범위는?</a></h4>,\n",
       " <h4><a href=\"#civilapeal-2896852\">[ 행정ㆍ기타 ] 시비 재배정사업 중 건축분야 서울시(계약심사과) 심사요청 대상은?</a></h4>]"
      ]
     },
     "execution_count": 4,
     "metadata": {},
     "output_type": "execute_result"
    }
   ],
   "source": [
    "soup.select(\"h4\")"
   ]
  },
  {
   "cell_type": "code",
   "execution_count": 5,
   "metadata": {},
   "outputs": [
    {
     "data": {
      "text/plain": [
       "<div class=\"content-step1\" id=\"civilappeal-2897889\">\n",
       "<p>- 네. 그렇습니다.    여성복지상담소는 금천구에서 직영하는 상담소로서    모든 상담이 무료로 진행되고 있습니다.</p>\n",
       "<div class=\"list-tag\">\n",
       "<p class=\"tag\"><em class=\"element-invisible\">관련태그 :</em>사회보장과복지,여성복지,벧엘케어상담소</p>\n",
       "<a class=\"link-orange\" href=\"/civilappeal/2897889\">상세보기  &gt;</a>\n",
       "</div>\n",
       "</div>"
      ]
     },
     "execution_count": 5,
     "metadata": {},
     "output_type": "execute_result"
    }
   ],
   "source": [
    "content_step1 = soup.select(\"div.content-step1\")[1]\n",
    "content_step1"
   ]
  },
  {
   "cell_type": "code",
   "execution_count": 6,
   "metadata": {},
   "outputs": [
    {
     "data": {
      "text/plain": [
       "'- 네. 그렇습니다.    여성복지상담소는 금천구에서 직영하는 상담소로서    모든 상담이 무료로 진행되고 있습니다.'"
      ]
     },
     "execution_count": 6,
     "metadata": {},
     "output_type": "execute_result"
    }
   ],
   "source": [
    "content_step1.find('p').get_text(strip=True)"
   ]
  },
  {
   "cell_type": "code",
   "execution_count": 7,
   "metadata": {},
   "outputs": [
    {
     "data": {
      "text/plain": [
       "'관련태그 :사회보장과복지,여성복지,벧엘케어상담소'"
      ]
     },
     "execution_count": 7,
     "metadata": {},
     "output_type": "execute_result"
    }
   ],
   "source": [
    "tag = soup.select(\"div.content-step1 > div.list-tag\")[1].find('p').get_text(strip=True)\n",
    "tag"
   ]
  },
  {
   "cell_type": "code",
   "execution_count": 8,
   "metadata": {},
   "outputs": [
    {
     "data": {
      "text/plain": [
       "'사회보장과복지,여성복지,벧엘케어상담소'"
      ]
     },
     "execution_count": 8,
     "metadata": {},
     "output_type": "execute_result"
    }
   ],
   "source": [
    "tag = tag.split(\"관련태그 :\")[1]\n",
    "tag"
   ]
  },
  {
   "cell_type": "code",
   "execution_count": 9,
   "metadata": {},
   "outputs": [
    {
     "name": "stderr",
     "output_type": "stream",
     "text": [
      "15it [00:00, 224.97it/s]\n"
     ]
    }
   ],
   "source": [
    "# 제목, 내용, 태그\n",
    "civilappeal = []\n",
    "h4 = soup.select(\"h4\")\n",
    "\n",
    "for i, row in tqdm(enumerate(h4)):\n",
    "    article = []\n",
    "    no = row.find('a')['href'].split(\"-\")[1]\n",
    "    subject = row.find('a').get_text(strip=True)\n",
    "    content = soup.select(\"div.content-step1\")[i].find('p').get_text(strip=True)\n",
    "    tag = soup.select(\"div.content-step1 > div.list-tag\")[i].find('p').get_text(strip=True)\n",
    "    tag = tag.split(\"관련태그 :\")[1]\n",
    "    article.append(no)\n",
    "    article.append(subject)\n",
    "    article.append(content)\n",
    "    article.append(tag)\n",
    "    civilappeal.append(article)"
   ]
  },
  {
   "cell_type": "code",
   "execution_count": 10,
   "metadata": {},
   "outputs": [
    {
     "data": {
      "text/html": [
       "<div>\n",
       "<style scoped>\n",
       "    .dataframe tbody tr th:only-of-type {\n",
       "        vertical-align: middle;\n",
       "    }\n",
       "\n",
       "    .dataframe tbody tr th {\n",
       "        vertical-align: top;\n",
       "    }\n",
       "\n",
       "    .dataframe thead th {\n",
       "        text-align: right;\n",
       "    }\n",
       "</style>\n",
       "<table border=\"1\" class=\"dataframe\">\n",
       "  <thead>\n",
       "    <tr style=\"text-align: right;\">\n",
       "      <th></th>\n",
       "      <th>0</th>\n",
       "      <th>1</th>\n",
       "      <th>2</th>\n",
       "      <th>3</th>\n",
       "    </tr>\n",
       "  </thead>\n",
       "  <tbody>\n",
       "    <tr>\n",
       "      <th>0</th>\n",
       "      <td>2897888</td>\n",
       "      <td>[ 복지 ] 여성복지상담소 어디에 있나요?</td>\n",
       "      <td>- 여성복지상담소는    독산1동 289-7번지 한빛빌딩 4층 자원봉사센터 내에 있...</td>\n",
       "      <td>사회보장과복지,여성복지,벧엘케어상담소</td>\n",
       "    </tr>\n",
       "    <tr>\n",
       "      <th>1</th>\n",
       "      <td>2897889</td>\n",
       "      <td>[ 복지 ] 여성복지상담소는 모든 상담이 무료인가요?</td>\n",
       "      <td>- 네. 그렇습니다.    여성복지상담소는 금천구에서 직영하는 상담소로서    모든...</td>\n",
       "      <td>사회보장과복지,여성복지,벧엘케어상담소</td>\n",
       "    </tr>\n",
       "    <tr>\n",
       "      <th>2</th>\n",
       "      <td>2895764</td>\n",
       "      <td>[ 행정ㆍ기타 ] 진정민원 제출시 증빙서류를 받을수 있나요?</td>\n",
       "      <td>- 진정민원 제출시 민원복지동 1층 민원여권과에서 접수증을 발부하여 드리고 있습니다.</td>\n",
       "      <td>구정일반,민원관리,통합민원실안내</td>\n",
       "    </tr>\n",
       "    <tr>\n",
       "      <th>3</th>\n",
       "      <td>2898246</td>\n",
       "      <td>[ 재정ㆍ세금 ] 은평구에는 어떤종류의 하천이 있습니까 예를 들면 국가하천,지방하천 등</td>\n",
       "      <td>- 은평구는 국가하천은 없습니다.  지방하천으로 불광천,녹번천이 있고, 소하천으로 ...</td>\n",
       "      <td>세금과재정,재정,일상경비관리</td>\n",
       "    </tr>\n",
       "    <tr>\n",
       "      <th>4</th>\n",
       "      <td>2897030</td>\n",
       "      <td>[ 행정ㆍ기타 ] [정보통신] 통신관련 민원처리기관과 통신사업자 민원처리 안내번호</td>\n",
       "      <td>- 업무개요     통신관련 민원 전화번호 정리      업무내용     ▣ 통신관...</td>\n",
       "      <td>통신,정보자원관리,시스템및정보보호</td>\n",
       "    </tr>\n",
       "  </tbody>\n",
       "</table>\n",
       "</div>"
      ],
      "text/plain": [
       "         0                                                 1  \\\n",
       "0  2897888                           [ 복지 ] 여성복지상담소 어디에 있나요?   \n",
       "1  2897889                     [ 복지 ] 여성복지상담소는 모든 상담이 무료인가요?   \n",
       "2  2895764                 [ 행정ㆍ기타 ] 진정민원 제출시 증빙서류를 받을수 있나요?   \n",
       "3  2898246  [ 재정ㆍ세금 ] 은평구에는 어떤종류의 하천이 있습니까 예를 들면 국가하천,지방하천 등   \n",
       "4  2897030     [ 행정ㆍ기타 ] [정보통신] 통신관련 민원처리기관과 통신사업자 민원처리 안내번호   \n",
       "\n",
       "                                                   2                     3  \n",
       "0  - 여성복지상담소는    독산1동 289-7번지 한빛빌딩 4층 자원봉사센터 내에 있...  사회보장과복지,여성복지,벧엘케어상담소  \n",
       "1  - 네. 그렇습니다.    여성복지상담소는 금천구에서 직영하는 상담소로서    모든...  사회보장과복지,여성복지,벧엘케어상담소  \n",
       "2    - 진정민원 제출시 민원복지동 1층 민원여권과에서 접수증을 발부하여 드리고 있습니다.     구정일반,민원관리,통합민원실안내  \n",
       "3  - 은평구는 국가하천은 없습니다.  지방하천으로 불광천,녹번천이 있고, 소하천으로 ...       세금과재정,재정,일상경비관리  \n",
       "4  - 업무개요     통신관련 민원 전화번호 정리      업무내용     ▣ 통신관...    통신,정보자원관리,시스템및정보보호  "
      ]
     },
     "execution_count": 10,
     "metadata": {},
     "output_type": "execute_result"
    }
   ],
   "source": [
    "df_civilappeal = pd.DataFrame(civilappeal)\n",
    "df_civilappeal.head()"
   ]
  },
  {
   "cell_type": "code",
   "execution_count": 11,
   "metadata": {},
   "outputs": [
    {
     "data": {
      "text/html": [
       "<div>\n",
       "<style scoped>\n",
       "    .dataframe tbody tr th:only-of-type {\n",
       "        vertical-align: middle;\n",
       "    }\n",
       "\n",
       "    .dataframe tbody tr th {\n",
       "        vertical-align: top;\n",
       "    }\n",
       "\n",
       "    .dataframe thead th {\n",
       "        text-align: right;\n",
       "    }\n",
       "</style>\n",
       "<table border=\"1\" class=\"dataframe\">\n",
       "  <thead>\n",
       "    <tr style=\"text-align: right;\">\n",
       "      <th></th>\n",
       "      <th>번호</th>\n",
       "      <th>제목</th>\n",
       "      <th>내용</th>\n",
       "      <th>태그</th>\n",
       "    </tr>\n",
       "  </thead>\n",
       "  <tbody>\n",
       "    <tr>\n",
       "      <th>10</th>\n",
       "      <td>2895491</td>\n",
       "      <td>[ 경제 ] 창문에 썬팅을 하려고하는데 괜찮은가요?</td>\n",
       "      <td>- 창문이용광고물(일명 썬팅)은 표시하여서는 안됩니다. 다만 건물의 1층 창문 또는...</td>\n",
       "      <td>제조건설과개발,도시디자인,불법전단광고,벽보정비</td>\n",
       "    </tr>\n",
       "    <tr>\n",
       "      <th>11</th>\n",
       "      <td>2896850</td>\n",
       "      <td>[ 행정ㆍ기타 ] 계약심사 대상금액이란?</td>\n",
       "      <td>- 도급비+관급비</td>\n",
       "      <td>구정일반,자치행정,일반</td>\n",
       "    </tr>\n",
       "    <tr>\n",
       "      <th>12</th>\n",
       "      <td>2896860</td>\n",
       "      <td>[ 행정ㆍ기타 ] 건축공사분야 실적공사비 적용 대상 범위는?</td>\n",
       "      <td>- 공사비 10억원이상</td>\n",
       "      <td>구정일반,자치행정,일반</td>\n",
       "    </tr>\n",
       "    <tr>\n",
       "      <th>13</th>\n",
       "      <td>2896846</td>\n",
       "      <td>[ 행정ㆍ기타 ] 공사분야 계약심사 요청 대상 범위는?</td>\n",
       "      <td>- 공사비 3000만원 이상</td>\n",
       "      <td>구정일반,자치행정,일반</td>\n",
       "    </tr>\n",
       "    <tr>\n",
       "      <th>14</th>\n",
       "      <td>2896852</td>\n",
       "      <td>[ 행정ㆍ기타 ] 시비 재배정사업 중 건축분야 서울시(계약심사과) 심사요청 대상은?</td>\n",
       "      <td>- 공사비 5억원이상</td>\n",
       "      <td>구정일반,자치행정,일반</td>\n",
       "    </tr>\n",
       "  </tbody>\n",
       "</table>\n",
       "</div>"
      ],
      "text/plain": [
       "         번호                                              제목  \\\n",
       "10  2895491                    [ 경제 ] 창문에 썬팅을 하려고하는데 괜찮은가요?   \n",
       "11  2896850                          [ 행정ㆍ기타 ] 계약심사 대상금액이란?   \n",
       "12  2896860               [ 행정ㆍ기타 ] 건축공사분야 실적공사비 적용 대상 범위는?   \n",
       "13  2896846                  [ 행정ㆍ기타 ] 공사분야 계약심사 요청 대상 범위는?   \n",
       "14  2896852  [ 행정ㆍ기타 ] 시비 재배정사업 중 건축분야 서울시(계약심사과) 심사요청 대상은?   \n",
       "\n",
       "                                                   내용  \\\n",
       "10  - 창문이용광고물(일명 썬팅)은 표시하여서는 안됩니다. 다만 건물의 1층 창문 또는...   \n",
       "11                                          - 도급비+관급비   \n",
       "12                                       - 공사비 10억원이상   \n",
       "13                                    - 공사비 3000만원 이상   \n",
       "14                                        - 공사비 5억원이상   \n",
       "\n",
       "                           태그  \n",
       "10  제조건설과개발,도시디자인,불법전단광고,벽보정비  \n",
       "11               구정일반,자치행정,일반  \n",
       "12               구정일반,자치행정,일반  \n",
       "13               구정일반,자치행정,일반  \n",
       "14               구정일반,자치행정,일반  "
      ]
     },
     "execution_count": 11,
     "metadata": {},
     "output_type": "execute_result"
    }
   ],
   "source": [
    "df_civilappeal.columns = [\"번호\", \"제목\", \"내용\", \"태그\"]\n",
    "df_civilappeal.tail()"
   ]
  },
  {
   "cell_type": "code",
   "execution_count": null,
   "metadata": {},
   "outputs": [],
   "source": []
  }
 ],
 "metadata": {
  "kernelspec": {
   "display_name": "Python 3",
   "language": "python",
   "name": "python3"
  },
  "language_info": {
   "codemirror_mode": {
    "name": "ipython",
    "version": 3
   },
   "file_extension": ".py",
   "mimetype": "text/x-python",
   "name": "python",
   "nbconvert_exporter": "python",
   "pygments_lexer": "ipython3",
   "version": "3.6.1"
  }
 },
 "nbformat": 4,
 "nbformat_minor": 2
}
