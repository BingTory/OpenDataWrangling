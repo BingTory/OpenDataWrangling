{
 "cells": [
  {
   "cell_type": "markdown",
   "metadata": {},
   "source": [
    "# 서울특별시 다산콜센터(☎120)의 주요 민원\n",
    "* \"120주요질문\"은 서울특별시 다산콜센터(☎120)의 주요 민원(자주 묻는 질문)에 대한 답변정보이다.\n",
    "* https://opengov.seoul.go.kr/civilappeal"
   ]
  },
  {
   "cell_type": "code",
   "execution_count": 1,
   "metadata": {},
   "outputs": [],
   "source": [
    "# 필요한 도구를 불러온다.\n",
    "# 파이썬에서 사용할 수 있는 엑셀과 유사한 데이터분석 도구\n",
    "import pandas as pd\n",
    "# 매우 작은 브라우저로 웹사이트의 내용과 정보를 불러올 수 있다.\n",
    "import requests\n",
    "# request로 가져온 웹사이트의 html 태그를 파싱하는데 사용한다.\n",
    "from bs4 import BeautifulSoup as bs\n",
    "# 랜덤숫자를 생성한다.\n",
    "import random\n",
    "import time\n",
    "# 대량 데이터 처리시 진행 상황을 표시한다.\n",
    "from tqdm import tqdm, trange\n",
    "# 정규표현식\n",
    "import re"
   ]
  },
  {
   "cell_type": "code",
   "execution_count": 2,
   "metadata": {},
   "outputs": [],
   "source": [
    "# 120 다산 콜센터의 첫 페이지를 먼저 불러와 크롤링할 내용을 본다.\n",
    "base_url = \"https://opengov.seoul.go.kr/civilappeal\"\n",
    "# 웹페이지의 결과를 받아온다.\n",
    "page_source = requests.get( base_url )\n",
    "# html 태그를 파싱해 올 수 있도록 한다.\n",
    "page_soup = bs(page_source.text, 'html.parser')"
   ]
  },
  {
   "cell_type": "code",
   "execution_count": 3,
   "metadata": {},
   "outputs": [
    {
     "data": {
      "text/plain": [
       "[<h4><a href=\"#civilapeal-2897888\">[ 복지 ] 여성복지상담소 어디에 있나요?</a></h4>,\n",
       " <h4><a href=\"#civilapeal-2897889\">[ 복지 ] 여성복지상담소는 모든 상담이 무료인가요?</a></h4>,\n",
       " <h4><a href=\"#civilapeal-2895764\">[ 행정ㆍ기타 ] 진정민원 제출시 증빙서류를 받을수 있나요?</a></h4>,\n",
       " <h4><a href=\"#civilapeal-2898246\">[ 재정ㆍ세금 ] 은평구에는 어떤종류의 하천이 있습니까 예를 들면 국가하천,지방하천 등</a></h4>,\n",
       " <h4><a href=\"#civilapeal-2897030\">[ 행정ㆍ기타 ] [정보통신] 통신관련 민원처리기관과 통신사업자 민원처리 안내번호</a></h4>,\n",
       " <h4><a href=\"#civilapeal-2896772\">[ 경제 ] 성동구치소 이전 ?</a></h4>,\n",
       " <h4><a href=\"#civilapeal-13865831\">[ 문화ㆍ관광 ] [한강사업본부] 서울함 공원 (구.한강 함상공원)</a></h4>,\n",
       " <h4><a href=\"#civilapeal-2894946\">[ 행정ㆍ기타 ] 국유지 매각기준을 보고 싶은데 어디서 볼수 있는지요?</a></h4>,\n",
       " <h4><a href=\"#civilapeal-2897733\">[ 안전 ] 재해경보의 종류는?</a></h4>,\n",
       " <h4><a href=\"#civilapeal-2896853\">[ 행정ㆍ기타 ] 시비 재배정사업 중 조경분야 서울시(계약심사과) 심사요청 대상은?</a></h4>,\n",
       " <h4><a href=\"#civilapeal-2895491\">[ 경제 ] 창문에 썬팅을 하려고하는데 괜찮은가요?</a></h4>,\n",
       " <h4><a href=\"#civilapeal-2896850\">[ 행정ㆍ기타 ] 계약심사 대상금액이란?</a></h4>,\n",
       " <h4><a href=\"#civilapeal-2896860\">[ 행정ㆍ기타 ] 건축공사분야 실적공사비 적용 대상 범위는?</a></h4>,\n",
       " <h4><a href=\"#civilapeal-2896846\">[ 행정ㆍ기타 ] 공사분야 계약심사 요청 대상 범위는?</a></h4>,\n",
       " <h4><a href=\"#civilapeal-2896852\">[ 행정ㆍ기타 ] 시비 재배정사업 중 건축분야 서울시(계약심사과) 심사요청 대상은?</a></h4>]"
      ]
     },
     "execution_count": 3,
     "metadata": {},
     "output_type": "execute_result"
    }
   ],
   "source": [
    "# bs를 통해 특정 태그를 가져온다. \n",
    "div_row = page_soup.select(\"div#accordion\")[0]\n",
    "# h4 태그를 모두 가져온다.\n",
    "h4 = div_row.find_all(\"h4\")\n",
    "h4"
   ]
  },
  {
   "cell_type": "code",
   "execution_count": 4,
   "metadata": {},
   "outputs": [
    {
     "data": {
      "text/plain": [
       "<div class=\"content-step1\" id=\"civilappeal-2897888\">\n",
       "<p>- 여성복지상담소는    독산1동 289-7번지 한빛빌딩 4층 자원봉사센터 내에 있습니다.     근무시간은 9시30분~17시30분까지이며,    854-1366, 890-2419로 미리 전화로 예약 후 방문하시면 됩니다.</p>\n",
       "<div class=\"list-tag\">\n",
       "<p class=\"tag\"><em class=\"element-invisible\">관련태그 :</em>사회보장과복지,여성복지,벧엘케어상담소</p>\n",
       "<a class=\"link-orange\" href=\"/civilappeal/2897888\">상세보기  &gt;</a>\n",
       "</div>\n",
       "</div>"
      ]
     },
     "execution_count": 4,
     "metadata": {},
     "output_type": "execute_result"
    }
   ],
   "source": [
    "# 내용은 div 태그의 content-step1 클래스에 있다. 여기에서 .은 html의 클래스를 의미한다.\n",
    "# 가져온 내용은 []안에 리스트 형태로 담겨져 있다. 리스트 0번째 인덱스를 읽어오면 리스트 안에 있는 내용을 가져오게 된다.\n",
    "content_step1 = div_row.select(\"div.content-step1\")[0]\n",
    "content_step1"
   ]
  },
  {
   "cell_type": "code",
   "execution_count": 5,
   "metadata": {},
   "outputs": [
    {
     "data": {
      "text/plain": [
       "'- 여성복지상담소는    독산1동 289-7번지 한빛빌딩 4층 자원봉사센터 내에 있습니다.     근무시간은 9시30분~17시30분까지이며,    854-1366, 890-2419로 미리 전화로 예약 후 방문하시면 됩니다.'"
      ]
     },
     "execution_count": 5,
     "metadata": {},
     "output_type": "execute_result"
    }
   ],
   "source": [
    "# 내용 가져오기\n",
    "# 가져온 결과에서 p태그의 내용을 가져온다. find로 찾으면 첫번째 태그의 내용을 가져온다.\n",
    "content_step1.find('p').get_text(strip=True)"
   ]
  },
  {
   "cell_type": "code",
   "execution_count": 6,
   "metadata": {},
   "outputs": [
    {
     "data": {
      "text/plain": [
       "'관련태그 :사회보장과복지,여성복지,벧엘케어상담소'"
      ]
     },
     "execution_count": 6,
     "metadata": {},
     "output_type": "execute_result"
    }
   ],
   "source": [
    "# 태그 가져오기\n",
    "# 크롬의 Inspect 기능을 활용해서 \"태그\"항목의 html tag를 가져온다.\n",
    "# strip=True 옵션으로 앞뒤 공백을 제거하고 가져온다.\n",
    "tag = page_soup.select(\"div.content-step1 > div.list-tag\")[1].find('p').get_text(strip=True)\n",
    "tag"
   ]
  },
  {
   "cell_type": "code",
   "execution_count": 7,
   "metadata": {},
   "outputs": [
    {
     "data": {
      "text/plain": [
       "'사회보장과복지,여성복지,벧엘케어상담소'"
      ]
     },
     "execution_count": 7,
     "metadata": {},
     "output_type": "execute_result"
    }
   ],
   "source": [
    "# \"관련태그 :사회보장과복지,여성복지,벧엘케어상담소\" 라고 표시되는 부분에서 \"관련태그 :\"는 제외하고 가져온다.\n",
    "tag = re.sub(\"관련태그 :\", \"\", tag)\n",
    "tag"
   ]
  },
  {
   "cell_type": "code",
   "execution_count": 8,
   "metadata": {},
   "outputs": [
    {
     "data": {
      "text/plain": [
       "\u001b[0;31mSignature:\u001b[0m \u001b[0mre\u001b[0m\u001b[0;34m.\u001b[0m\u001b[0msearch\u001b[0m\u001b[0;34m(\u001b[0m\u001b[0mpattern\u001b[0m\u001b[0;34m,\u001b[0m \u001b[0mstring\u001b[0m\u001b[0;34m,\u001b[0m \u001b[0mflags\u001b[0m\u001b[0;34m=\u001b[0m\u001b[0;36m0\u001b[0m\u001b[0;34m)\u001b[0m\u001b[0;34m\u001b[0m\u001b[0m\n",
       "\u001b[0;31mDocstring:\u001b[0m\n",
       "Scan through string looking for a match to the pattern, returning\n",
       "a match object, or None if no match was found.\n",
       "\u001b[0;31mFile:\u001b[0m      /Library/Frameworks/Python.framework/Versions/3.6/lib/python3.6/re.py\n",
       "\u001b[0;31mType:\u001b[0m      function\n"
      ]
     },
     "metadata": {},
     "output_type": "display_data"
    }
   ],
   "source": [
    "# 파이썬에서 해당 기능의 사용법이 궁금할 때는 ?를 통해 문서를 읽어본다.\n",
    "re.search?"
   ]
  },
  {
   "cell_type": "code",
   "execution_count": 9,
   "metadata": {},
   "outputs": [
    {
     "data": {
      "text/plain": [
       "'[ 행정ㆍ기타 ]'"
      ]
     },
     "execution_count": 9,
     "metadata": {},
     "output_type": "execute_result"
    }
   ],
   "source": [
    "# 제목에서 카테고리만을 추출해 오기 위해 정규표현식을 사용한다.\n",
    "# 카테고리는 각 하나씩 갖고 있으며 뒤에 있는 [정보통신]은 말머리다.\n",
    "subject = \"[ 행정ㆍ기타 ] [정보통신] 통신관련 민원처리기관과 통신사업자 민원처리 안내번호\"\n",
    "# 다음의 정규표현식에서 ^는 문서의 시작임을 뜻한다.\n",
    "# \\는 특수문자를 문자 그대로 쓰기 위해 사용한다.\n",
    "# .은 모든 문자를 의미하며 *은 0부터 무한대로 반복할 수 있음을 의미한다.\n",
    "category = re.search(\"^\\[ .*\\ ]\", subject)[0]\n",
    "category"
   ]
  },
  {
   "cell_type": "code",
   "execution_count": 10,
   "metadata": {},
   "outputs": [
    {
     "data": {
      "text/plain": [
       "\u001b[0;31mSignature:\u001b[0m \u001b[0mre\u001b[0m\u001b[0;34m.\u001b[0m\u001b[0msub\u001b[0m\u001b[0;34m(\u001b[0m\u001b[0mpattern\u001b[0m\u001b[0;34m,\u001b[0m \u001b[0mrepl\u001b[0m\u001b[0;34m,\u001b[0m \u001b[0mstring\u001b[0m\u001b[0;34m,\u001b[0m \u001b[0mcount\u001b[0m\u001b[0;34m=\u001b[0m\u001b[0;36m0\u001b[0m\u001b[0;34m,\u001b[0m \u001b[0mflags\u001b[0m\u001b[0;34m=\u001b[0m\u001b[0;36m0\u001b[0m\u001b[0;34m)\u001b[0m\u001b[0;34m\u001b[0m\u001b[0m\n",
       "\u001b[0;31mDocstring:\u001b[0m\n",
       "Return the string obtained by replacing the leftmost\n",
       "non-overlapping occurrences of the pattern in string by the\n",
       "replacement repl.  repl can be either a string or a callable;\n",
       "if a string, backslash escapes in it are processed.  If it is\n",
       "a callable, it's passed the match object and must return\n",
       "a replacement string to be used.\n",
       "\u001b[0;31mFile:\u001b[0m      /Library/Frameworks/Python.framework/Versions/3.6/lib/python3.6/re.py\n",
       "\u001b[0;31mType:\u001b[0m      function\n"
      ]
     },
     "metadata": {},
     "output_type": "display_data"
    }
   ],
   "source": [
    "# 다른 문자열로 대체할 때 사용한다.\n",
    "re.sub?"
   ]
  },
  {
   "cell_type": "code",
   "execution_count": 11,
   "metadata": {},
   "outputs": [
    {
     "data": {
      "text/plain": [
       "'행정ㆍ기타'"
      ]
     },
     "execution_count": 11,
     "metadata": {},
     "output_type": "execute_result"
    }
   ],
   "source": [
    "# []안에 매치될 문자를 써준다. [를 문자 그대로 인식하게 하기 위해 \\를 쓰고 [를 써주었다.\n",
    "# \\[\\]를 빈문자로 대체하는 코드이다.\n",
    "category = re.sub(\"[\\[\\]]\", \"\", category).strip()\n",
    "category"
   ]
  },
  {
   "cell_type": "code",
   "execution_count": 12,
   "metadata": {},
   "outputs": [
    {
     "data": {
      "text/plain": [
       "'[ 행정ㆍ기타 ] [정보통신] 통신관련 민원처리기관과 통신사업자 민원처리 안내번호'"
      ]
     },
     "execution_count": 12,
     "metadata": {},
     "output_type": "execute_result"
    }
   ],
   "source": [
    "# 이제 위에서 추출한 카테고리를 제목에서 제거해 준다.\n",
    "# 제거 해 주기 위해 제목이 어떻게 생겼는지 다시 출력해 본다.\n",
    "subject"
   ]
  },
  {
   "cell_type": "code",
   "execution_count": 13,
   "metadata": {},
   "outputs": [
    {
     "data": {
      "text/plain": [
       "'[정보통신] 통신관련 민원처리기관과 통신사업자 민원처리 안내번호'"
      ]
     },
     "execution_count": 13,
     "metadata": {},
     "output_type": "execute_result"
    }
   ],
   "source": [
    "# 제목에서 위에서 추출한 카테고리를 빈문자로 대체해 준다.\n",
    "# [정보통신]은 제목에 포함되어 있는 말머리다.\n",
    "subject = re.sub(\"\\[ \"+category+\" \\]\", \"\", subject).strip()\n",
    "subject"
   ]
  },
  {
   "cell_type": "code",
   "execution_count": 14,
   "metadata": {},
   "outputs": [],
   "source": [
    "# 제목을 추출하는 함수를 만든다.\n",
    "def get_subject(category, subject):  \n",
    "    subject = re.sub(\"\\[ \"+category+\" \\]\", \"\", subject).strip()\n",
    "    return subject"
   ]
  },
  {
   "cell_type": "code",
   "execution_count": 15,
   "metadata": {},
   "outputs": [],
   "source": [
    "# 위의 결과를 바탕으로 카테고리를 추출하는 함수를 만든다.\n",
    "def get_category(subject):\n",
    "    category = re.search(\"^\\[ .*\\ ]\", subject)[0]\n",
    "    category = re.sub(\"[\\[\\]]\", \"\", category).strip()\n",
    "    return category"
   ]
  },
  {
   "cell_type": "code",
   "execution_count": 16,
   "metadata": {},
   "outputs": [],
   "source": [
    "civilappeal = []\n",
    "page_list = []\n",
    "def get_page(start, end):\n",
    "    base_url = \"https://opengov.seoul.go.kr/civilappeal?page=\"\n",
    "    for num in trange(start, end+1):\n",
    "        page_source = requests.get( base_url + str(num))\n",
    "        # html 태그를 파싱해 올 수 있도록 한다.\n",
    "        soup = bs(page_source.text, 'html.parser')\n",
    "        civilappeal = get_content(soup)\n",
    "    time.sleep(random.randint(1,2))\n",
    "    return civilappeal"
   ]
  },
  {
   "cell_type": "code",
   "execution_count": 17,
   "metadata": {},
   "outputs": [],
   "source": [
    "# 제목, 내용, 태그를 담아줄 빈 리스트를 생성한다.\n",
    "def get_content(soup):\n",
    "    h4 = soup.select(\"h4\")\n",
    "\n",
    "    for i, row in enumerate(h4):\n",
    "        article = []\n",
    "        no = row.find('a')['href'].split(\"-\")[1]\n",
    "        raw_subject = row.find('a').get_text(strip=True)\n",
    "        category = get_category(raw_subject)\n",
    "        subject = get_subject(category, raw_subject)\n",
    "        content = soup.select(\"div.content-step1\")[i].find('p').get_text(strip=True)\n",
    "        tag = soup.select(\"div.content-step1 > div.list-tag\")[i].find('p').get_text(strip=True)\n",
    "        tag = tag.split(\"관련태그 :\")[1]\n",
    "\n",
    "        article.append(no)\n",
    "        article.append(category)\n",
    "        article.append(subject)\n",
    "        article.append(content)\n",
    "        article.append(tag)\n",
    "        page_list.append(article)\n",
    "    return page_list"
   ]
  },
  {
   "cell_type": "code",
   "execution_count": 18,
   "metadata": {},
   "outputs": [
    {
     "name": "stderr",
     "output_type": "stream",
     "text": [
      "100%|██████████| 197/197 [06:23<00:00,  1.95s/it]\n"
     ]
    }
   ],
   "source": [
    "civilappeal = get_page(1, 197)"
   ]
  },
  {
   "cell_type": "code",
   "execution_count": 19,
   "metadata": {},
   "outputs": [
    {
     "name": "stdout",
     "output_type": "stream",
     "text": [
      "(2954, 5)\n"
     ]
    },
    {
     "data": {
      "text/html": [
       "<div>\n",
       "<style scoped>\n",
       "    .dataframe tbody tr th:only-of-type {\n",
       "        vertical-align: middle;\n",
       "    }\n",
       "\n",
       "    .dataframe tbody tr th {\n",
       "        vertical-align: top;\n",
       "    }\n",
       "\n",
       "    .dataframe thead th {\n",
       "        text-align: right;\n",
       "    }\n",
       "</style>\n",
       "<table border=\"1\" class=\"dataframe\">\n",
       "  <thead>\n",
       "    <tr style=\"text-align: right;\">\n",
       "      <th></th>\n",
       "      <th>0</th>\n",
       "      <th>1</th>\n",
       "      <th>2</th>\n",
       "      <th>3</th>\n",
       "      <th>4</th>\n",
       "    </tr>\n",
       "  </thead>\n",
       "  <tbody>\n",
       "    <tr>\n",
       "      <th>0</th>\n",
       "      <td>2897888</td>\n",
       "      <td>복지</td>\n",
       "      <td>여성복지상담소 어디에 있나요?</td>\n",
       "      <td>- 여성복지상담소는    독산1동 289-7번지 한빛빌딩 4층 자원봉사센터 내에 있...</td>\n",
       "      <td>사회보장과복지,여성복지,벧엘케어상담소</td>\n",
       "    </tr>\n",
       "    <tr>\n",
       "      <th>1</th>\n",
       "      <td>2897889</td>\n",
       "      <td>복지</td>\n",
       "      <td>여성복지상담소는 모든 상담이 무료인가요?</td>\n",
       "      <td>- 네. 그렇습니다.    여성복지상담소는 금천구에서 직영하는 상담소로서    모든...</td>\n",
       "      <td>사회보장과복지,여성복지,벧엘케어상담소</td>\n",
       "    </tr>\n",
       "    <tr>\n",
       "      <th>2</th>\n",
       "      <td>2895764</td>\n",
       "      <td>행정ㆍ기타</td>\n",
       "      <td>진정민원 제출시 증빙서류를 받을수 있나요?</td>\n",
       "      <td>- 진정민원 제출시 민원복지동 1층 민원여권과에서 접수증을 발부하여 드리고 있습니다.</td>\n",
       "      <td>구정일반,민원관리,통합민원실안내</td>\n",
       "    </tr>\n",
       "    <tr>\n",
       "      <th>3</th>\n",
       "      <td>2898246</td>\n",
       "      <td>재정ㆍ세금</td>\n",
       "      <td>은평구에는 어떤종류의 하천이 있습니까 예를 들면 국가하천,지방하천 등</td>\n",
       "      <td>- 은평구는 국가하천은 없습니다.  지방하천으로 불광천,녹번천이 있고, 소하천으로 ...</td>\n",
       "      <td>세금과재정,재정,일상경비관리</td>\n",
       "    </tr>\n",
       "    <tr>\n",
       "      <th>4</th>\n",
       "      <td>2897030</td>\n",
       "      <td>행정ㆍ기타</td>\n",
       "      <td>[정보통신] 통신관련 민원처리기관과 통신사업자 민원처리 안내번호</td>\n",
       "      <td>- 업무개요     통신관련 민원 전화번호 정리      업무내용     ▣ 통신관...</td>\n",
       "      <td>통신,정보자원관리,시스템및정보보호</td>\n",
       "    </tr>\n",
       "  </tbody>\n",
       "</table>\n",
       "</div>"
      ],
      "text/plain": [
       "         0      1                                       2  \\\n",
       "0  2897888     복지                        여성복지상담소 어디에 있나요?   \n",
       "1  2897889     복지                  여성복지상담소는 모든 상담이 무료인가요?   \n",
       "2  2895764  행정ㆍ기타                 진정민원 제출시 증빙서류를 받을수 있나요?   \n",
       "3  2898246  재정ㆍ세금  은평구에는 어떤종류의 하천이 있습니까 예를 들면 국가하천,지방하천 등   \n",
       "4  2897030  행정ㆍ기타     [정보통신] 통신관련 민원처리기관과 통신사업자 민원처리 안내번호   \n",
       "\n",
       "                                                   3                     4  \n",
       "0  - 여성복지상담소는    독산1동 289-7번지 한빛빌딩 4층 자원봉사센터 내에 있...  사회보장과복지,여성복지,벧엘케어상담소  \n",
       "1  - 네. 그렇습니다.    여성복지상담소는 금천구에서 직영하는 상담소로서    모든...  사회보장과복지,여성복지,벧엘케어상담소  \n",
       "2    - 진정민원 제출시 민원복지동 1층 민원여권과에서 접수증을 발부하여 드리고 있습니다.     구정일반,민원관리,통합민원실안내  \n",
       "3  - 은평구는 국가하천은 없습니다.  지방하천으로 불광천,녹번천이 있고, 소하천으로 ...       세금과재정,재정,일상경비관리  \n",
       "4  - 업무개요     통신관련 민원 전화번호 정리      업무내용     ▣ 통신관...    통신,정보자원관리,시스템및정보보호  "
      ]
     },
     "execution_count": 19,
     "metadata": {},
     "output_type": "execute_result"
    }
   ],
   "source": [
    "df_civilappeal = pd.DataFrame(civilappeal)\n",
    "print(df_civilappeal.shape)\n",
    "df_civilappeal.head()"
   ]
  },
  {
   "cell_type": "code",
   "execution_count": 20,
   "metadata": {},
   "outputs": [
    {
     "data": {
      "text/html": [
       "<div>\n",
       "<style scoped>\n",
       "    .dataframe tbody tr th:only-of-type {\n",
       "        vertical-align: middle;\n",
       "    }\n",
       "\n",
       "    .dataframe tbody tr th {\n",
       "        vertical-align: top;\n",
       "    }\n",
       "\n",
       "    .dataframe thead th {\n",
       "        text-align: right;\n",
       "    }\n",
       "</style>\n",
       "<table border=\"1\" class=\"dataframe\">\n",
       "  <thead>\n",
       "    <tr style=\"text-align: right;\">\n",
       "      <th></th>\n",
       "      <th>번호</th>\n",
       "      <th>카테고리</th>\n",
       "      <th>제목</th>\n",
       "      <th>내용</th>\n",
       "      <th>태그</th>\n",
       "    </tr>\n",
       "  </thead>\n",
       "  <tbody>\n",
       "    <tr>\n",
       "      <th>2949</th>\n",
       "      <td>2894120</td>\n",
       "      <td>행정ㆍ기타</td>\n",
       "      <td>우리 동네 이름을 바꿀 수 있는 방법은?</td>\n",
       "      <td>- 법정동은 개인의 권리, 의무 행사에 있어 법률상의 주소로 사용되기 때문에 명칭변...</td>\n",
       "      <td>일반공공행정,총무,행정구역조정및명칭변경</td>\n",
       "    </tr>\n",
       "    <tr>\n",
       "      <th>2950</th>\n",
       "      <td>2894111</td>\n",
       "      <td>행정ㆍ기타</td>\n",
       "      <td>대한민국 훈장의 종류와 정의</td>\n",
       "      <td>- ▲건국훈장  대한민국 건국에 공헌하거나 국기를 공고히 하는데 기여한 사람이 대상...</td>\n",
       "      <td>일반공공행정,과공통일반사무,일반서무</td>\n",
       "    </tr>\n",
       "    <tr>\n",
       "      <th>2951</th>\n",
       "      <td>2894109</td>\n",
       "      <td>행정ㆍ기타</td>\n",
       "      <td>임목등록원부(임목대장)를 받고 싶어요</td>\n",
       "      <td>- 임목등록원부란 개인의 땅에 재산가치를 따지기 위해 임목(나무)을 자치구청에 서류...</td>\n",
       "      <td>일반공공행정,과공통일반사무,일반서무</td>\n",
       "    </tr>\n",
       "    <tr>\n",
       "      <th>2952</th>\n",
       "      <td>2894112</td>\n",
       "      <td>행정ㆍ기타</td>\n",
       "      <td>신분증 분실에 의한 정보 도용 피해는 어떻게 되나요?</td>\n",
       "      <td>- 분실한 신분증을 위?변조하여 본인 명의로 한 타인의 불법행위는 본인에게 책임을 ...</td>\n",
       "      <td>일반공공행정,과공통일반사무,일반서무</td>\n",
       "    </tr>\n",
       "    <tr>\n",
       "      <th>2953</th>\n",
       "      <td>2894110</td>\n",
       "      <td>행정ㆍ기타</td>\n",
       "      <td>조례제개정청구를 주민이 할 수 있나요?</td>\n",
       "      <td>- 네 청구 할 수 있습니다. 요건은 선거권자의 50분의 1 이상이 연서로 할 수 ...</td>\n",
       "      <td>일반공공행정,과공통일반사무,일반서무</td>\n",
       "    </tr>\n",
       "  </tbody>\n",
       "</table>\n",
       "</div>"
      ],
      "text/plain": [
       "           번호   카테고리                             제목  \\\n",
       "2949  2894120  행정ㆍ기타         우리 동네 이름을 바꿀 수 있는 방법은?   \n",
       "2950  2894111  행정ㆍ기타                대한민국 훈장의 종류와 정의   \n",
       "2951  2894109  행정ㆍ기타           임목등록원부(임목대장)를 받고 싶어요   \n",
       "2952  2894112  행정ㆍ기타  신분증 분실에 의한 정보 도용 피해는 어떻게 되나요?   \n",
       "2953  2894110  행정ㆍ기타          조례제개정청구를 주민이 할 수 있나요?   \n",
       "\n",
       "                                                     내용                     태그  \n",
       "2949  - 법정동은 개인의 권리, 의무 행사에 있어 법률상의 주소로 사용되기 때문에 명칭변...  일반공공행정,총무,행정구역조정및명칭변경  \n",
       "2950  - ▲건국훈장  대한민국 건국에 공헌하거나 국기를 공고히 하는데 기여한 사람이 대상...    일반공공행정,과공통일반사무,일반서무  \n",
       "2951  - 임목등록원부란 개인의 땅에 재산가치를 따지기 위해 임목(나무)을 자치구청에 서류...    일반공공행정,과공통일반사무,일반서무  \n",
       "2952  - 분실한 신분증을 위?변조하여 본인 명의로 한 타인의 불법행위는 본인에게 책임을 ...    일반공공행정,과공통일반사무,일반서무  \n",
       "2953  - 네 청구 할 수 있습니다. 요건은 선거권자의 50분의 1 이상이 연서로 할 수 ...    일반공공행정,과공통일반사무,일반서무  "
      ]
     },
     "execution_count": 20,
     "metadata": {},
     "output_type": "execute_result"
    }
   ],
   "source": [
    "df_civilappeal.columns = [\"번호\", \"카테고리\", \"제목\", \"내용\", \"태그\"]\n",
    "df_civilappeal.tail()"
   ]
  },
  {
   "cell_type": "code",
   "execution_count": 21,
   "metadata": {},
   "outputs": [],
   "source": [
    "df_civilappeal.to_csv(\"civilappeal.csv\", index=False)"
   ]
  },
  {
   "cell_type": "code",
   "execution_count": 22,
   "metadata": {},
   "outputs": [
    {
     "name": "stdout",
     "output_type": "stream",
     "text": [
      "civilappeal.csv\n"
     ]
    }
   ],
   "source": [
    "%ls civilappeal.csv"
   ]
  },
  {
   "cell_type": "code",
   "execution_count": 23,
   "metadata": {},
   "outputs": [
    {
     "data": {
      "text/plain": [
       "행정ㆍ기타      1179\n",
       "경제          907\n",
       "복지          226\n",
       "환경          144\n",
       "주택ㆍ도시계획     121\n",
       "문화ㆍ관광       118\n",
       "교통ㆍ건설        81\n",
       "안전           63\n",
       "건강ㆍ식품        54\n",
       "재정ㆍ세금        48\n",
       "여성ㆍ가족        13\n",
       "Name: 카테고리, dtype: int64"
      ]
     },
     "execution_count": 23,
     "metadata": {},
     "output_type": "execute_result"
    }
   ],
   "source": [
    "df_civilappeal[\"카테고리\"].value_counts()"
   ]
  },
  {
   "cell_type": "code",
   "execution_count": null,
   "metadata": {},
   "outputs": [],
   "source": []
  }
 ],
 "metadata": {
  "kernelspec": {
   "display_name": "Python 3",
   "language": "python",
   "name": "python3"
  },
  "language_info": {
   "codemirror_mode": {
    "name": "ipython",
    "version": 3
   },
   "file_extension": ".py",
   "mimetype": "text/x-python",
   "name": "python",
   "nbconvert_exporter": "python",
   "pygments_lexer": "ipython3",
   "version": "3.6.1"
  }
 },
 "nbformat": 4,
 "nbformat_minor": 2
}
