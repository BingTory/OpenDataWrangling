{
 "cells": [
  {
   "cell_type": "code",
   "execution_count": 1,
   "metadata": {},
   "outputs": [],
   "source": [
    "import warnings\n",
    "warnings.filterwarnings('ignore')\n",
    "\n",
    "import pandas as pd\n",
    "from plotnine import *"
   ]
  },
  {
   "cell_type": "code",
   "execution_count": 2,
   "metadata": {},
   "outputs": [
    {
     "name": "stdout",
     "output_type": "stream",
     "text": [
      "2016_무단횡단사고다발지.csv\n",
      "2016년_보행어린이사고다발지.csv\n",
      "2016년_스쿨존내어린이사고다발지.csv\n",
      "도로교통공단_전국_사망교통사고_2017.csv\n"
     ]
    }
   ],
   "source": [
    "%ls data/traffic_accident"
   ]
  },
  {
   "cell_type": "code",
   "execution_count": 3,
   "metadata": {},
   "outputs": [
    {
     "data": {
      "text/plain": [
       "(204, 15)"
      ]
     },
     "execution_count": 3,
     "metadata": {},
     "output_type": "execute_result"
    }
   ],
   "source": [
    "pedestrian = pd.read_csv('data/traffic_accident/2016_무단횡단사고다발지.csv', encoding='euc-kr')\n",
    "pedestrian.shape"
   ]
  },
  {
   "cell_type": "code",
   "execution_count": 4,
   "metadata": {},
   "outputs": [
    {
     "data": {
      "text/html": [
       "<div>\n",
       "<style scoped>\n",
       "    .dataframe tbody tr th:only-of-type {\n",
       "        vertical-align: middle;\n",
       "    }\n",
       "\n",
       "    .dataframe tbody tr th {\n",
       "        vertical-align: top;\n",
       "    }\n",
       "\n",
       "    .dataframe thead th {\n",
       "        text-align: right;\n",
       "    }\n",
       "</style>\n",
       "<table border=\"1\" class=\"dataframe\">\n",
       "  <thead>\n",
       "    <tr style=\"text-align: right;\">\n",
       "      <th></th>\n",
       "      <th>다발지식별자</th>\n",
       "      <th>다발지그룹식별자</th>\n",
       "      <th>법정동코드</th>\n",
       "      <th>스팟코드</th>\n",
       "      <th>관할경찰서</th>\n",
       "      <th>다발지명</th>\n",
       "      <th>발생건수</th>\n",
       "      <th>사상자수</th>\n",
       "      <th>사망자수</th>\n",
       "      <th>중상자수</th>\n",
       "      <th>경상자수</th>\n",
       "      <th>부상신고자수</th>\n",
       "      <th>경도</th>\n",
       "      <th>위도</th>\n",
       "      <th>다발지역폴리곤</th>\n",
       "    </tr>\n",
       "  </thead>\n",
       "  <tbody>\n",
       "    <tr>\n",
       "      <th>0</th>\n",
       "      <td>6345678</td>\n",
       "      <td>2017081</td>\n",
       "      <td>1141011800</td>\n",
       "      <td>110811001</td>\n",
       "      <td>서울 서울서대문1</td>\n",
       "      <td>서울특별시 서대문구 홍은동(명지대입구 부근)</td>\n",
       "      <td>9</td>\n",
       "      <td>10</td>\n",
       "      <td>0</td>\n",
       "      <td>5</td>\n",
       "      <td>3</td>\n",
       "      <td>2</td>\n",
       "      <td>126.926633</td>\n",
       "      <td>37.580562</td>\n",
       "      <td>{\"type\":\"Polygon\",\"coordinates\":[[[126.8357475...</td>\n",
       "    </tr>\n",
       "    <tr>\n",
       "      <th>1</th>\n",
       "      <td>6345672</td>\n",
       "      <td>2017081</td>\n",
       "      <td>1141012000</td>\n",
       "      <td>110811003</td>\n",
       "      <td>서울 서울서대문3</td>\n",
       "      <td>서울특별시 서대문구 남가좌동(가좌동광교회 부근)</td>\n",
       "      <td>5</td>\n",
       "      <td>5</td>\n",
       "      <td>0</td>\n",
       "      <td>1</td>\n",
       "      <td>4</td>\n",
       "      <td>0</td>\n",
       "      <td>126.923365</td>\n",
       "      <td>37.577264</td>\n",
       "      <td>{\"type\":\"Polygon\",\"coordinates\":[[[126.9111590...</td>\n",
       "    </tr>\n",
       "    <tr>\n",
       "      <th>2</th>\n",
       "      <td>6345679</td>\n",
       "      <td>2017081</td>\n",
       "      <td>1144010400</td>\n",
       "      <td>111511001</td>\n",
       "      <td>서울 서울마포1</td>\n",
       "      <td>서울특별시 마포구 도화동(진도빌딩 부근)</td>\n",
       "      <td>7</td>\n",
       "      <td>8</td>\n",
       "      <td>0</td>\n",
       "      <td>2</td>\n",
       "      <td>6</td>\n",
       "      <td>0</td>\n",
       "      <td>126.947766</td>\n",
       "      <td>37.540450</td>\n",
       "      <td>{\"type\":\"Polygon\",\"coordinates\":[[[128.9866759...</td>\n",
       "    </tr>\n",
       "    <tr>\n",
       "      <th>3</th>\n",
       "      <td>6345478</td>\n",
       "      <td>2017081</td>\n",
       "      <td>1144012100</td>\n",
       "      <td>111511002</td>\n",
       "      <td>서울 서울마포2</td>\n",
       "      <td>서울특별시 마포구 동교동(청원제일주유소 부근)</td>\n",
       "      <td>5</td>\n",
       "      <td>5</td>\n",
       "      <td>0</td>\n",
       "      <td>0</td>\n",
       "      <td>4</td>\n",
       "      <td>1</td>\n",
       "      <td>126.922843</td>\n",
       "      <td>37.556245</td>\n",
       "      <td>{\"type\":\"Polygon\",\"coordinates\":[[[126.6712885...</td>\n",
       "    </tr>\n",
       "    <tr>\n",
       "      <th>4</th>\n",
       "      <td>6345528</td>\n",
       "      <td>2017081</td>\n",
       "      <td>1147010200</td>\n",
       "      <td>112911002</td>\n",
       "      <td>서울 서울양천2</td>\n",
       "      <td>서울특별시 양천구 목동(목동사거리 부근)</td>\n",
       "      <td>7</td>\n",
       "      <td>7</td>\n",
       "      <td>1</td>\n",
       "      <td>1</td>\n",
       "      <td>5</td>\n",
       "      <td>0</td>\n",
       "      <td>126.863526</td>\n",
       "      <td>37.532372</td>\n",
       "      <td>{\"type\":\"Polygon\",\"coordinates\":[[[129.0659134...</td>\n",
       "    </tr>\n",
       "  </tbody>\n",
       "</table>\n",
       "</div>"
      ],
      "text/plain": [
       "    다발지식별자  다발지그룹식별자       법정동코드       스팟코드      관할경찰서  \\\n",
       "0  6345678   2017081  1141011800  110811001  서울 서울서대문1   \n",
       "1  6345672   2017081  1141012000  110811003  서울 서울서대문3   \n",
       "2  6345679   2017081  1144010400  111511001   서울 서울마포1   \n",
       "3  6345478   2017081  1144012100  111511002   서울 서울마포2   \n",
       "4  6345528   2017081  1147010200  112911002   서울 서울양천2   \n",
       "\n",
       "                         다발지명  발생건수  사상자수  사망자수  중상자수  경상자수  부상신고자수  \\\n",
       "0    서울특별시 서대문구 홍은동(명지대입구 부근)     9    10     0     5     3       2   \n",
       "1  서울특별시 서대문구 남가좌동(가좌동광교회 부근)     5     5     0     1     4       0   \n",
       "2      서울특별시 마포구 도화동(진도빌딩 부근)     7     8     0     2     6       0   \n",
       "3   서울특별시 마포구 동교동(청원제일주유소 부근)     5     5     0     0     4       1   \n",
       "4      서울특별시 양천구 목동(목동사거리 부근)     7     7     1     1     5       0   \n",
       "\n",
       "           경도         위도                                            다발지역폴리곤  \n",
       "0  126.926633  37.580562  {\"type\":\"Polygon\",\"coordinates\":[[[126.8357475...  \n",
       "1  126.923365  37.577264  {\"type\":\"Polygon\",\"coordinates\":[[[126.9111590...  \n",
       "2  126.947766  37.540450  {\"type\":\"Polygon\",\"coordinates\":[[[128.9866759...  \n",
       "3  126.922843  37.556245  {\"type\":\"Polygon\",\"coordinates\":[[[126.6712885...  \n",
       "4  126.863526  37.532372  {\"type\":\"Polygon\",\"coordinates\":[[[129.0659134...  "
      ]
     },
     "execution_count": 4,
     "metadata": {},
     "output_type": "execute_result"
    }
   ],
   "source": [
    "pedestrian.head()"
   ]
  },
  {
   "cell_type": "code",
   "execution_count": 5,
   "metadata": {},
   "outputs": [
    {
     "name": "stdout",
     "output_type": "stream",
     "text": [
      "<class 'pandas.core.frame.DataFrame'>\n",
      "RangeIndex: 204 entries, 0 to 203\n",
      "Data columns (total 15 columns):\n",
      "다발지식별자      204 non-null int64\n",
      "다발지그룹식별자    204 non-null int64\n",
      "법정동코드       204 non-null int64\n",
      "스팟코드        204 non-null int64\n",
      "관할경찰서       204 non-null object\n",
      "다발지명        204 non-null object\n",
      "발생건수        204 non-null int64\n",
      "사상자수        204 non-null int64\n",
      "사망자수        204 non-null int64\n",
      "중상자수        204 non-null int64\n",
      "경상자수        204 non-null int64\n",
      "부상신고자수      204 non-null int64\n",
      "경도          204 non-null float64\n",
      "위도          204 non-null float64\n",
      "다발지역폴리곤     204 non-null object\n",
      "dtypes: float64(2), int64(10), object(3)\n",
      "memory usage: 24.0+ KB\n"
     ]
    }
   ],
   "source": [
    "pedestrian.info()"
   ]
  },
  {
   "cell_type": "code",
   "execution_count": 6,
   "metadata": {},
   "outputs": [
    {
     "data": {
      "image/png": "[encoded data removed]",
      "text/plain": [
       "<matplotlib.figure.Figure at 0x1144d6b38>"
      ]
     },
     "metadata": {},
     "output_type": "display_data"
    },
    {
     "data": {
      "text/plain": [
       "<ggplot: (-9223372036565065114)>"
      ]
     },
     "execution_count": 6,
     "metadata": {},
     "output_type": "execute_result"
    }
   ],
   "source": [
    "(ggplot(pedestrian)\n",
    " + aes(x='위도', y='경도')\n",
    " + geom_point()\n",
    " + theme(text=element_text(family='NanumBarunGothic'))\n",
    ")"
   ]
  },
  {
   "cell_type": "code",
   "execution_count": 7,
   "metadata": {},
   "outputs": [
    {
     "name": "stdout",
     "output_type": "stream",
     "text": [
      "(204, 15)\n",
      "(204, 17)\n"
     ]
    },
    {
     "data": {
      "text/html": [
       "<div>\n",
       "<style scoped>\n",
       "    .dataframe tbody tr th:only-of-type {\n",
       "        vertical-align: middle;\n",
       "    }\n",
       "\n",
       "    .dataframe tbody tr th {\n",
       "        vertical-align: top;\n",
       "    }\n",
       "\n",
       "    .dataframe thead th {\n",
       "        text-align: right;\n",
       "    }\n",
       "</style>\n",
       "<table border=\"1\" class=\"dataframe\">\n",
       "  <thead>\n",
       "    <tr style=\"text-align: right;\">\n",
       "      <th></th>\n",
       "      <th>다발지식별자</th>\n",
       "      <th>다발지그룹식별자</th>\n",
       "      <th>법정동코드</th>\n",
       "      <th>스팟코드</th>\n",
       "      <th>관할경찰서</th>\n",
       "      <th>다발지명</th>\n",
       "      <th>발생건수</th>\n",
       "      <th>사상자수</th>\n",
       "      <th>사망자수</th>\n",
       "      <th>중상자수</th>\n",
       "      <th>경상자수</th>\n",
       "      <th>부상신고자수</th>\n",
       "      <th>경도</th>\n",
       "      <th>위도</th>\n",
       "      <th>다발지역폴리곤</th>\n",
       "      <th>시도</th>\n",
       "      <th>구군</th>\n",
       "    </tr>\n",
       "  </thead>\n",
       "  <tbody>\n",
       "    <tr>\n",
       "      <th>0</th>\n",
       "      <td>6345678</td>\n",
       "      <td>2017081</td>\n",
       "      <td>1141011800</td>\n",
       "      <td>110811001</td>\n",
       "      <td>서울 서울서대문1</td>\n",
       "      <td>서울특별시 서대문구 홍은동(명지대입구 부근)</td>\n",
       "      <td>9</td>\n",
       "      <td>10</td>\n",
       "      <td>0</td>\n",
       "      <td>5</td>\n",
       "      <td>3</td>\n",
       "      <td>2</td>\n",
       "      <td>126.926633</td>\n",
       "      <td>37.580562</td>\n",
       "      <td>{\"type\":\"Polygon\",\"coordinates\":[[[126.8357475...</td>\n",
       "      <td>서울특별시</td>\n",
       "      <td>서대문구</td>\n",
       "    </tr>\n",
       "    <tr>\n",
       "      <th>1</th>\n",
       "      <td>6345672</td>\n",
       "      <td>2017081</td>\n",
       "      <td>1141012000</td>\n",
       "      <td>110811003</td>\n",
       "      <td>서울 서울서대문3</td>\n",
       "      <td>서울특별시 서대문구 남가좌동(가좌동광교회 부근)</td>\n",
       "      <td>5</td>\n",
       "      <td>5</td>\n",
       "      <td>0</td>\n",
       "      <td>1</td>\n",
       "      <td>4</td>\n",
       "      <td>0</td>\n",
       "      <td>126.923365</td>\n",
       "      <td>37.577264</td>\n",
       "      <td>{\"type\":\"Polygon\",\"coordinates\":[[[126.9111590...</td>\n",
       "      <td>서울특별시</td>\n",
       "      <td>서대문구</td>\n",
       "    </tr>\n",
       "    <tr>\n",
       "      <th>2</th>\n",
       "      <td>6345679</td>\n",
       "      <td>2017081</td>\n",
       "      <td>1144010400</td>\n",
       "      <td>111511001</td>\n",
       "      <td>서울 서울마포1</td>\n",
       "      <td>서울특별시 마포구 도화동(진도빌딩 부근)</td>\n",
       "      <td>7</td>\n",
       "      <td>8</td>\n",
       "      <td>0</td>\n",
       "      <td>2</td>\n",
       "      <td>6</td>\n",
       "      <td>0</td>\n",
       "      <td>126.947766</td>\n",
       "      <td>37.540450</td>\n",
       "      <td>{\"type\":\"Polygon\",\"coordinates\":[[[128.9866759...</td>\n",
       "      <td>서울특별시</td>\n",
       "      <td>마포구</td>\n",
       "    </tr>\n",
       "    <tr>\n",
       "      <th>3</th>\n",
       "      <td>6345478</td>\n",
       "      <td>2017081</td>\n",
       "      <td>1144012100</td>\n",
       "      <td>111511002</td>\n",
       "      <td>서울 서울마포2</td>\n",
       "      <td>서울특별시 마포구 동교동(청원제일주유소 부근)</td>\n",
       "      <td>5</td>\n",
       "      <td>5</td>\n",
       "      <td>0</td>\n",
       "      <td>0</td>\n",
       "      <td>4</td>\n",
       "      <td>1</td>\n",
       "      <td>126.922843</td>\n",
       "      <td>37.556245</td>\n",
       "      <td>{\"type\":\"Polygon\",\"coordinates\":[[[126.6712885...</td>\n",
       "      <td>서울특별시</td>\n",
       "      <td>마포구</td>\n",
       "    </tr>\n",
       "    <tr>\n",
       "      <th>4</th>\n",
       "      <td>6345528</td>\n",
       "      <td>2017081</td>\n",
       "      <td>1147010200</td>\n",
       "      <td>112911002</td>\n",
       "      <td>서울 서울양천2</td>\n",
       "      <td>서울특별시 양천구 목동(목동사거리 부근)</td>\n",
       "      <td>7</td>\n",
       "      <td>7</td>\n",
       "      <td>1</td>\n",
       "      <td>1</td>\n",
       "      <td>5</td>\n",
       "      <td>0</td>\n",
       "      <td>126.863526</td>\n",
       "      <td>37.532372</td>\n",
       "      <td>{\"type\":\"Polygon\",\"coordinates\":[[[129.0659134...</td>\n",
       "      <td>서울특별시</td>\n",
       "      <td>양천구</td>\n",
       "    </tr>\n",
       "  </tbody>\n",
       "</table>\n",
       "</div>"
      ],
      "text/plain": [
       "    다발지식별자  다발지그룹식별자       법정동코드       스팟코드      관할경찰서  \\\n",
       "0  6345678   2017081  1141011800  110811001  서울 서울서대문1   \n",
       "1  6345672   2017081  1141012000  110811003  서울 서울서대문3   \n",
       "2  6345679   2017081  1144010400  111511001   서울 서울마포1   \n",
       "3  6345478   2017081  1144012100  111511002   서울 서울마포2   \n",
       "4  6345528   2017081  1147010200  112911002   서울 서울양천2   \n",
       "\n",
       "                         다발지명  발생건수  사상자수  사망자수  중상자수  경상자수  부상신고자수  \\\n",
       "0    서울특별시 서대문구 홍은동(명지대입구 부근)     9    10     0     5     3       2   \n",
       "1  서울특별시 서대문구 남가좌동(가좌동광교회 부근)     5     5     0     1     4       0   \n",
       "2      서울특별시 마포구 도화동(진도빌딩 부근)     7     8     0     2     6       0   \n",
       "3   서울특별시 마포구 동교동(청원제일주유소 부근)     5     5     0     0     4       1   \n",
       "4      서울특별시 양천구 목동(목동사거리 부근)     7     7     1     1     5       0   \n",
       "\n",
       "           경도         위도                                            다발지역폴리곤  \\\n",
       "0  126.926633  37.580562  {\"type\":\"Polygon\",\"coordinates\":[[[126.8357475...   \n",
       "1  126.923365  37.577264  {\"type\":\"Polygon\",\"coordinates\":[[[126.9111590...   \n",
       "2  126.947766  37.540450  {\"type\":\"Polygon\",\"coordinates\":[[[128.9866759...   \n",
       "3  126.922843  37.556245  {\"type\":\"Polygon\",\"coordinates\":[[[126.6712885...   \n",
       "4  126.863526  37.532372  {\"type\":\"Polygon\",\"coordinates\":[[[129.0659134...   \n",
       "\n",
       "      시도    구군  \n",
       "0  서울특별시  서대문구  \n",
       "1  서울특별시  서대문구  \n",
       "2  서울특별시   마포구  \n",
       "3  서울특별시   마포구  \n",
       "4  서울특별시   양천구  "
      ]
     },
     "execution_count": 7,
     "metadata": {},
     "output_type": "execute_result"
    }
   ],
   "source": [
    "print(pedestrian.shape)\n",
    "pedestrian['시도'] = pedestrian['다발지명'].str.split(' ', expand=True)[0]\n",
    "pedestrian['구군'] = pedestrian['다발지명'].str.split(' ', expand=True)[1]\n",
    "print(pedestrian.shape)\n",
    "pedestrian.head()"
   ]
  },
  {
   "cell_type": "code",
   "execution_count": 8,
   "metadata": {},
   "outputs": [
    {
     "data": {
      "image/png": "[encoded data removed]",
      "text/plain": [
       "<matplotlib.figure.Figure at 0x1146ba940>"
      ]
     },
     "metadata": {},
     "output_type": "display_data"
    },
    {
     "data": {
      "text/plain": [
       "<ggplot: (-9223372036564966172)>"
      ]
     },
     "execution_count": 8,
     "metadata": {},
     "output_type": "execute_result"
    }
   ],
   "source": [
    "(ggplot(pedestrian)\n",
    " + aes(x='위도', y='경도', color='시도')\n",
    " + geom_point()\n",
    " + theme(text=element_text(family='NanumBarunGothic'))\n",
    ")"
   ]
  },
  {
   "cell_type": "code",
   "execution_count": null,
   "metadata": {},
   "outputs": [],
   "source": []
  }
 ],
 "metadata": {
  "kernelspec": {
   "display_name": "Python 3",
   "language": "python",
   "name": "python3"
  },
  "language_info": {
   "codemirror_mode": {
    "name": "ipython",
    "version": 3
   },
   "file_extension": ".py",
   "mimetype": "text/x-python",
   "name": "python",
   "nbconvert_exporter": "python",
   "pygments_lexer": "ipython3",
   "version": "3.6.1"
  }
 },
 "nbformat": 4,
 "nbformat_minor": 2
}
