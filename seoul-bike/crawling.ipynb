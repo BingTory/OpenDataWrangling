{
 "cells": [
  {
   "cell_type": "markdown",
   "metadata": {},
   "source": [
    "# 크롤링으로 위경도 가져오기"
   ]
  },
  {
   "cell_type": "code",
   "execution_count": 1,
   "metadata": {},
   "outputs": [],
   "source": [
    "import requests\n",
    "from bs4 import BeautifulSoup as bs\n",
    "import random\n",
    "import time\n",
    "from tqdm import tqdm, trange\n",
    "\n",
    "rent_stations = []\n",
    "base_url = 'https://www.bikeseoul.com/app/station/moveStationSearchView.do?currentPageNo='\n",
    "\n",
    "def crawling_rent_station(start, end):\n",
    "    for num in trange(start, end+1):\n",
    "        page_source = requests.get( base_url + str(num))\n",
    "        soup = bs(page_source.text, 'html.parser')\n",
    "        loc_table = soup.select('table.psboard1 > tbody')[0].find_all('tr')\n",
    "        for row in loc_table:\n",
    "            loc_info = []\n",
    "            loc_name = row.select('td.pl10')[0].get_text(strip=True)\n",
    "            if '.' in loc_name:\n",
    "                loc_info.append(loc_name.split('.')[-1].lstrip())\n",
    "            else:\n",
    "                loc_info.append(loc_name)\n",
    "            # 운영여부\n",
    "            loc_info.append(row.select('td.pl10')[1].get_text(strip=True))\n",
    "            # 주소\n",
    "            loc_info.append(row.select('td.mhid')[0].get_text(strip=True))\n",
    "            # 위도, 경도\n",
    "            loc_geo = row.find('a')['param-data'].split(',')\n",
    "            loc_info.append(loc_geo[0])\n",
    "            loc_info.append(loc_geo[1])\n",
    "            # 리스트에 대여소 추가\n",
    "            rent_stations.append(loc_info) \n",
    "        time.sleep(random.randint(1,3))\n",
    "    return rent_stations"
   ]
  },
  {
   "cell_type": "code",
   "execution_count": 2,
   "metadata": {},
   "outputs": [
    {
     "name": "stderr",
     "output_type": "stream",
     "text": [
      "100%|██████████| 293/293 [13:17<00:00,  2.72s/it]\n"
     ]
    }
   ],
   "source": [
    "# 처음엔 한 두 페이지정도를 크롤링해보고 정상으로 동작하면 전체를 크롤링한다.\n",
    "# rent_stations = crawling_rent_station(1, 2)\n",
    "rent_stations = crawling_rent_station(1, 293)"
   ]
  },
  {
   "cell_type": "code",
   "execution_count": 3,
   "metadata": {},
   "outputs": [
    {
     "data": {
      "text/plain": [
       "(1461, 5)"
      ]
     },
     "execution_count": 3,
     "metadata": {},
     "output_type": "execute_result"
    }
   ],
   "source": [
    "import pandas as pd\n",
    "header = ['대여소','상태','주소','위도','경도']\n",
    "df = pd.DataFrame.from_records(rent_stations, columns = header)\n",
    "df.shape"
   ]
  },
  {
   "cell_type": "code",
   "execution_count": 4,
   "metadata": {},
   "outputs": [
    {
     "data": {
      "text/html": [
       "<div>\n",
       "<style scoped>\n",
       "    .dataframe tbody tr th:only-of-type {\n",
       "        vertical-align: middle;\n",
       "    }\n",
       "\n",
       "    .dataframe tbody tr th {\n",
       "        vertical-align: top;\n",
       "    }\n",
       "\n",
       "    .dataframe thead th {\n",
       "        text-align: right;\n",
       "    }\n",
       "</style>\n",
       "<table border=\"1\" class=\"dataframe\">\n",
       "  <thead>\n",
       "    <tr style=\"text-align: right;\">\n",
       "      <th></th>\n",
       "      <th>대여소</th>\n",
       "      <th>상태</th>\n",
       "      <th>주소</th>\n",
       "      <th>위도</th>\n",
       "      <th>경도</th>\n",
       "    </tr>\n",
       "  </thead>\n",
       "  <tbody>\n",
       "    <tr>\n",
       "      <th>0</th>\n",
       "      <td>광진교 남단 사거리(디지털프라자앞)</td>\n",
       "      <td>운영중</td>\n",
       "      <td>서울특별시 강동구 구천면로 171 376 남단사거리</td>\n",
       "      <td>37.541805</td>\n",
       "      <td>127.124718</td>\n",
       "    </tr>\n",
       "    <tr>\n",
       "      <th>1</th>\n",
       "      <td>해공공원(천호동)</td>\n",
       "      <td>운영중</td>\n",
       "      <td>서울특별시 강동구 올림픽로 702 265</td>\n",
       "      <td>37.545219</td>\n",
       "      <td>127.125916</td>\n",
       "    </tr>\n",
       "    <tr>\n",
       "      <th>2</th>\n",
       "      <td>해공도서관앞</td>\n",
       "      <td>운영중</td>\n",
       "      <td>서울특별시 강동구 올림픽로 702 367</td>\n",
       "      <td>37.543915</td>\n",
       "      <td>127.125458</td>\n",
       "    </tr>\n",
       "    <tr>\n",
       "      <th>3</th>\n",
       "      <td>삼성광나루아파트 버스정류장</td>\n",
       "      <td>운영중</td>\n",
       "      <td>서울특별시 강동구 상암로3길 77 암사동 534</td>\n",
       "      <td>37.553349</td>\n",
       "      <td>127.128860</td>\n",
       "    </tr>\n",
       "    <tr>\n",
       "      <th>4</th>\n",
       "      <td>롯데캐슬 115동앞</td>\n",
       "      <td>운영중</td>\n",
       "      <td>서울특별시 강동구 양재대로 1665 명일동 304</td>\n",
       "      <td>37.554920</td>\n",
       "      <td>127.142799</td>\n",
       "    </tr>\n",
       "  </tbody>\n",
       "</table>\n",
       "</div>"
      ],
      "text/plain": [
       "                   대여소   상태                            주소         위도  \\\n",
       "0  광진교 남단 사거리(디지털프라자앞)  운영중  서울특별시 강동구 구천면로 171 376 남단사거리  37.541805   \n",
       "1            해공공원(천호동)  운영중        서울특별시 강동구 올림픽로 702 265  37.545219   \n",
       "2               해공도서관앞  운영중        서울특별시 강동구 올림픽로 702 367  37.543915   \n",
       "3       삼성광나루아파트 버스정류장  운영중    서울특별시 강동구 상암로3길 77 암사동 534  37.553349   \n",
       "4           롯데캐슬 115동앞  운영중   서울특별시 강동구 양재대로 1665 명일동 304  37.554920   \n",
       "\n",
       "           경도  \n",
       "0  127.124718  \n",
       "1  127.125916  \n",
       "2  127.125458  \n",
       "3  127.128860  \n",
       "4  127.142799  "
      ]
     },
     "execution_count": 4,
     "metadata": {},
     "output_type": "execute_result"
    }
   ],
   "source": [
    "df.head()"
   ]
  },
  {
   "cell_type": "code",
   "execution_count": 5,
   "metadata": {},
   "outputs": [],
   "source": [
    "df.to_csv('data/bike_rent_station.csv', index=False)"
   ]
  },
  {
   "cell_type": "code",
   "execution_count": 6,
   "metadata": {},
   "outputs": [
    {
     "name": "stdout",
     "output_type": "stream",
     "text": [
      "bike_rent_station.csv\n",
      "bike_rent_station_gu.csv\n",
      "seoul-bike-2018.csv\n",
      "서울_공공자전거_따릉이_이용현황자료_20161026.xlsx\n",
      "서울특별시 공공자전거 대여이력 정보_2015년.csv\n",
      "서울특별시 공공자전거 대여이력 정보_2016년_1.csv\n",
      "서울특별시 공공자전거 대여이력 정보_2016년_2.csv\n",
      "서울특별시 공공자전거 대여이력 정보_2016년_3.csv\n",
      "서울특별시 공공자전거 대여이력 정보_2017년_1.csv\n",
      "서울특별시 공공자전거 대여이력 정보_2017년_2분기_1.csv\n",
      "서울특별시 공공자전거 대여이력 정보_2017년_2분기_2.csv\n",
      "서울특별시 공공자전거 대여이력 정보_2017년_3분기_1.csv\n",
      "서울특별시 공공자전거 대여이력 정보_2017년_3분기_2.csv\n",
      "서울특별시 공공자전거 대여이력 정보_2017년_4분기_1.csv\n",
      "서울특별시 공공자전거 대여이력 정보_2017년_4분기_2.csv\n",
      "서울특별시 공공자전거 대여이력 정보_2018년_1분기1.csv\n",
      "서울특별시 공공자전거 대여이력 정보_2018년_2분기_1.csv\n",
      "서울특별시 공공자전거 대여이력 정보_2018년_2분기_2.csv\n",
      "서울특별시 공공자전거 대여이력 정보_2018년_2분기_3.csv\n",
      "서울특별시 공공자전거 대여이력 정보_2018년_2분기_4.csv\n"
     ]
    }
   ],
   "source": [
    "# 파일이 제대로 생성되었는지 확인\n",
    "%ls data"
   ]
  },
  {
   "cell_type": "code",
   "execution_count": null,
   "metadata": {},
   "outputs": [],
   "source": []
  }
 ],
 "metadata": {
  "kernelspec": {
   "display_name": "Python 3",
   "language": "python",
   "name": "python3"
  },
  "language_info": {
   "codemirror_mode": {
    "name": "ipython",
    "version": 3
   },
   "file_extension": ".py",
   "mimetype": "text/x-python",
   "name": "python",
   "nbconvert_exporter": "python",
   "pygments_lexer": "ipython3",
   "version": "3.6.1"
  }
 },
 "nbformat": 4,
 "nbformat_minor": 2
}
